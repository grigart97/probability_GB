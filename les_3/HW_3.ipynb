{
 "cells": [
  {
   "cell_type": "markdown",
   "metadata": {},
   "source": [
    "## Практическое задание 3"
   ]
  },
  {
   "cell_type": "code",
   "execution_count": 2,
   "metadata": {},
   "outputs": [],
   "source": [
    "import numpy as np\n",
    "import pandas as pd\n",
    "from matplotlib import pyplot as plt"
   ]
  },
  {
   "cell_type": "markdown",
   "metadata": {},
   "source": [
    "### __Задача 1__\n",
    "\n",
    "Даны значения зарплат из выборки выпускников: \n",
    "```\n",
    "100, 80, 75, 77, 89, 33, 45, 25, 65, 17, 30, 24, 57, 55, 70, 75, 65, 84, 90, 150.\n",
    "```\n",
    "Без использования статистических функций вроде `mean`, `std`, `var`, посчитать среднее арифметическое, среднее квадратичное отклонение, смещенную и несмещенную оценки дисперсий для данной выборки.\n",
    "\n",
    "Можно затем посчитать те же значения с использованием статистических функций, чтобы проверить себя."
   ]
  },
  {
   "cell_type": "code",
   "execution_count": 21,
   "metadata": {},
   "outputs": [
    {
     "name": "stdout",
     "output_type": "stream",
     "text": [
      "65.3 & 65.3\n"
     ]
    }
   ],
   "source": [
    "a_task1 = pd.DataFrame([100, 80, 75, 77, 89, 33, 45, 25, 65, 17, 30, 24, 57, 55, 70, 75, 65, 84, 90, 150], columns=['salary'])\n",
    "\n",
    "M_task1 = a_task1['salary'].sum() / a_task1['salary'].count()\n",
    "print(M_task1, '&', a_task1['salary'].mean())"
   ]
  },
  {
   "cell_type": "code",
   "execution_count": 23,
   "metadata": {},
   "outputs": [
    {
     "name": "stdout",
     "output_type": "stream",
     "text": [
      "950.11 & 950.11 \n",
      " 1000.1157894736842 & 1000.1157894736842\n"
     ]
    }
   ],
   "source": [
    "var_off_task1 = ((a_task1['salary'] - M_task1) ** 2).sum() / a_task1['salary'].count()\n",
    "var_noff_task1 = ((a_task1['salary'] - M_task1) ** 2).sum() / (a_task1['salary'].count() - 1)\n",
    "print(var_off_task1, '&', a_task1['salary'].var(ddof=0), '\\n', var_noff_task1, '&', a_task1['salary'].var(ddof=1))"
   ]
  },
  {
   "cell_type": "code",
   "execution_count": 24,
   "metadata": {},
   "outputs": [
    {
     "name": "stdout",
     "output_type": "stream",
     "text": [
      "30.823854398825596 & 30.823854398825596 \n",
      " 31.624607341019814 & 31.624607341019814\n"
     ]
    }
   ],
   "source": [
    "std_off_task1 = np.sqrt(var_off_task1)\n",
    "std_noff_task1 = np.sqrt(var_noff_task1)\n",
    "print(std_off_task1, '&', a_task1['salary'].std(ddof=0), '\\n', std_noff_task1, '&', a_task1['salary'].std(ddof=1))"
   ]
  },
  {
   "cell_type": "markdown",
   "metadata": {},
   "source": [
    "### __Задача 2__\n",
    "\n",
    "Для выборки из задачи 1 найти первый и третий квартили, интерквартильное расстояние. Найти выборсы в выборке, используя для этого \"усы\" из `boxplot`. В этой задаче можно использовать статистические функции."
   ]
  },
  {
   "cell_type": "code",
   "execution_count": 26,
   "metadata": {},
   "outputs": [
    {
     "data": {
      "text/plain": [
       "0.25    42.0\n",
       "0.75    81.0\n",
       "Name: salary, dtype: float64"
      ]
     },
     "execution_count": 26,
     "metadata": {},
     "output_type": "execute_result"
    }
   ],
   "source": [
    "a_task1['salary'].quantile([0.25, 0.75])"
   ]
  },
  {
   "cell_type": "code",
   "execution_count": 31,
   "metadata": {},
   "outputs": [
    {
     "data": {
      "image/png": "[encoded data removed]",
      "text/plain": [
       "<Figure size 432x288 with 1 Axes>"
      ]
     },
     "metadata": {
      "needs_background": "light"
     },
     "output_type": "display_data"
    }
   ],
   "source": [
    "plt.boxplot(a_task1['salary'])\n",
    "plt.show()"
   ]
  },
  {
   "cell_type": "markdown",
   "metadata": {},
   "source": [
    "Выброс один. Найдём его функцией _max()_"
   ]
  },
  {
   "cell_type": "code",
   "execution_count": 32,
   "metadata": {},
   "outputs": [
    {
     "data": {
      "text/plain": [
       "150"
      ]
     },
     "execution_count": 32,
     "metadata": {},
     "output_type": "execute_result"
    }
   ],
   "source": [
    "a_task1['salary'].max()"
   ]
  },
  {
   "cell_type": "markdown",
   "metadata": {},
   "source": [
    "### __Задача 3__\n",
    "\n",
    "В университет на факультеты `A` и `B` поступило равное количество студентов, а на факультет `C` студентов поступило столько же, сколько на `A` и `B` вместе. Вероятность того, что студент факультета `A` сдаст первую сессию, равна 0.8. Для студента факультета `B` эта вероятность равна 0.7, а для студента факультета `C` - 0.9. Студент сдал первую сессию. Какова вероятность, что он учится: a) на факультете `A`? б) на факультете `B`? в) на факультете `C`?\n",
    "\n",
    "_Замечание_: да, эта задача не на тему описательных статистик, но тема важная, и её стоит иногда освежать в памяти."
   ]
  },
  {
   "cell_type": "markdown",
   "metadata": {},
   "source": [
    "* $Q$ - Студень сдал сессиюй;\n",
    "* $H_A$ - Студент из факультета A $(P(H_A)=0.25)$;\n",
    "* $H_B$ - Студент из факультета B $(P(H_B)=0.25)$;\n",
    "* $H_C$ - Студент из факультета C $(P(H_C)=0.5)$;\n",
    "* $P(Q|H_A)=0.8$;\n",
    "* $P(Q|H_B)=0.7$;\n",
    "* $P(Q|H_C)=0.9$;"
   ]
  },
  {
   "cell_type": "markdown",
   "metadata": {},
   "source": [
    "Необходимо найти: a) $P(H_A|Q)$; б) $P(H_B|Q)$; в) $P(H_C|Q)$"
   ]
  },
  {
   "cell_type": "markdown",
   "metadata": {},
   "source": [
    "Для этого необходимо воспользоваться формулой **Байеса**:"
   ]
  },
  {
   "cell_type": "markdown",
   "metadata": {},
   "source": [
    "$$P(H_n|Q)=\\frac{P(Q|H_n)\\cdot P(H_n)}{P(Q)}$$"
   ]
  },
  {
   "cell_type": "markdown",
   "metadata": {},
   "source": [
    "Для этого найдём $P(Q)$ по формуле **полной вероятности**:"
   ]
  },
  {
   "cell_type": "markdown",
   "metadata": {},
   "source": [
    "$$P(Q) = P(Q|H_A)\\cdot P(H_A)+P(Q|H_B)\\cdot P(H_B)+P(Q|H_C)\\cdot P(H_C)=0.8\\cdot0.25+0.7\\cdot0.25+0.9\\cdot0.5=0.825$$"
   ]
  },
  {
   "cell_type": "code",
   "execution_count": 1,
   "metadata": {},
   "outputs": [
    {
     "data": {
      "text/plain": [
       "0.825"
      ]
     },
     "execution_count": 1,
     "metadata": {},
     "output_type": "execute_result"
    }
   ],
   "source": [
    "0.8 * 0.25 + 0.7 * 0.25 + 0.9 * 0.5"
   ]
  },
  {
   "cell_type": "markdown",
   "metadata": {},
   "source": [
    "$$a)\\enspace P(H_A|Q)=\\frac{0.8\\cdot0.25}{0.825}=\\frac{8}{33};$$  \n",
    "$$б)\\enspace P(H_B|Q)=\\frac{0.7\\cdot0.25}{0.825}=\\frac{7}{33};$$  \n",
    "$$в)\\enspace P(H_C|Q)=\\frac{0.9\\cdot0.5}{0.825}=\\frac{18}{33}$$"
   ]
  },
  {
   "cell_type": "code",
   "execution_count": 3,
   "metadata": {},
   "outputs": [
    {
     "data": {
      "text/plain": [
       "(0.24242424242424243, 0.21212121212121213, 0.5454545454545454)"
      ]
     },
     "execution_count": 3,
     "metadata": {},
     "output_type": "execute_result"
    }
   ],
   "source": [
    "8 / 33, 7 / 33, 18 / 33"
   ]
  },
  {
   "cell_type": "code",
   "execution_count": 2,
   "metadata": {},
   "outputs": [
    {
     "data": {
      "text/plain": [
       "(0.24242424242424246, 0.21212121212121213, 0.5454545454545455)"
      ]
     },
     "execution_count": 2,
     "metadata": {},
     "output_type": "execute_result"
    }
   ],
   "source": [
    "0.8 * 0.25 / 0.825, 0.7 * 0.25 / 0.825, 0.9 * 0.5 / 0.825"
   ]
  }
 ],
 "metadata": {
  "kernelspec": {
   "display_name": "Python 3",
   "language": "python",
   "name": "python3"
  },
  "language_info": {
   "codemirror_mode": {
    "name": "ipython",
    "version": 3
   },
   "file_extension": ".py",
   "mimetype": "text/x-python",
   "name": "python",
   "nbconvert_exporter": "python",
   "pygments_lexer": "ipython3",
   "version": "3.8.5"
  }
 },
 "nbformat": 4,
 "nbformat_minor": 4
}
