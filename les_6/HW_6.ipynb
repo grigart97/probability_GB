{
 "cells": [
  {
   "cell_type": "markdown",
   "id": "22faab0f",
   "metadata": {},
   "source": [
    "## Домашнее задание 6"
   ]
  },
  {
   "cell_type": "code",
   "execution_count": 35,
   "id": "5d76d5a1",
   "metadata": {},
   "outputs": [],
   "source": [
    "import numpy as np\n",
    "import pandas as pd\n",
    "from scipy import stats"
   ]
  },
  {
   "cell_type": "markdown",
   "id": "803cc60e",
   "metadata": {},
   "source": [
    "### __Задача 1__\n",
    "\n",
    "Даны значения величины заработной платы заемщиков банка (`salary`) и значения их поведенческого кредитного скоринга (`scoring`):\n",
    "```\n",
    "salary = [35, 45, 190, 200, 40, 70, 54, 150, 120, 110]\n",
    "scoring = [401, 574, 874, 919, 459, 739, 653, 902, 746, 832]\n",
    "```\n",
    "1. Найдите ковариацию этих двух величин: сначала без использования специальных функций, а затем с помощью функции `numpy.cov`. Полученные значения должны быть равны.\n",
    "2. Найдите коэффициент корреляции Пирсона: с помощью ковариации и средних квадратических отклонений двух признаков, а затем с помощью специальных функций из библиотек `numpy` и `pandas`."
   ]
  },
  {
   "cell_type": "code",
   "execution_count": 16,
   "id": "f08137de",
   "metadata": {},
   "outputs": [
    {
     "data": {
      "text/html": [
       "<div>\n",
       "<style scoped>\n",
       "    .dataframe tbody tr th:only-of-type {\n",
       "        vertical-align: middle;\n",
       "    }\n",
       "\n",
       "    .dataframe tbody tr th {\n",
       "        vertical-align: top;\n",
       "    }\n",
       "\n",
       "    .dataframe thead th {\n",
       "        text-align: right;\n",
       "    }\n",
       "</style>\n",
       "<table border=\"1\" class=\"dataframe\">\n",
       "  <thead>\n",
       "    <tr style=\"text-align: right;\">\n",
       "      <th></th>\n",
       "      <th>salary</th>\n",
       "      <th>scoring</th>\n",
       "    </tr>\n",
       "  </thead>\n",
       "  <tbody>\n",
       "    <tr>\n",
       "      <th>0</th>\n",
       "      <td>35</td>\n",
       "      <td>401</td>\n",
       "    </tr>\n",
       "    <tr>\n",
       "      <th>1</th>\n",
       "      <td>45</td>\n",
       "      <td>574</td>\n",
       "    </tr>\n",
       "    <tr>\n",
       "      <th>2</th>\n",
       "      <td>190</td>\n",
       "      <td>874</td>\n",
       "    </tr>\n",
       "    <tr>\n",
       "      <th>3</th>\n",
       "      <td>200</td>\n",
       "      <td>919</td>\n",
       "    </tr>\n",
       "    <tr>\n",
       "      <th>4</th>\n",
       "      <td>40</td>\n",
       "      <td>459</td>\n",
       "    </tr>\n",
       "    <tr>\n",
       "      <th>5</th>\n",
       "      <td>70</td>\n",
       "      <td>739</td>\n",
       "    </tr>\n",
       "    <tr>\n",
       "      <th>6</th>\n",
       "      <td>54</td>\n",
       "      <td>653</td>\n",
       "    </tr>\n",
       "    <tr>\n",
       "      <th>7</th>\n",
       "      <td>150</td>\n",
       "      <td>902</td>\n",
       "    </tr>\n",
       "    <tr>\n",
       "      <th>8</th>\n",
       "      <td>120</td>\n",
       "      <td>746</td>\n",
       "    </tr>\n",
       "    <tr>\n",
       "      <th>9</th>\n",
       "      <td>110</td>\n",
       "      <td>832</td>\n",
       "    </tr>\n",
       "  </tbody>\n",
       "</table>\n",
       "</div>"
      ],
      "text/plain": [
       "   salary  scoring\n",
       "0      35      401\n",
       "1      45      574\n",
       "2     190      874\n",
       "3     200      919\n",
       "4      40      459\n",
       "5      70      739\n",
       "6      54      653\n",
       "7     150      902\n",
       "8     120      746\n",
       "9     110      832"
      ]
     },
     "execution_count": 16,
     "metadata": {},
     "output_type": "execute_result"
    }
   ],
   "source": [
    "df_task1 = pd.DataFrame([[35, 45, 190, 200, 40, 70, 54, 150, 120, 110], \n",
    "                        [401, 574, 874, 919, 459, 739, 653, 902, 746, 832]], columns=[i for i in range(10)])\n",
    "df_task1 = df_task1.T.rename(columns={0:'salary', 1:'scoring'})\n",
    "df_task1"
   ]
  },
  {
   "cell_type": "code",
   "execution_count": 27,
   "id": "3a16b86e",
   "metadata": {
    "scrolled": true
   },
   "outputs": [
    {
     "name": "stdout",
     "output_type": "stream",
     "text": [
      " по формуле: \t 10175.37777777778 \n",
      " по функции: \t 10175.377777777778\n"
     ]
    }
   ],
   "source": [
    "X = df_task1['salary']\n",
    "Y = df_task1['scoring']\n",
    "\n",
    "cov_task1 = ((X - X.mean()) * (Y - Y.mean())).sum() / (X.shape[0] - 1)\n",
    "print(' по формуле:', '\\t', cov_task1, '\\n', 'по функции:', '\\t', np.cov(X, Y)[0][1])"
   ]
  },
  {
   "cell_type": "markdown",
   "id": "eab589bc",
   "metadata": {},
   "source": [
    "__коэффициент корреляции Пирсона__:\n",
    "$$r_{XY} = \\dfrac{\\sigma_{XY}}{\\sigma_X \\cdot \\sigma_Y}$$"
   ]
  },
  {
   "cell_type": "code",
   "execution_count": 31,
   "id": "d241a91d",
   "metadata": {},
   "outputs": [
    {
     "data": {
      "text/plain": [
       "0.8874900920739163"
      ]
     },
     "execution_count": 31,
     "metadata": {},
     "output_type": "execute_result"
    }
   ],
   "source": [
    "corr_task1 = cov_task1 / X.std(ddof=1) / Y.std(ddof=1)\n",
    "corr_task1"
   ]
  },
  {
   "cell_type": "code",
   "execution_count": 32,
   "id": "38d1d2e9",
   "metadata": {},
   "outputs": [
    {
     "data": {
      "text/html": [
       "<div>\n",
       "<style scoped>\n",
       "    .dataframe tbody tr th:only-of-type {\n",
       "        vertical-align: middle;\n",
       "    }\n",
       "\n",
       "    .dataframe tbody tr th {\n",
       "        vertical-align: top;\n",
       "    }\n",
       "\n",
       "    .dataframe thead th {\n",
       "        text-align: right;\n",
       "    }\n",
       "</style>\n",
       "<table border=\"1\" class=\"dataframe\">\n",
       "  <thead>\n",
       "    <tr style=\"text-align: right;\">\n",
       "      <th></th>\n",
       "      <th>salary</th>\n",
       "      <th>scoring</th>\n",
       "    </tr>\n",
       "  </thead>\n",
       "  <tbody>\n",
       "    <tr>\n",
       "      <th>salary</th>\n",
       "      <td>1.00000</td>\n",
       "      <td>0.88749</td>\n",
       "    </tr>\n",
       "    <tr>\n",
       "      <th>scoring</th>\n",
       "      <td>0.88749</td>\n",
       "      <td>1.00000</td>\n",
       "    </tr>\n",
       "  </tbody>\n",
       "</table>\n",
       "</div>"
      ],
      "text/plain": [
       "          salary  scoring\n",
       "salary   1.00000  0.88749\n",
       "scoring  0.88749  1.00000"
      ]
     },
     "execution_count": 32,
     "metadata": {},
     "output_type": "execute_result"
    }
   ],
   "source": [
    "df_task1.corr()"
   ]
  },
  {
   "cell_type": "code",
   "execution_count": 33,
   "id": "bfd7d243",
   "metadata": {},
   "outputs": [
    {
     "data": {
      "text/plain": [
       "array([[1.        , 0.88749009],\n",
       "       [0.88749009, 1.        ]])"
      ]
     },
     "execution_count": 33,
     "metadata": {},
     "output_type": "execute_result"
    }
   ],
   "source": [
    "np.corrcoef(X, Y)"
   ]
  },
  {
   "cell_type": "markdown",
   "id": "80f6b293",
   "metadata": {},
   "source": [
    "### __Задача 2__\n",
    "\n",
    "Измерены значения IQ выборки студентов, обучающихся в местных технических вузах:\n",
    "```\n",
    "131, 125, 115, 122, 131, 115, 107, 99, 125, 111\n",
    "```\n",
    "Известно, что в генеральной совокупности IQ распределен нормально. Найдите доверительный интервал для математического ожидания с надежностью 0.95."
   ]
  },
  {
   "cell_type": "markdown",
   "id": "7e191ee3",
   "metadata": {},
   "source": [
    "$$P(t_{\\alpha/2}\\leq Z\\leq t_{1-\\alpha/2})=p$$  \n",
    "$$P(\\overline{X}-t_{1-\\alpha/2}\\frac{\\sigma}{\\sqrt{n}}\\leq\\mu\\leq \\overline{X}-t_{\\alpha/2}\\frac{\\sigma}{\\sqrt{n}})=p$$"
   ]
  },
  {
   "cell_type": "code",
   "execution_count": 37,
   "id": "d8e6514b",
   "metadata": {},
   "outputs": [
    {
     "data": {
      "text/plain": [
       "(111.56384743341334, 124.63615256658665)"
      ]
     },
     "execution_count": 37,
     "metadata": {},
     "output_type": "execute_result"
    }
   ],
   "source": [
    "samples_task2 = np.array([131, 125, 115, 122, 131, 115, 107, 99, 125, 111])\n",
    "mean_task2 = samples_task2.mean()\n",
    "std_task2 = samples_task2.std(ddof=1)\n",
    "n_task2 = samples_task2.shape[0]\n",
    "p_task2 = 0.95\n",
    "t1, t2 = stats.norm.ppf((1 - p_task2) / 2), stats.norm.ppf(1 - (1 - p_task2) / 2)\n",
    "mean_task2 - t2 * std_task2 / np.sqrt(n_task2), mean_task2 - t1 * std_task2 / np.sqrt(n_task2)"
   ]
  },
  {
   "cell_type": "markdown",
   "id": "bee348b7",
   "metadata": {},
   "source": [
    "### __Задача 3__\n",
    "\n",
    "Известно, что рост футболистов в сборной распределен нормально с известной дисперсией 25. На выборке объёма 27 выборочное среднее составило 174.2. Найдите доверительный интервал для математического ожидания с надежностью 0.95"
   ]
  },
  {
   "cell_type": "code",
   "execution_count": 38,
   "id": "a9d02ae7",
   "metadata": {},
   "outputs": [
    {
     "data": {
      "text/plain": [
       "(172.3140237765397, 176.08597622346028)"
      ]
     },
     "execution_count": 38,
     "metadata": {},
     "output_type": "execute_result"
    }
   ],
   "source": [
    "std_task3 = np.sqrt(25)\n",
    "n_task3 = 27\n",
    "mean_task3 = 174.2\n",
    "p_task3 = 0.95\n",
    "\n",
    "mean_task3 - t2 * std_task3 / np.sqrt(n_task3), mean_task3 - t1 * std_task3 / np.sqrt(n_task3)"
   ]
  }
 ],
 "metadata": {
  "kernelspec": {
   "display_name": "Python 3 (ipykernel)",
   "language": "python",
   "name": "python3"
  },
  "language_info": {
   "codemirror_mode": {
    "name": "ipython",
    "version": 3
   },
   "file_extension": ".py",
   "mimetype": "text/x-python",
   "name": "python",
   "nbconvert_exporter": "python",
   "pygments_lexer": "ipython3",
   "version": "3.9.6"
  }
 },
 "nbformat": 4,
 "nbformat_minor": 5
}
