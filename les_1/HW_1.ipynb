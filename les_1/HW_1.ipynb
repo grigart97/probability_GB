{
 "cells": [
  {
   "cell_type": "markdown",
   "metadata": {},
   "source": [
    "## Практическое задание 1"
   ]
  },
  {
   "cell_type": "code",
   "execution_count": 1,
   "metadata": {},
   "outputs": [],
   "source": [
    "import numpy as np\n",
    "\n",
    "def combinations(n, k):\n",
    "    return np.math.factorial(n) // (np.math.factorial(k) * np.math.factorial(n - k))\n",
    "\n",
    "def permutations(n):\n",
    "    return np.math.factorial(n)\n",
    "\n",
    "def arrangements(n, k):\n",
    "    return np.math.factorial(n) // np.math.factorial(n - k)"
   ]
  },
  {
   "cell_type": "markdown",
   "metadata": {},
   "source": [
    "### __Задача 1__\n",
    "\n",
    "Группа студентов изучает 10 различных дисциплин. Сколькими способами можно составить расписание на понедельник, если в этот день должно быть 4 разных занятия?"
   ]
  },
  {
   "cell_type": "markdown",
   "metadata": {},
   "source": [
    "**Решение**"
   ]
  },
  {
   "cell_type": "markdown",
   "metadata": {},
   "source": [
    "Дисциплин - 10 (_состав_), следовательно $n=10$, должно быть 4 занятия (_элементов_), следовательно $k=4$. В расписании важно расположение занятий (_элементов_), следовательно необходимо вычислить количество **размещений**."
   ]
  },
  {
   "cell_type": "markdown",
   "metadata": {},
   "source": [
    "$$A^k_n=\\frac{n!}{(n-k)!}=\\frac{10!}{6!}=7\\cdot8\\cdot9\\cdot10=5040$$"
   ]
  },
  {
   "cell_type": "code",
   "execution_count": 2,
   "metadata": {},
   "outputs": [
    {
     "data": {
      "text/plain": [
       "5040"
      ]
     },
     "execution_count": 2,
     "metadata": {},
     "output_type": "execute_result"
    }
   ],
   "source": [
    "arrangements(10, 4)"
   ]
  },
  {
   "cell_type": "markdown",
   "metadata": {},
   "source": [
    "\n",
    "### Задача 2\n",
    "\n",
    "Из колоды в 52 карты вынимают случайным образом 4 карты. Найти число исходов, соответствующих тому, что был вытянут хотя бы один туз.\n"
   ]
  },
  {
   "cell_type": "markdown",
   "metadata": {},
   "source": [
    "**Решение**"
   ]
  },
  {
   "cell_type": "markdown",
   "metadata": {},
   "source": [
    "Так как расположение вытягиваемых карт (_элементов_) неважно, необходимо найти количество сочетаний.  \n",
    "Имеется два варианта решения данной задачи:"
   ]
  },
  {
   "cell_type": "markdown",
   "metadata": {},
   "source": [
    "1) Рассчитать от обратного. Вычислить количество исходов, соответсвующих тому, что среди 4 карт нет ни одного туза и вычесть полученное значение из всех возможных вариантов 4 карт"
   ]
  },
  {
   "cell_type": "markdown",
   "metadata": {},
   "source": [
    "$$C^4_{52}=\\frac{n!}{k!(n-k)!}=\\frac{52!}{4!\\cdot48!}=\\frac{49\\cdot50\\cdot51\\cdot52}{2\\cdot3\\cdot4}=49\\cdot25\\cdot17\\cdot13=270725$$"
   ]
  },
  {
   "cell_type": "markdown",
   "metadata": {},
   "source": [
    "$$C^4_{48}=\\frac{48!}{4!\\cdot44!}=\\frac{45\\cdot46\\cdot47\\cdot48}{2\\cdot3\\cdot4}=45\\cdot46\\cdot47\\cdot2=194580$$"
   ]
  },
  {
   "cell_type": "markdown",
   "metadata": {},
   "source": [
    "$$C^4_{52}-C^4_{48}=265200-194580=76145$$"
   ]
  },
  {
   "cell_type": "code",
   "execution_count": 3,
   "metadata": {},
   "outputs": [
    {
     "data": {
      "text/plain": [
       "76145"
      ]
     },
     "execution_count": 3,
     "metadata": {},
     "output_type": "execute_result"
    }
   ],
   "source": [
    "combinations(52, 4) - combinations(48, 4)"
   ]
  },
  {
   "cell_type": "markdown",
   "metadata": {},
   "source": [
    "2) Рассчитать количество исходов для 1, 2, 3 и 4 тузов."
   ]
  },
  {
   "cell_type": "markdown",
   "metadata": {},
   "source": [
    "$${C^{1+2+3+4}_{52}}=\\frac{4!}{1!\\cdot3!}\\cdot\\frac{48!}{3!\\cdot45!}+\\frac{4!}{2!\\cdot2!}\\cdot\\frac{48!}{2!\\cdot46!}+\\frac{4!}{3!\\cdot1!}\\cdot\\frac{48!}{1!\\cdot47!}+\\frac{4!}{4!}\\cdot\\frac{48!}{48!}=76145$$"
   ]
  },
  {
   "cell_type": "code",
   "execution_count": 4,
   "metadata": {},
   "outputs": [
    {
     "data": {
      "text/plain": [
       "76145"
      ]
     },
     "execution_count": 4,
     "metadata": {},
     "output_type": "execute_result"
    }
   ],
   "source": [
    "sum([combinations(4, i) * combinations(48, 4 - i) for i in range(1, 5)])"
   ]
  },
  {
   "cell_type": "markdown",
   "metadata": {},
   "source": [
    "\n",
    "### __Задача 3__\n",
    "\n",
    "Семь человек рассаживаются наудачу на скамейке. Какова вероятность того, что два определённых человека будут сидеть рядом?\n"
   ]
  },
  {
   "cell_type": "markdown",
   "metadata": {},
   "source": [
    "**Решение**"
   ]
  },
  {
   "cell_type": "markdown",
   "metadata": {},
   "source": [
    "Необходимо найти количество исходов (_размещений, так как важен порядо рассадки_) для данного события и разделить на количество всех возможных исходов (_перестановок_)."
   ]
  },
  {
   "cell_type": "markdown",
   "metadata": {},
   "source": [
    "$$P(A)=\\frac{\\frac{7!}{5!}}{7!}=\\frac{1}{5!}=\\frac{1}{120}$$"
   ]
  },
  {
   "cell_type": "code",
   "execution_count": 5,
   "metadata": {},
   "outputs": [
    {
     "data": {
      "text/plain": [
       "0.008333333333333333"
      ]
     },
     "execution_count": 5,
     "metadata": {},
     "output_type": "execute_result"
    }
   ],
   "source": [
    "arrangements(7, 2) / permutations(7)"
   ]
  },
  {
   "cell_type": "code",
   "execution_count": 6,
   "metadata": {},
   "outputs": [
    {
     "data": {
      "text/plain": [
       "0.008333333333333333"
      ]
     },
     "execution_count": 6,
     "metadata": {},
     "output_type": "execute_result"
    }
   ],
   "source": [
    "1 / 120"
   ]
  },
  {
   "cell_type": "markdown",
   "metadata": {},
   "source": [
    "\n",
    "### __Задача 4__\n",
    "\n",
    "Из 60 вопросов, входящих в экзаменационные билеты, студент знает 50. Какова вероятность того, что среди трёх наугад выбранных вопросов студент знает: а) все? б) два?\n"
   ]
  },
  {
   "cell_type": "markdown",
   "metadata": {},
   "source": [
    "**Решение**"
   ]
  },
  {
   "cell_type": "markdown",
   "metadata": {},
   "source": [
    "В данном случае, нам не важно расположение элементов относительно друг друга, соответсвено для получения количество исходов, в которых студент знает все 3/2 вопроса их вытягиваемых билетов необходимо использовать количество _сочетаний_."
   ]
  },
  {
   "cell_type": "markdown",
   "metadata": {},
   "source": [
    "$$a)\\enspace P(A)=\\frac{50!}{3!\\cdot47!}\\cdot\\frac{3!\\cdot57!}{60!}=\\frac{48\\cdot49\\cdot50}{3!}\\cdot\\frac{3!}{58\\cdot59\\cdot60}=\\frac{48\\cdot49\\cdot50}{58\\cdot59\\cdot60}=\\frac{4655}{6844}$$"
   ]
  },
  {
   "cell_type": "code",
   "execution_count": 7,
   "metadata": {},
   "outputs": [
    {
     "data": {
      "text/plain": [
       "0.5727644652250146"
      ]
     },
     "execution_count": 7,
     "metadata": {},
     "output_type": "execute_result"
    }
   ],
   "source": [
    "combinations(50, 3) / combinations(60, 3)"
   ]
  },
  {
   "cell_type": "code",
   "execution_count": 8,
   "metadata": {},
   "outputs": [
    {
     "data": {
      "text/plain": [
       "0.5727644652250146"
      ]
     },
     "execution_count": 8,
     "metadata": {},
     "output_type": "execute_result"
    }
   ],
   "source": [
    "48*49*50/(58*59*60)"
   ]
  },
  {
   "cell_type": "markdown",
   "metadata": {},
   "source": [
    "$$б)\\enspace P(B)=\\left(\\frac{50!}{2!\\cdot48!}\\cdot\\frac{10!}{1!\\cdot9!}\\right)\\cdot\\frac{3!\\cdot57!}{60!}=\n",
    "\\frac{49\\cdot50}{2!}\\cdot\\frac{10}{1}\\cdot\\frac{3!}{58\\cdot59\\cdot60}=\\frac{3\\cdot10\\cdot49\\cdot50}{58\\cdot59\\cdot60}=\n",
    "\\frac{49\\cdot25}{58\\cdot59}=\\frac{1225}{3422}$$"
   ]
  },
  {
   "cell_type": "code",
   "execution_count": 9,
   "metadata": {},
   "outputs": [
    {
     "data": {
      "text/plain": [
       "0.35797779076563413"
      ]
     },
     "execution_count": 9,
     "metadata": {},
     "output_type": "execute_result"
    }
   ],
   "source": [
    "(combinations(50, 2) * combinations(10, 1)) / combinations(60, 3)"
   ]
  },
  {
   "cell_type": "code",
   "execution_count": 10,
   "metadata": {},
   "outputs": [
    {
     "data": {
      "text/plain": [
       "0.35797779076563413"
      ]
     },
     "execution_count": 10,
     "metadata": {},
     "output_type": "execute_result"
    }
   ],
   "source": [
    "1225 / 3422"
   ]
  },
  {
   "cell_type": "markdown",
   "metadata": {},
   "source": [
    "\n",
    "### __Задача 5__\n",
    "\n",
    "Бросается игральная кость. Пусть событие `A` - появление чётного числа, событие `B` - появление числа больше трёх. Являются ли эти события независимыми?\n"
   ]
  },
  {
   "cell_type": "markdown",
   "metadata": {},
   "source": [
    "**Решение**"
   ]
  },
  {
   "cell_type": "markdown",
   "metadata": {},
   "source": [
    "На первый взгляд, кажется, что события независимые, проверим по свойству $P(A\\cdot B) = P(A)\\cdot P(B)$"
   ]
  },
  {
   "cell_type": "markdown",
   "metadata": {},
   "source": [
    "$$P(A)=\\frac{1}{2};\\enspace P(B)=\\frac{1}{2}$$  \n",
    "$$P(A\\cdot B) = \\frac{1}{2}\\cdot\\frac{1}{2}=\\frac{1}{4}$$"
   ]
  },
  {
   "cell_type": "markdown",
   "metadata": {},
   "source": [
    "При этом четные числа больше 3 на игральной кости - 4, 6, соотвественно, вероятность их появления - $\\frac{2}{6}=\\frac13$"
   ]
  },
  {
   "cell_type": "markdown",
   "metadata": {},
   "source": [
    "Следовательно - события зависимые."
   ]
  },
  {
   "cell_type": "markdown",
   "metadata": {},
   "source": [
    "\n",
    "### __Задача 6__\n",
    "\n",
    "Допустим, имеется некоторая очень редкая болезнь (поражает 0.1 % населения). Вы приходите к врачу, вам делают тест на эту болезнь, и тест оказывается положительным. Врач говорит вам, что этот тест верно выявляет 99 % больных этой болезнью и всего лишь в 1 % случаев даёт ложный положительный ответ.\n",
    "\n",
    "_Вопрос_: какова вероятность, что вы действительно больны ей?\n",
    "\n",
    "_Подсказка_: вновь используйте формулу Байеса с раскрытием знаменателя с помощью формулы полной вероятности.\n"
   ]
  },
  {
   "cell_type": "markdown",
   "metadata": {},
   "source": [
    "**Решение**"
   ]
  },
  {
   "cell_type": "markdown",
   "metadata": {},
   "source": [
    "Допустим событие $A$ - вы  больны, событие $H_1$ - тест дал верный результат, событие $H_2$ - тест дал ложный результат."
   ]
  },
  {
   "cell_type": "markdown",
   "metadata": {},
   "source": [
    "$$P(A) = P(H_1)\\cdot P(A|H_1) + P(H_2)\\cdot P(A|H_2) = 0.99\\cdot0.001+0.01\\cdot0.999=0.00099+0.00999=0.01098$$"
   ]
  }
 ],
 "metadata": {
  "kernelspec": {
   "display_name": "Python 3",
   "language": "python",
   "name": "python3"
  },
  "language_info": {
   "codemirror_mode": {
    "name": "ipython",
    "version": 3
   },
   "file_extension": ".py",
   "mimetype": "text/x-python",
   "name": "python",
   "nbconvert_exporter": "python",
   "pygments_lexer": "ipython3",
   "version": "3.8.5"
  }
 },
 "nbformat": 4,
 "nbformat_minor": 4
}
