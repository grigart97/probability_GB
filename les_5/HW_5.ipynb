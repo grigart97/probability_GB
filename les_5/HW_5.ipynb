{
 "cells": [
  {
   "cell_type": "markdown",
   "id": "4a21292e",
   "metadata": {},
   "source": [
    "## Домашнее задание 5"
   ]
  },
  {
   "cell_type": "code",
   "execution_count": 1,
   "id": "5b21a3d2",
   "metadata": {},
   "outputs": [],
   "source": [
    "import numpy as np\n",
    "from scipy import stats\n",
    "from matplotlib import pyplot as plt"
   ]
  },
  {
   "cell_type": "markdown",
   "id": "658b2d9f",
   "metadata": {},
   "source": [
    "### __Задача 1__\n",
    "\n",
    "Известно, что генеральная совокупность распределена нормально с известным средним квадратическим отклонением 16. Найти доверительный интервал для оценки математического ожидания `mu` с надёжностью 0.95, если выборочное среднее равно 80, а объём равен 256."
   ]
  },
  {
   "cell_type": "markdown",
   "id": "7e191ee3",
   "metadata": {},
   "source": [
    "$$P(t_{\\alpha/2}\\leq Z\\leq t_{1-\\alpha/2})=p$$  \n",
    "$$P(\\overline{X}-t_{1-\\alpha/2}\\frac{\\sigma}{\\sqrt{n}}\\leq\\mu\\leq \\overline{X}-t_{\\alpha/2}\\frac{\\sigma}{\\sqrt{n}})=p$$"
   ]
  },
  {
   "cell_type": "markdown",
   "id": "730f97c6",
   "metadata": {},
   "source": [
    "Где:\n",
    "* $\\overline{X}=80$;\n",
    "* $\\sigma=16$;\n",
    "* $n=256$;\n",
    "* $\\alpha=0.05$\n",
    "* $p=0.95$"
   ]
  },
  {
   "cell_type": "code",
   "execution_count": 2,
   "id": "4c3c1457",
   "metadata": {},
   "outputs": [],
   "source": [
    "mean_task1 = 80\n",
    "sigma_task1 = 16\n",
    "n_task1 = 256\n",
    "a_task1 = 1 - 0.95"
   ]
  },
  {
   "cell_type": "code",
   "execution_count": 3,
   "id": "222a75dd",
   "metadata": {},
   "outputs": [
    {
     "data": {
      "text/plain": [
       "(-1.959963984540054, 1.959963984540054)"
      ]
     },
     "execution_count": 3,
     "metadata": {},
     "output_type": "execute_result"
    }
   ],
   "source": [
    "t1, t2 = stats.norm.ppf(a_task1 / 2), stats.norm.ppf(1 - a_task1 / 2)\n",
    "t1, t2"
   ]
  },
  {
   "cell_type": "code",
   "execution_count": 4,
   "id": "4dcb9074",
   "metadata": {},
   "outputs": [
    {
     "data": {
      "text/plain": [
       "(78.04003601545995, 81.95996398454005)"
      ]
     },
     "execution_count": 4,
     "metadata": {},
     "output_type": "execute_result"
    }
   ],
   "source": [
    "mean_task1 - t2 * sigma_task1 / np.sqrt(n_task1), mean_task1 - t1 * sigma_task1 / np.sqrt(n_task1)"
   ]
  },
  {
   "cell_type": "markdown",
   "id": "850bdf23",
   "metadata": {},
   "source": [
    "### __Задача 2__\n",
    "\n",
    "Продавец утверждает, что средний вес пачки печенья составляет 200 г. Из партии извлечена выборка из 10 пачек. Вес каждой пачки составляет:\n",
    "```\n",
    "202, 203, 199, 197, 195, 201, 200, 204, 194, 190\n",
    "```\n",
    "Известно, что их веса распределены нормально. \n",
    "1. Верно ли утверждение продавца, если учитывать, что уровень значимости равен 1%? \n",
    "2. Найдите P-значение для данного теста."
   ]
  },
  {
   "cell_type": "markdown",
   "id": "94f66ad7",
   "metadata": {},
   "source": [
    "Нулевая гипотеза ($H_0$) - $\\mu=200$. Так как дисперсию (и как следствие среднеквартичное отклонение) мы не знаем, воспользуемся $t$-статистикой:"
   ]
  },
  {
   "cell_type": "markdown",
   "id": "7f9066f3",
   "metadata": {},
   "source": [
    "$$t=\\frac{\\overline{X}-\\mu}{\\sigma_{X}}\\sqrt{n}, \\, где$$"
   ]
  },
  {
   "cell_type": "code",
   "execution_count": 5,
   "id": "e9f5628d",
   "metadata": {},
   "outputs": [],
   "source": [
    "samples_task2 = np.array([202, 203, 199, 197, 195, 201, 200, 204, 194, 190])\n",
    "n_task2 = samples_task2.shape[0]\n",
    "mu_task2 = 200\n",
    "alpha_task2 = 0.01"
   ]
  },
  {
   "cell_type": "code",
   "execution_count": 6,
   "id": "70b61111",
   "metadata": {},
   "outputs": [
    {
     "data": {
      "text/plain": [
       "-1.0651074037450896"
      ]
     },
     "execution_count": 6,
     "metadata": {},
     "output_type": "execute_result"
    }
   ],
   "source": [
    "t_statistics = (samples_task2.mean() - mu_task2) / samples_task2.std(ddof=1) * np.sqrt(n_task2)\n",
    "t_statistics"
   ]
  },
  {
   "cell_type": "code",
   "execution_count": 7,
   "id": "2abd98f9",
   "metadata": {},
   "outputs": [
    {
     "data": {
      "text/plain": [
       "(-3.24983554401537, 3.2498355440153697)"
      ]
     },
     "execution_count": 7,
     "metadata": {},
     "output_type": "execute_result"
    }
   ],
   "source": [
    "t1, t2 = stats.t.ppf(alpha_task2 / 2, df = n_task2 - 1), stats.t.ppf(1 - alpha_task2 / 2, df = n_task2 - 1)\n",
    "t1, t2"
   ]
  },
  {
   "cell_type": "code",
   "execution_count": 8,
   "id": "fcd6386d",
   "metadata": {},
   "outputs": [
    {
     "data": {
      "image/png": "[encoded data removed]",
      "text/plain": [
       "<Figure size 432x288 with 1 Axes>"
      ]
     },
     "metadata": {
      "needs_background": "light"
     },
     "output_type": "display_data"
    }
   ],
   "source": [
    "ox = np.linspace(-4, 4, 500)\n",
    "oy = stats.t.pdf(ox, df=n_task2 - 1)\n",
    "\n",
    "ox_l = np.linspace(-4, t1, 100)\n",
    "oy_l = stats.t.pdf(ox_l, df=n_task2 - 1)\n",
    "\n",
    "ox_r = np.linspace(t2, 4, 100)\n",
    "oy_r = stats.t.pdf(ox_r, df=n_task2 - 1)\n",
    "\n",
    "plt.plot(ox, oy)\n",
    "plt.fill_between(ox_l, oy_l, facecolor='C0')\n",
    "plt.fill_between(ox_r, oy_r, facecolor='C0')\n",
    "plt.vlines(t_statistics, oy.min(), oy.max(), color='red')\n",
    "plt.show()"
   ]
  },
  {
   "cell_type": "markdown",
   "id": "956bc9ff",
   "metadata": {},
   "source": [
    "$t$-статистика находится вне критичной области (_красная черта на графике_), значит нулевая гипотеза верна ($\\mu=200$).  \n",
    "Найдём $P-value$ для данного теста:"
   ]
  },
  {
   "cell_type": "code",
   "execution_count": 9,
   "id": "9f8fa661",
   "metadata": {},
   "outputs": [
    {
     "data": {
      "text/plain": [
       "0.31456660352472854"
      ]
     },
     "execution_count": 9,
     "metadata": {},
     "output_type": "execute_result"
    }
   ],
   "source": [
    "p_left = stats.t.cdf(t_statistics, df=n_task2 - 1)\n",
    "p_right = 1 - stats.t.cdf(t_statistics, df=n_task2 - 1)\n",
    "\n",
    "pvalue = 2 * min(p_left, p_right)\n",
    "pvalue"
   ]
  },
  {
   "cell_type": "markdown",
   "id": "37640e45",
   "metadata": {},
   "source": [
    "проверим найденное значение:"
   ]
  },
  {
   "cell_type": "code",
   "execution_count": 10,
   "id": "7aec2a8a",
   "metadata": {
    "scrolled": true
   },
   "outputs": [
    {
     "name": "stdout",
     "output_type": "stream",
     "text": [
      "alpha\tresult\n",
      "-------------\n",
      "0.2 \t True\n",
      "0.204 \t True\n",
      "0.208 \t True\n",
      "0.212 \t True\n",
      "0.216 \t True\n",
      "0.22 \t True\n",
      "0.224 \t True\n",
      "0.228 \t True\n",
      "0.232 \t True\n",
      "0.236 \t True\n",
      "0.24 \t True\n",
      "0.244 \t True\n",
      "0.248 \t True\n",
      "0.252 \t True\n",
      "0.256 \t True\n",
      "0.26 \t True\n",
      "0.264 \t True\n",
      "0.268 \t True\n",
      "0.272 \t True\n",
      "0.276 \t True\n",
      "0.28 \t True\n",
      "0.284 \t True\n",
      "0.288 \t True\n",
      "0.292 \t True\n",
      "0.296 \t True\n",
      "0.3 \t True\n",
      "0.304 \t True\n",
      "0.308 \t True\n",
      "0.312 \t True\n",
      "0.316 \t False\n",
      "0.32 \t False\n",
      "0.324 \t False\n",
      "0.328 \t False\n",
      "0.332 \t False\n",
      "0.336 \t False\n",
      "0.34 \t False\n",
      "0.344 \t False\n",
      "0.348 \t False\n",
      "0.352 \t False\n",
      "0.356 \t False\n",
      "0.36 \t False\n",
      "0.364 \t False\n",
      "0.368 \t False\n",
      "0.372 \t False\n",
      "0.376 \t False\n",
      "0.38 \t False\n",
      "0.384 \t False\n",
      "0.388 \t False\n",
      "0.392 \t False\n",
      "0.396 \t False\n",
      "0.4 \t False\n"
     ]
    }
   ],
   "source": [
    "print('alpha\\tresult')\n",
    "print('-------------')\n",
    "\n",
    "for alpha in np.linspace(0.2, 0.4, 51):\n",
    "    t1 = stats.t.ppf(alpha / 2, df=n_task2 - 1)\n",
    "    t2 = stats.t.ppf(1 - alpha / 2, df=n_task2 - 1)\n",
    "    \n",
    "    print(round(alpha, 4), '\\t', t1 <= t_statistics <= t2)"
   ]
  },
  {
   "cell_type": "markdown",
   "id": "6222fc46",
   "metadata": {},
   "source": [
    "Между значениями 0.312 и 0.316 как раз изменяется результат. Таким образом, $p-value$ найдено верно"
   ]
  },
  {
   "cell_type": "markdown",
   "id": "4a8b6648",
   "metadata": {},
   "source": [
    "### __Задача 3__\n",
    "\n",
    "Дана выборка диаметров подшипников из примера 1 с занятия 5:\n",
    "```\n",
    "samples = [0.6603, 0.9466, 0.5968, 1.3792, 1.5481, 0.7515, 1.0681, 1.1134,\n",
    "           1.2088, 1.701 , 1.0282, 1.3579, 1.0191, 1.1784, 1.1168, 1.1372,\n",
    "           0.7273, 1.3958, 0.8665, 1.5112, 1.161 , 1.0232, 1.0865, 1.02  ]\n",
    "```\n",
    "Предполагая, что диаметры подшипников распределены нормально, проверьте гипотезу о том, что дисперсия случайной величины равна `0.0625` при уровне значимости `alpha = 0.05`. Что для этого нужно знать:\n",
    "1. Альтернативная гипотеза двухсторонняя.\n",
    "2. Статистика для теста: `H = (n - 1) * sample_variance / variance`, где `n` - число элементов в выборке, `sample_variance` - несмещённая оценка дисперсии, `variance` - утверждаемая нулевой гипотезой дисперсия.\n",
    "3. Эта статистика в предположении верности нулевой гипотезы имеет распределение хи-квадрат с параметром `df = n - 1`. Её квантили можно найти с помощью функции `scipy.stats.chi2.ppf`."
   ]
  },
  {
   "cell_type": "code",
   "execution_count": 25,
   "id": "0ec6c384",
   "metadata": {},
   "outputs": [],
   "source": [
    "samples_task3 = np.array([0.6603, 0.9466, 0.5968, 1.3792, 1.5481, 0.7515, 1.0681, 1.1134,\n",
    "                          1.2088, 1.701 , 1.0282, 1.3579, 1.0191, 1.1784, 1.1168, 1.1372,\n",
    "                          0.7273, 1.3958, 0.8665, 1.5112, 1.161 , 1.0232, 1.0865, 1.02])\n",
    "n_task3 = samples_task3.shape[0]\n",
    "D_task3 = 0.0625\n",
    "a_task3 = 0.05"
   ]
  },
  {
   "cell_type": "code",
   "execution_count": 26,
   "id": "46dc456c",
   "metadata": {},
   "outputs": [
    {
     "name": "stdout",
     "output_type": "stream",
     "text": [
      "28.720541753333343\n",
      "11.688551922452438 38.0756272503558\n"
     ]
    }
   ],
   "source": [
    "H_statistics = (samples_task3.shape[0] - 1) * samples_task3.var(ddof=1) / D_task3\n",
    "\n",
    "t1 = stats.chi2.ppf(a_task3 / 2, df = n_task3 - 1)\n",
    "t2 = stats.chi2.ppf(1 - a_task3 / 2, df = n_task3 - 1)\n",
    "print(H_task3)\n",
    "print(t1, t2)"
   ]
  },
  {
   "cell_type": "code",
   "execution_count": 28,
   "id": "ef534b7b",
   "metadata": {},
   "outputs": [
    {
     "data": {
      "image/png": "[encoded data removed]",
      "text/plain": [
       "<Figure size 432x288 with 1 Axes>"
      ]
     },
     "metadata": {
      "needs_background": "light"
     },
     "output_type": "display_data"
    }
   ],
   "source": [
    "ox = np.linspace(5, 45, 501)\n",
    "oy = stats.chi2.pdf(ox, df=n_task3 - 1)\n",
    "\n",
    "ox_l = np.linspace(5, t1, 100)\n",
    "oy_l = stats.chi2.pdf(ox_l, df=n_task3 - 1)\n",
    "\n",
    "ox_r = np.linspace(t2, 45, 100)\n",
    "oy_r = stats.chi2.pdf(ox_r, df=n_task3 - 1)\n",
    "\n",
    "plt.plot(ox, oy)\n",
    "plt.fill_between(ox_l, oy_l, facecolor='C0')\n",
    "plt.fill_between(ox_r, oy_r, facecolor='C0')\n",
    "plt.vlines(H_statistics, oy.min(), oy.max(), color='red')\n",
    "plt.show()"
   ]
  },
  {
   "cell_type": "markdown",
   "id": "29ffe80a",
   "metadata": {},
   "source": [
    "Нулевая гипотеза подтверждена.  \n",
    "дисперсия случайной величины равна `0.0625`"
   ]
  },
  {
   "cell_type": "markdown",
   "id": "8981ce25",
   "metadata": {},
   "source": [
    "### Задача 4 (Была показана на вебинаре как _задача 3_, но в файле нет)\n",
    "Утверждается, что шарики для подшипников, изготовленные автоматическим станком, имеют средний диаметр 17 мм. Используя уровень значимости 0.025 и правостороннюю критическую область, проверить данную гипотезу при условии, что в выборке из 100 шариков средний диаметр оказался равным 17.5 мм, а дисперсия известна и равна 4 мм."
   ]
  },
  {
   "cell_type": "markdown",
   "id": "a6ad82c3",
   "metadata": {},
   "source": [
    "Нулевая гипотеза ($H_0$) - $\\mu=17$. Так как дисперсию мы знаем, воспользуемся $Z$-статистикой:"
   ]
  },
  {
   "cell_type": "markdown",
   "id": "eddf5160",
   "metadata": {},
   "source": [
    "$$Z=\\frac{\\overline{X}-\\mu}{\\sigma}\\sqrt{n}$$"
   ]
  },
  {
   "cell_type": "code",
   "execution_count": 30,
   "id": "7c1fa293",
   "metadata": {},
   "outputs": [],
   "source": [
    "mu_task4 = 17\n",
    "a_task4 = 0.025\n",
    "n_task4 = 100\n",
    "mean_task4 = 17.5\n",
    "D_task4 = 4"
   ]
  },
  {
   "cell_type": "code",
   "execution_count": 33,
   "id": "aca69aee",
   "metadata": {},
   "outputs": [
    {
     "data": {
      "text/plain": [
       "(2.5, 1.9842169515086827)"
      ]
     },
     "execution_count": 33,
     "metadata": {},
     "output_type": "execute_result"
    }
   ],
   "source": [
    "Z_statistics = (mean_task4 - mu_task4) / np.sqrt(D_task4) * np.sqrt(n_task4)\n",
    "\n",
    "t = stats.t.ppf(1 - a_task4, df=n_task4 - 1)\n",
    "Z_statistics, t"
   ]
  },
  {
   "cell_type": "markdown",
   "id": "6be0ebb7",
   "metadata": {},
   "source": [
    "$Z-статистика$ входит в критическую область. Таким образом нулевая гипотеза не подтвердилась. Средний диаметр шариков для подшипников больше 17 мм."
   ]
  }
 ],
 "metadata": {
  "kernelspec": {
   "display_name": "Python 3 (ipykernel)",
   "language": "python",
   "name": "python3"
  },
  "language_info": {
   "codemirror_mode": {
    "name": "ipython",
    "version": 3
   },
   "file_extension": ".py",
   "mimetype": "text/x-python",
   "name": "python",
   "nbconvert_exporter": "python",
   "pygments_lexer": "ipython3",
   "version": "3.9.6"
  }
 },
 "nbformat": 4,
 "nbformat_minor": 5
}
