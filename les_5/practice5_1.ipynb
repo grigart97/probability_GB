{
 "cells": [
  {
   "cell_type": "markdown",
   "metadata": {
    "colab_type": "text",
    "id": "4H6xxKNJyZlv"
   },
   "source": [
    "## Урок 5"
   ]
  },
  {
   "cell_type": "markdown",
   "metadata": {
    "colab_type": "text",
    "id": "jNFmajYcyZlz"
   },
   "source": [
    "### Проверка статистических гипотез. P-значения. Доверительные интервалы. A/B-тестирование"
   ]
  },
  {
   "cell_type": "markdown",
   "metadata": {},
   "source": [
    "__Статистическая гипотеза__ — предположение о виде распределения и свойствах случайной величины, которое можно подтвердить или опровергнуть.\n",
    "\n",
    "Различают _нулевые_ и _альтернативные_ гипотезы.\n",
    "\n",
    "На практике обычно требуется проверить какую-то конкретную гипотезу $H_0$. Такую гипотезу принято называть __нулевой__. Нулевая гипотеза считается истинной, пока не доказано обратное. Параллельно рассматривается противоречащая ей гипотеза $H_1$, называемая __альтернативной__ или _конкурирующей_.\n",
    "\n",
    "__Пример 1__\n",
    "\n",
    "Имеется станок, изготавливающий шарики для подшипников, который настроен делать шарики с диаметром $1$ мм. На основании выборки из значений диаметров таких шариков мы можем проверить, правильно ли станок откалиброван (т.е. делает ли он такие шарики, которые он настроен делать). \n",
    "\n",
    "В таком случае в качестве нулевой гипотезы $H_0$ берётся гипотеза о том, что математическое ожидание диаметра шарика равно $1$ мм.\n",
    "\n",
    "\n",
    "### Проверка гипотез\n",
    "\n",
    "Задача проверки гипотез в том, чтобы проверить, случайно ли отклонение результатов измерения. Если отличия результатов измерения от значений, соответствующих нулевой гипотезе, случайны, нулевая гипотеза остается в силе. Если же результаты измерения значительно отличаются от того, что утверждается в нулевой гипотезе, то принимают альтернативную.\n",
    "\n",
    "__Этапы проверки гипотез__\n",
    "\n",
    "1. Формулируются нулевая и альтернативная гипотезы.\n",
    "2. Задаётся некоторая функция $T$ от выборки, для которой в условиях справедливости нулевой гипотезы $H_0$ известна функция распределения $F_T(x) = P(T < x)$.\n",
    "3. Фиксируется уровень значимости $\\alpha$ — допустимая для данной задачи вероятность _ошибки первого рода_ (чаще всего 0.01, 0.05 или 0.1).\n",
    "4. Определяется критическая область $\\Omega_\\alpha$, такая, что $P(T \\in \\Omega_\\alpha | H_0) = \\alpha$.\n",
    "5. Проводится _статистический тест_: для конкретной выборки $X$ считается значение $T(X)$, и если оно принадлежит $\\Omega_alpha$, то заключаем, что данные противоречат гипотезе $H_0$, и принимается гипотеза $H_1$.\n",
    "\n",
    "Ошибки первого и второго рода возникают в задачах, в которых требуется определить, произошло какое-то событие или нет.\n",
    "\n",
    "__Ошибка первого рода__ (т.н. __false positive__) соответствует ситуации, когда было определено, что событие произошло, тогда как реально оно не произошло.\n",
    "\n",
    "__Ошибка второго рода__ (т.н. __false negative__) — обратная ситуация: мы определили, что событие не произошло, а реально оно произошло.\n",
    "\n",
    "В контексте проверки статистических гипотез ошибкой первого рода называются ситуации, когда нулевая гипотеза $H_0$ была отвергнута, тогда как в реальности она верна. \n",
    "\n",
    "В свою очередь, ошибка второго рода заключается в том, что нулевая гипотеза ложна, но отвергнута не была.\n",
    "\n",
    "Низкие значения уровня значимости $\\alpha$ уменьшают вероятность совершить ошибку первого рода, однако, вместе с тем увеличивают вероятность совершить ошибку второго рода (т.е. не отвергнуть ложную нулевую гипотезу).\n",
    "\n",
    "Разберёмся, что представляет из себя критическая область и как она строится. Итак, мы зафиксировали функцию $T$ от выборки, имеющую функцию распределения $F_T(x) = P(T < x)$ (в предположении, что верна нулевая гипотеза), и уровень значимости $\\alpha$. Обозначим через $t_\\alpha$ значение, для которого $F_T(t_\\alpha) = \\alpha$.\n",
    "\n",
    "На практике, как правило, используются функции T с _унимодальной_ (имеющей форму пика) плотностью распределения. __Критические области__ (наименее вероятные значения функции $T$) соответствуют «хвостам» этого распределения. Поэтому чаще всего возникают критические области одного из трёх типов:\n",
    "* Левосторонняя область: $\\Omega_\\alpha = (-\\infty, t_\\alpha)$.\n",
    "* Правосторонняя область: $\\Omega_\\alpha = (t_{1 - \\alpha}, \\infty)$.\n",
    "* Двусторонняя область: $\\Omega_\\alpha = (-\\infty, t_{\\alpha/2}) \\cup (t_{1 - \\alpha/2}, \\infty)$.\n",
    "\n",
    "Отметим, что описанный выше способ проверять статистические гипотезы не даёт возможности доказать нулевую гипотезу. Мы можем лишь опровергнуть её, наткнувшись на несоответствие в данных, либо принять её. Однако, принятие нами нулевой гипотезы не говорит о том, что она верна, а лишь о том, что мы _достаточно уверены_ в том, что она верна."
   ]
  },
  {
   "cell_type": "markdown",
   "metadata": {},
   "source": [
    "__Пример 1 (продолжение)__\n",
    "\n",
    "Продолжим развивать приведённый выше пример 1. Дана выборка из диаметров подшипников, изготовленных станком."
   ]
  },
  {
   "cell_type": "code",
   "execution_count": 3,
   "metadata": {},
   "outputs": [],
   "source": [
    "import numpy as np\n",
    "samples = np.array([0.6603, 0.9466, 0.5968, 1.3792, 1.5481, 0.7515, 1.0681, 1.1134,\n",
    "                    1.2088, 1.701 , 1.0282, 1.3579, 1.0191, 1.1784, 1.1168, 1.1372,\n",
    "                    0.7273, 1.3958, 0.8665, 1.5112, 1.161 , 1.0232, 1.0865, 1.02  ])"
   ]
  },
  {
   "cell_type": "markdown",
   "metadata": {},
   "source": [
    "Будем считать, что в нашем случае среднее квадратическое отклонение известно и равно $0.25$. Значит, надо использовать статистику\n",
    "$$Z = \\dfrac{\\overline{X} - \\mu}{\\sigma / \\sqrt{n}},$$\n",
    "и при условии верности нулевой гипотезы она имеет стандартное нормальное распределение. В нашем случае:\n",
    "$$Z = \\dfrac{\\overline{X} - 1}{0.25/ \\sqrt{n}}$$\n",
    "\n",
    "Эта статистика имеет стандартное нормальное распределение, т.е. нормальное распределение с параметрами $\\mu = 0$, $\\sigma = 1$.\n",
    "Поскольку альтернативная гипотеза двухсторонняя (мат. ожидание может быть как больше, так и меньше $1$), критическая область также будет двухсторонней. Для её построения нам понадобятся квантили $t_{\\alpha / 2}$ и $t_{1 - \\alpha / 2}$ стандартного нормального распределения. Найдём их с помощью `scipy.stats`."
   ]
  },
  {
   "cell_type": "code",
   "execution_count": 11,
   "metadata": {},
   "outputs": [],
   "source": [
    "def statistic(samples):\n",
    "    return (samples.mean() - 1) / (0.25 / np.sqrt(samples.shape[0]))"
   ]
  },
  {
   "cell_type": "code",
   "execution_count": 5,
   "metadata": {},
   "outputs": [],
   "source": [
    "alpha = 0.05"
   ]
  },
  {
   "cell_type": "code",
   "execution_count": 6,
   "metadata": {},
   "outputs": [],
   "source": [
    "from scipy import stats"
   ]
  },
  {
   "cell_type": "code",
   "execution_count": 7,
   "metadata": {},
   "outputs": [
    {
     "data": {
      "text/plain": [
       "(-1.9599639845400545, 1.959963984540054)"
      ]
     },
     "execution_count": 7,
     "metadata": {},
     "output_type": "execute_result"
    }
   ],
   "source": [
    "t1 = stats.norm.ppf(alpha / 2)\n",
    "t2 = stats.norm.ppf(1 - alpha / 2)\n",
    "\n",
    "t1, t2"
   ]
  },
  {
   "cell_type": "markdown",
   "metadata": {},
   "source": [
    "Итак, критическая область:\n",
    "$$\\Omega_\\alpha = (-\\infty, -1.96) \\cup (1.96, \\infty)$$"
   ]
  },
  {
   "cell_type": "code",
   "execution_count": 8,
   "metadata": {},
   "outputs": [],
   "source": [
    "from matplotlib import pyplot as plt\n",
    "\n",
    "plt.style.use('seaborn-whitegrid')"
   ]
  },
  {
   "cell_type": "code",
   "execution_count": 9,
   "metadata": {},
   "outputs": [
    {
     "data": {
      "text/plain": [
       "<matplotlib.collections.PolyCollection at 0x21018b95688>"
      ]
     },
     "execution_count": 9,
     "metadata": {},
     "output_type": "execute_result"
    },
    {
     "data": {
      "image/png": "[encoded data removed]",
      "text/plain": [
       "<Figure size 432x288 with 1 Axes>"
      ]
     },
     "metadata": {},
     "output_type": "display_data"
    }
   ],
   "source": [
    "ox = np.linspace(-4, 4, 500)\n",
    "oy = stats.norm.pdf(ox)\n",
    "\n",
    "ox_left = np.linspace(-4, t1, 100)\n",
    "oy_left = stats.norm.pdf(ox_left)\n",
    "\n",
    "ox_right = np.linspace(t2, 4, 100)\n",
    "oy_right = stats.norm.pdf(ox_right)\n",
    "\n",
    "plt.plot(ox, oy)\n",
    "plt.fill_between(ox_left, oy_left, alpha=0.5, color='C0')\n",
    "plt.fill_between(ox_right, oy_right, alpha=0.5, color='C0')"
   ]
  },
  {
   "cell_type": "markdown",
   "metadata": {},
   "source": [
    "Проводим статистический тест. Находим знаяение z-статистики по выборке (наблюдаемое значение)"
   ]
  },
  {
   "cell_type": "code",
   "execution_count": 12,
   "metadata": {},
   "outputs": [
    {
     "data": {
      "text/plain": [
       "2.1252589504967747"
      ]
     },
     "execution_count": 12,
     "metadata": {},
     "output_type": "execute_result"
    }
   ],
   "source": [
    "z = statistic(samples)\n",
    "z"
   ]
  },
  {
   "cell_type": "markdown",
   "metadata": {},
   "source": [
    "Значение попало в критическую область. Нулевая гипотеза отвергается."
   ]
  },
  {
   "cell_type": "markdown",
   "metadata": {},
   "source": [
    "__Пример 2__\n",
    "\n",
    "В реальности у нас редко есть что-то кроме самой выборки. В частности, дисперсию случайной величины мы скорее всего не знаем. Как мы уже отмечали ранее, в таком случае мы тоже можем провести статистический тест, однако, нам нужно будет для этого взять другую статистику, а именно\n",
    "$$t = \\dfrac{\\overline{X} - \\mu}{\\sigma_X / \\sqrt{n}},$$\n",
    "где $\\sigma_X$ — несмещённая оценка среднего квадратического отклонения. В нашем случае это:\n",
    "$$t = \\dfrac{\\overline{X} - 1}{\\sigma_X / \\sqrt{n}}$$"
   ]
  },
  {
   "cell_type": "code",
   "execution_count": 13,
   "metadata": {},
   "outputs": [],
   "source": [
    "alpha = 0.05\n",
    "def statistic(samples):\n",
    "    return (samples.mean() - 1) / (samples.std(ddof=1) / np.sqrt(samples.shape[0]))"
   ]
  },
  {
   "cell_type": "markdown",
   "metadata": {},
   "source": [
    "Кроме того, распределение этой статистики тоже будет другое: t-распределение Стьюдента. Значит, квантили тоже придётся считать заново."
   ]
  },
  {
   "cell_type": "code",
   "execution_count": 14,
   "metadata": {},
   "outputs": [
    {
     "data": {
      "text/plain": [
       "(-2.068657610419041, 2.0686576104190406)"
      ]
     },
     "execution_count": 14,
     "metadata": {},
     "output_type": "execute_result"
    }
   ],
   "source": [
    "n = samples.shape[0]\n",
    "\n",
    "t1 = stats.t.ppf(alpha / 2, df=n - 1)\n",
    "t2 = stats.t.ppf(1 - alpha / 2, df=n - 1)\n",
    "\n",
    "t1, t2"
   ]
  },
  {
   "cell_type": "markdown",
   "metadata": {},
   "source": [
    "Итак, теперь критическая область немного шире:\n",
    "$$\\Omega_\\alpha = (-\\infty, -2.07) \\cup (2.07, \\infty)$$"
   ]
  },
  {
   "cell_type": "code",
   "execution_count": 15,
   "metadata": {
    "scrolled": true
   },
   "outputs": [
    {
     "data": {
      "text/plain": [
       "<matplotlib.collections.PolyCollection at 0x21018d10888>"
      ]
     },
     "execution_count": 15,
     "metadata": {},
     "output_type": "execute_result"
    },
    {
     "data": {
      "image/png": "[encoded data removed]",
      "text/plain": [
       "<Figure size 432x288 with 1 Axes>"
      ]
     },
     "metadata": {},
     "output_type": "display_data"
    }
   ],
   "source": [
    "ox = np.linspace(-4, 4, 500)\n",
    "oy = stats.t.pdf(ox, df=n - 1)\n",
    "\n",
    "ox_left = np.linspace(-4, t1, 100)\n",
    "oy_left = stats.t.pdf(ox_left, df=n - 1)\n",
    "\n",
    "ox_right = np.linspace(t2, 4, 100)\n",
    "oy_right = stats.t.pdf(ox_right, df=n - 1)\n",
    "\n",
    "plt.plot(ox, oy)\n",
    "plt.fill_between(ox_left, oy_left, alpha=0.5, color='C0')\n",
    "plt.fill_between(ox_right, oy_right, alpha=0.5, color='C0')"
   ]
  },
  {
   "cell_type": "markdown",
   "metadata": {},
   "source": [
    "Итак, статистический тест:"
   ]
  },
  {
   "cell_type": "code",
   "execution_count": 16,
   "metadata": {},
   "outputs": [
    {
     "data": {
      "text/plain": [
       "1.9018640008517087"
      ]
     },
     "execution_count": 16,
     "metadata": {},
     "output_type": "execute_result"
    }
   ],
   "source": [
    "t = statistic(samples)\n",
    "t"
   ]
  },
  {
   "cell_type": "markdown",
   "metadata": {},
   "source": [
    "Значение статистики не попало в критическую область, значит, гипотеза остаётся в силе."
   ]
  },
  {
   "cell_type": "markdown",
   "metadata": {},
   "source": [
    "__P-значения__\n",
    "\n",
    "P-значения позволяют получить результат проверки статистических гипотез сразу для многих уровней значимости. \n",
    "\n",
    "Как мы теперь знаем, уменьшение уровня значимости приводит к расширению границ критической области: чем меньше уровень значимости, тем сложнее попасть в критическую область и, как следствие, отвергнуть нулевую гипотезу. __P-значение__ представляет собой наибольшее значение уровня значимости $\\alpha$, при котором гипотезу можно принять, т.е. при котором значение статистики, посчитанной по выборке, ещё не попадает в критическую область."
   ]
  },
  {
   "cell_type": "markdown",
   "metadata": {},
   "source": [
    "__Пример 3__\n",
    "\n",
    "В примере 2 мы проверяли гипотезу о математическом ожидании диаметра подшипника. Реализуем этот тест для различных $\\alpha$ и посмотрим, как это влияет на результат."
   ]
  },
  {
   "cell_type": "code",
   "execution_count": 17,
   "metadata": {},
   "outputs": [
    {
     "data": {
      "text/plain": [
       "(24, 1.9018640008517087)"
      ]
     },
     "execution_count": 17,
     "metadata": {},
     "output_type": "execute_result"
    }
   ],
   "source": [
    "n = samples.shape[0]\n",
    "S = statistic(samples)\n",
    "\n",
    "n, S"
   ]
  },
  {
   "cell_type": "code",
   "execution_count": 18,
   "metadata": {},
   "outputs": [
    {
     "name": "stdout",
     "output_type": "stream",
     "text": [
      "alpha\tresult\n",
      "-------------\n",
      "0.0 \t True\n",
      "0.0107 \t True\n",
      "0.0214 \t True\n",
      "0.0321 \t True\n",
      "0.0429 \t True\n",
      "0.0536 \t True\n",
      "0.0643 \t True\n",
      "0.075 \t False\n",
      "0.0857 \t False\n",
      "0.0964 \t False\n",
      "0.1071 \t False\n",
      "0.1179 \t False\n",
      "0.1286 \t False\n",
      "0.1393 \t False\n",
      "0.15 \t False\n"
     ]
    }
   ],
   "source": [
    "print('alpha\\tresult')\n",
    "print('-------------')\n",
    "\n",
    "for alpha in np.linspace(0, 0.15, 15):\n",
    "    t1 = stats.t.ppf(alpha / 2, df=n - 1)\n",
    "    t2 = stats.t.ppf(1 - alpha / 2, df=n - 1)\n",
    "    \n",
    "    print(round(alpha, 4), '\\t', t1 <= S <= t2)"
   ]
  },
  {
   "cell_type": "markdown",
   "metadata": {},
   "source": [
    "Как мы видим, при малых $\\alpha$ имеем довольно широкую критическую область, в которую сложнее попасть. На нескольких первых шагах критическая область достаточно широка, что значение статистики в неё не попадает. Но в какой-то момент критическая область сужается настолько, что поглощает значение статистики. С этого момента гипотеза начинает отвергаться.\n",
    "\n",
    "P-значением будет то значение $\\alpha$, при котором происходит этот переход, т.е. когда одна из границ критической области совпадает со значением статистики.\n",
    "\n",
    "Пусть $F_S(x)$ — функция распределения рассматриваемой статистики, а $t_{\\beta}$ — квантиль порядка $\\beta$ для этого распределения. Как считать P-значение:\n",
    "\n",
    "1. Для правосторонней области $\\Omega_\\alpha = \\left( t_{1 - \\alpha}, \\infty \\right)$ имеем условие $t_{1 - \\alpha} = S$, откуда $$P_r = 1 - F_S(S)$$\n",
    "\n",
    "2. Для левосторонней области $\\Omega_\\alpha = \\left( -\\infty, t_\\alpha \\right)$, условие $t_\\alpha = S$, откуда $$P_l = F_S(S)$$\n",
    "\n",
    "3. Для двухсторонней области $\\Omega_\\alpha = \\left( -\\infty, t_{\\alpha / 2} \\right) \\cup \\left( t_{1 - \\alpha / 2} , \\infty \\right)$ нужна комбинация двух: $$P = 2 \\cdot \\min (P_l, P_r)$$"
   ]
  },
  {
   "cell_type": "markdown",
   "metadata": {},
   "source": [
    "В нашем случае область двухсторонняя, так что найдём P-значение по последней формуле."
   ]
  },
  {
   "cell_type": "code",
   "execution_count": 19,
   "metadata": {},
   "outputs": [
    {
     "data": {
      "text/plain": [
       "0.06978674686298825"
      ]
     },
     "execution_count": 19,
     "metadata": {},
     "output_type": "execute_result"
    }
   ],
   "source": [
    "p_left = stats.t.cdf(S, df=n - 1)\n",
    "p_right = 1 - stats.t.cdf(S, df=n - 1)\n",
    "\n",
    "pvalue = 2 * min(p_left, p_right)\n",
    "\n",
    "pvalue"
   ]
  },
  {
   "cell_type": "markdown",
   "metadata": {},
   "source": [
    "На практике использовать P-значения можно так: если выбранный нами уровень значимости меньше P-значения, полученного в результате теста, то гипотезу можно принять. В противном случае, гипотезу следует отвергнуть.\n",
    "\n",
    "Например, для текущей задачи мы использовали уровень значимости $\\alpha = 0.05$. Это меньше, чем получившееся P-значение, поэтому гипотеза принимается"
   ]
  },
  {
   "cell_type": "markdown",
   "metadata": {},
   "source": [
    "### Доверительные интервалы\n",
    "\n",
    "Ранее мы познакомились со способами оценивать параметры распределения по выборке. Всё это были __точечные__ оценки, т.е. мы оценивали параметр каким-то единственным числом.  В случае, когда оценка ведётся по выборке небольшого размера, оценивать параметры лучше с помощью доверительных интервалов. \n",
    "\n",
    "__Доверительный интервал__ — это интервал, который с некоторой уверенностью (заданной заранее) содержит значение оцениваемого параметра.\n",
    "\n",
    "Допустим, задано число $p$, называемое __уровнем доверия__. Тогда доверительным интервалом для параметра $\\theta$ называется пара статистик $L$ и $U$, таких, что\n",
    "\n",
    "$$P(L \\leq \\theta \\leq U) = p.$$\n",
    "\n",
    "Для нахождения доверительного интервала для математического ожидания часто пользуются центральной предельной теоремой и правилом двух или трёх сигм.\n",
    "\n"
   ]
  },
  {
   "cell_type": "markdown",
   "metadata": {},
   "source": [
    "Доверительные интервалы используют ту же математическую базу, что и статистические тесты.\n",
    "\n",
    "Например, пусть дана выборка $X$ из __нормально распределённой__ случайной величины с __известной дисперсией__ $\\sigma ^ 2$, и требуется построить доверительный интервал для математического ожидания $\\mu$ с доверительной вероятностью $p$. Мы знаем, что в этом случае статистика\n",
    "$$Z = \\dfrac{\\overline{X} - \\mu}{\\sigma / \\sqrt{n}}$$\n",
    "имеет стандартное нормальное распределение. \n",
    "\n",
    "Обозначим $\\alpha = 1 - p$. Можно убедиться в том, что\n",
    "$$P \\left( t_{\\alpha / 2} \\leq Z \\leq t_{1 - \\alpha / 2} \\right) = p,$$\n",
    "где $t_{\\beta}$ — квантиль порядка $\\beta$ для стандартного нормального распределения. Подставляя сюда $Z$, получаем\n",
    "$$P \\left( t_{\\alpha / 2} \\leq \\dfrac{\\overline{X} - \\mu}{\\sigma / \\sqrt{n}} \\leq t_{1 - \\alpha / 2} \\right) = p$$\n",
    "$$P \\left( t_{\\alpha / 2} \\cdot \\dfrac{\\sigma}{\\sqrt{n}} \\leq \\overline{X} - \\mu \\leq t_{1 - \\alpha / 2} \\cdot \\dfrac{\\sigma}{\\sqrt{n}} \\right) = p$$\n",
    "\n",
    "\n",
    "<center>\n",
    "    <div style=\"width: 350px;border:1px solid black;\">\n",
    "        $P \\left( \\overline{X} + t_{\\alpha / 2} \\cdot \\dfrac{\\sigma}{\\sqrt{n}} \\leq \\mu \\leq \\overline{X} + t_{1 - \\alpha / 2} \\cdot \\dfrac{\\sigma}{\\sqrt{n}} \\right) = p$\n",
    "    </div>\n",
    "</center>"
   ]
  },
  {
   "cell_type": "markdown",
   "metadata": {},
   "source": [
    "В случае __неизвестной дисперсии__ мы используем статистику\n",
    "$$t = \\dfrac{\\overline{X} - \\mu}{\\sigma_X / \\sqrt{n}},$$\n",
    "где $\\sigma_X$ — выборочное среднее квадратическое отклонение. Эта статистика имеет распределение Стьюдента, поэтому\n",
    "$$P \\left( t_{\\alpha / 2, \\: n - 1} \\leq t \\leq t_{1 - \\alpha / 2, \\: n - 1} \\right) = p,$$\n",
    "где $t_{\\beta, \\: n - 1}$ — квантиль порядка $\\beta$ для распределения Стьюдента с параметром $df = n - 1$. Аналогичным способом получаем доверительный интервал:\n",
    "$$P \\left( \\overline{X} + t_{\\alpha / 2, \\: n - 1} \\cdot \\dfrac{\\sigma_X}{\\sqrt{n}} \\leq \\mu \\leq \\overline{X} + t_{1 - \\alpha / 2, \\: n - 1} \\cdot \\dfrac{\\sigma_X}{\\sqrt{n}} \\right) = p$$"
   ]
  },
  {
   "cell_type": "markdown",
   "metadata": {},
   "source": [
    "__Пример 4__\n",
    "\n",
    "Построим доверительный интервал для мат. ожидания диаметра подшипника, используя выборку из примера 1. Будем считать, что дисперсия незивестна, и использовать t-статистику."
   ]
  },
  {
   "cell_type": "code",
   "execution_count": null,
   "metadata": {},
   "outputs": [],
   "source": [
    "n = samples.shape[0]\n",
    "\n",
    "mean = samples.mean()\n",
    "std = samples.std(ddof=1)\n",
    "\n",
    "n, mean, std"
   ]
  },
  {
   "cell_type": "markdown",
   "metadata": {},
   "source": [
    "Нужные нам квантили найдём с помощью `scipy`:"
   ]
  },
  {
   "cell_type": "code",
   "execution_count": null,
   "metadata": {},
   "outputs": [],
   "source": [
    "p = 0.95\n",
    "alpha = 1 - p\n",
    "\n",
    "t1 = stats.t.ppf(alpha / 2, df=n - 1)\n",
    "t2 = stats.t.ppf(1 - alpha / 2, df=n - 1)\n",
    "\n",
    "t1, t2"
   ]
  },
  {
   "cell_type": "markdown",
   "metadata": {},
   "source": [
    "Итак, доверительный интервал:"
   ]
  },
  {
   "cell_type": "code",
   "execution_count": null,
   "metadata": {},
   "outputs": [],
   "source": [
    "(mean + t1 * std / np.sqrt(n), mean + t2 * std / np.sqrt(n))"
   ]
  },
  {
   "cell_type": "markdown",
   "metadata": {},
   "source": [
    "## Упражнения"
   ]
  },
  {
   "cell_type": "markdown",
   "metadata": {},
   "source": [
    "__Задача 1__\n",
    "\n",
    "Известно, что генеральная совокупность распределена нормально с известным средним квадратическим отклонением 16. Найти доверительный интервал для оценки математического ожидания `mu` с надёжностью 0.95, если выборочное среднее равно 80, а объём равен 256.\n",
    "\n",
    "__Задача 2__\n",
    "\n",
    "Продавец утверждает, что средний вес пачки печенья составляет 200 г. Из партии извлечена выборка из 10 пачек. Вес каждой пачки составляет:\n",
    "```\n",
    "202, 203, 199, 197, 195, 201, 200, 204, 194, 190\n",
    "```\n",
    "Известно, что их веса распределены нормально. \n",
    "1. Верно ли утверждение продавца, если учитывать, что уровень значимости равен 1%? \n",
    "2. Найдите P-значение для данного теста.\n",
    "\n",
    "__Задача 3__\n",
    "\n",
    "Дана выборка диаметров подшипников из примера 1 с занятия 5:\n",
    "```\n",
    "samples = [0.6603, 0.9466, 0.5968, 1.3792, 1.5481, 0.7515, 1.0681, 1.1134,\n",
    "           1.2088, 1.701 , 1.0282, 1.3579, 1.0191, 1.1784, 1.1168, 1.1372,\n",
    "           0.7273, 1.3958, 0.8665, 1.5112, 1.161 , 1.0232, 1.0865, 1.02  ]\n",
    "```\n",
    "Предполагая, что диаметры подшипников распределены нормально, проверьте гипотезу о том, что дисперсия случайной величины равна `0.0625` при уровне значимости `alpha = 0.05`. Что для этого нужно знать:\n",
    "1. Альтернативная гипотеза двухсторонняя.\n",
    "2. Статистика для теста: `H = (n - 1) * sample_variance / variance`, где `n` - число элементов в выборке, `sample_variance` - несмещённая оценка дисперсии, `variance` - утверждаемая нулевой гипотезой дисперсия.\n",
    "3. Эта статистика в предположении верности нулевой гипотезы имеет распределение хи-квадрат с параметром `df = n - 1`. Её квантили можно найти с помощью функции `scipy.stats.chi2.ppf`."
   ]
  }
 ],
 "metadata": {
  "colab": {
   "name": "Матстат - Урок 5.ipynb",
   "provenance": [],
   "version": "0.3.2"
  },
  "kernelspec": {
   "display_name": "Python 3 (ipykernel)",
   "language": "python",
   "name": "python3"
  },
  "language_info": {
   "codemirror_mode": {
    "name": "ipython",
    "version": 3
   },
   "file_extension": ".py",
   "mimetype": "text/x-python",
   "name": "python",
   "nbconvert_exporter": "python",
   "pygments_lexer": "ipython3",
   "version": "3.9.6"
  }
 },
 "nbformat": 4,
 "nbformat_minor": 1
}
