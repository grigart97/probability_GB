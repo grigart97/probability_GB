{
 "cells": [
  {
   "cell_type": "markdown",
   "id": "e486256c",
   "metadata": {},
   "source": [
    "## Домашняя работа 8"
   ]
  },
  {
   "cell_type": "code",
   "execution_count": 41,
   "id": "839e9b38",
   "metadata": {},
   "outputs": [],
   "source": [
    "import numpy as np\n",
    "from scipy import stats"
   ]
  },
  {
   "cell_type": "markdown",
   "id": "b74161e7",
   "metadata": {},
   "source": [
    "__Задача 1__\n",
    "\n",
    "Провести дисперсионный анализ для определения того, есть ли различия среднего роста среди взрослых футболистов, хоккеистов и штангистов. Даны значения роста в трех группах случайно выбранных спортсменов: \n",
    "```\n",
    "football_players = [173, 175, 180, 178, 177, 185, 183, 182]  \n",
    "hockey_players = [177, 179, 180, 188, 177, 172, 171, 184, 180]  \n",
    "lifters = [172, 173, 169, 177, 166, 180, 178, 177, 172, 166, 170]  \n",
    "```"
   ]
  },
  {
   "cell_type": "code",
   "execution_count": 28,
   "id": "f40f8704",
   "metadata": {},
   "outputs": [],
   "source": [
    "football_players = np.array([173, 175, 180, 178, 177, 185, 183, 182])\n",
    "hockey_players = np.array([177, 179, 180, 188, 177, 172, 171, 184, 180])\n",
    "lifters = np.array([172, 173, 169, 177, 166, 180, 178, 177, 172, 166, 170])"
   ]
  },
  {
   "cell_type": "code",
   "execution_count": 29,
   "id": "4ccff422",
   "metadata": {},
   "outputs": [],
   "source": [
    "f_mean = football_players.mean()\n",
    "h_mean = hockey_players.mean()\n",
    "l_mean = lifters.mean()\n",
    "\n",
    "f_n = len(football_players)\n",
    "h_n = len(hockey_players)\n",
    "l_n = len(lifters)"
   ]
  },
  {
   "cell_type": "code",
   "execution_count": 30,
   "id": "c006c765",
   "metadata": {},
   "outputs": [
    {
     "data": {
      "text/plain": [
       "(179.125, 178.66666666666666, 172.72727272727272)"
      ]
     },
     "execution_count": 30,
     "metadata": {},
     "output_type": "execute_result"
    }
   ],
   "source": [
    "f_mean, h_mean, l_mean"
   ]
  },
  {
   "cell_type": "code",
   "execution_count": 31,
   "id": "90cb9029",
   "metadata": {},
   "outputs": [
    {
     "data": {
      "text/plain": [
       "176.46428571428572"
      ]
     },
     "execution_count": 31,
     "metadata": {},
     "output_type": "execute_result"
    }
   ],
   "source": [
    "sportsmen = np.concatenate([football_players, hockey_players, lifters])\n",
    "all_mean = sportsmen.mean()\n",
    "all_n = f_n + h_n + l_n\n",
    "\n",
    "all_mean"
   ]
  },
  {
   "cell_type": "markdown",
   "id": "070ff11a",
   "metadata": {},
   "source": [
    "$$S^2_b=\\sum_{i=1}^k(\\overline{y}_i - \\overline{y})^2n_i$$"
   ]
  },
  {
   "cell_type": "markdown",
   "id": "42b4bac7",
   "metadata": {},
   "source": [
    "$$S^2_w=\\sum_{i=1}^k\\sum^{n_i}_{j=1}(y_{ij}-\\overline{y}_i)^2$$"
   ]
  },
  {
   "cell_type": "code",
   "execution_count": 32,
   "id": "1776a845",
   "metadata": {},
   "outputs": [
    {
     "data": {
      "text/plain": [
       "(253.9074675324678, 577.0568181818182)"
      ]
     },
     "execution_count": 32,
     "metadata": {},
     "output_type": "execute_result"
    }
   ],
   "source": [
    "S_b = f_n * (f_mean - all_mean) ** 2 + h_n * (h_mean - all_mean) ** 2 + l_n * (l_mean - all_mean) ** 2\n",
    "S_w = ((football_players - f_mean) ** 2).sum() + ((hockey_players - h_mean) ** 2).sum() + ((lifters - l_mean) ** 2).sum()\n",
    "S_b, S_w"
   ]
  },
  {
   "cell_type": "code",
   "execution_count": 37,
   "id": "be1b07ff",
   "metadata": {},
   "outputs": [
    {
     "data": {
      "text/plain": [
       "830.9642857142854"
      ]
     },
     "execution_count": 37,
     "metadata": {},
     "output_type": "execute_result"
    }
   ],
   "source": [
    "((sportsmen - all_mean) ** 2).sum()"
   ]
  },
  {
   "cell_type": "code",
   "execution_count": 38,
   "id": "c7078e99",
   "metadata": {},
   "outputs": [
    {
     "data": {
      "text/plain": [
       "830.964285714286"
      ]
     },
     "execution_count": 38,
     "metadata": {},
     "output_type": "execute_result"
    }
   ],
   "source": [
    "S_b + S_w"
   ]
  },
  {
   "cell_type": "markdown",
   "id": "05a39d70",
   "metadata": {},
   "source": [
    "$$T=\\frac{\\sigma^2_b}{\\sigma^2_w}$$"
   ]
  },
  {
   "cell_type": "code",
   "execution_count": 40,
   "id": "0c33effd",
   "metadata": {},
   "outputs": [],
   "source": [
    "k = 3\n",
    "\n",
    "k1 = k - 1\n",
    "k2 = all_n - k\n",
    "\n",
    "sigma_b = S_b / k1\n",
    "sigma_w = S_w / k2\n",
    "\n",
    "T = sigma_b / sigma_w"
   ]
  },
  {
   "cell_type": "code",
   "execution_count": 42,
   "id": "ff978ce3",
   "metadata": {},
   "outputs": [
    {
     "data": {
      "text/plain": [
       "3.3851899614491687"
      ]
     },
     "execution_count": 42,
     "metadata": {},
     "output_type": "execute_result"
    }
   ],
   "source": [
    "alpha = 0.05\n",
    "\n",
    "F = stats.f.ppf(1 - alpha, k1, k2)\n",
    "F"
   ]
  },
  {
   "cell_type": "code",
   "execution_count": 43,
   "id": "4daca75b",
   "metadata": {},
   "outputs": [
    {
     "data": {
      "text/plain": [
       "0.010482206918698611"
      ]
     },
     "execution_count": 43,
     "metadata": {},
     "output_type": "execute_result"
    }
   ],
   "source": [
    "p = 1 - stats.f.cdf(T, k1, k2)\n",
    "p"
   ]
  },
  {
   "cell_type": "markdown",
   "id": "53f7ac56",
   "metadata": {},
   "source": [
    "Видно, что $$"
   ]
  }
 ],
 "metadata": {
  "kernelspec": {
   "display_name": "Python 3 (ipykernel)",
   "language": "python",
   "name": "python3"
  },
  "language_info": {
   "codemirror_mode": {
    "name": "ipython",
    "version": 3
   },
   "file_extension": ".py",
   "mimetype": "text/x-python",
   "name": "python",
   "nbconvert_exporter": "python",
   "pygments_lexer": "ipython3",
   "version": "3.9.6"
  }
 },
 "nbformat": 4,
 "nbformat_minor": 5
}
