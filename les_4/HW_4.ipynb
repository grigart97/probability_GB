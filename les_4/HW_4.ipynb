{
 "cells": [
  {
   "cell_type": "markdown",
   "id": "189387c2",
   "metadata": {},
   "source": [
    "## Практическое задание 4"
   ]
  },
  {
   "cell_type": "code",
   "execution_count": 1,
   "id": "d3fa4c58",
   "metadata": {},
   "outputs": [],
   "source": [
    "import math\n",
    "import random\n",
    "from scipy import stats\n",
    "import numpy as np\n",
    "import pandas as pd\n",
    "from matplotlib import pyplot as plt"
   ]
  },
  {
   "cell_type": "code",
   "execution_count": 2,
   "id": "6b35e635",
   "metadata": {},
   "outputs": [],
   "source": [
    "def edf(samples, x): # emperica; distribusion function\n",
    "    return samples[samples < x].shape[0] / samples.shape[0]"
   ]
  },
  {
   "cell_type": "code",
   "execution_count": 3,
   "id": "6ab5a2c9",
   "metadata": {},
   "outputs": [],
   "source": [
    "def pdf_uniform(a, b, x): # probability density function\n",
    "    return 1 / (b - a) if a <= x <= b else 0"
   ]
  },
  {
   "cell_type": "code",
   "execution_count": 4,
   "id": "8adda33a",
   "metadata": {},
   "outputs": [],
   "source": [
    "def pdf_normal(loc, scale, x):\n",
    "    return np.exp(-((x - loc) ** 2) / (2 * scale ** 2)) / (scale * np.math.sqrt(2 * np.pi))"
   ]
  },
  {
   "cell_type": "markdown",
   "id": "ba69cb01",
   "metadata": {},
   "source": [
    "### __Задача 1__\n",
    "\n",
    "О непрерывной равномерно распределенной случайной величине `B` известно, что ее дисперсия равна 0.2. Можно ли найти правую границу величины `B` и ее среднее значение зная, что левая граница равна 0.5? Если да, найдите ее."
   ]
  },
  {
   "cell_type": "markdown",
   "id": "4c02fb0e",
   "metadata": {},
   "source": [
    "Для равномерного распределения справедливы выражения:"
   ]
  },
  {
   "cell_type": "markdown",
   "id": "255d00f2",
   "metadata": {},
   "source": [
    "$$M(X)=\\frac{a+b}{2},\\enspace D(X)=\\frac{(b-a)^2}{12}$$"
   ]
  },
  {
   "cell_type": "markdown",
   "id": "9fa53f1e",
   "metadata": {},
   "source": [
    "Соответственно, из второго выражения, зная дисперсию и левую границу, можно найти правую границу."
   ]
  },
  {
   "cell_type": "markdown",
   "id": "826169c9",
   "metadata": {},
   "source": [
    "$$0.2=\\frac{(b-0.5)^2}{12}$$  \n",
    "$$2.4=b^2-b+0.25$$  \n",
    "$$b^2-b-2.15=0$$  \n",
    "$$D = 1 - 4\\cdot1\\cdot(-2.15)=1+8.6=9.6$$  \n",
    "$$b_{1,2}=\\frac{-b\\pm\\sqrt{D}}{2a}=\\frac{1\\pm\\sqrt{9.6}}{2}$$  \n",
    "$$b_1=\\frac{1-4\\sqrt{0.6}}{2},\\enspace b_2=\\frac{1+4\\sqrt{0.6}}{2}$$"
   ]
  },
  {
   "cell_type": "markdown",
   "id": "b39fa315",
   "metadata": {},
   "source": [
    "$a_1$ не удовлетворяет геометрическому смылсу задачи, так как находится левее левой границы. Следовательно, правая граница равномерно распределённой случайной величины `B` - $0.5+2\\sqrt{0.6}$"
   ]
  },
  {
   "cell_type": "markdown",
   "id": "32b003c5",
   "metadata": {},
   "source": [
    "Далее найдём среднее значение:"
   ]
  },
  {
   "cell_type": "markdown",
   "id": "90cd98c4",
   "metadata": {},
   "source": [
    "$$M(X)=\\frac{0.5+2\\sqrt{0.6}+0.5}{2}=0.5 + \\sqrt{0.6}$$"
   ]
  },
  {
   "cell_type": "code",
   "execution_count": 5,
   "id": "2ecfcc09",
   "metadata": {},
   "outputs": [
    {
     "data": {
      "image/png": "[encoded data removed]",
      "text/plain": [
       "<Figure size 432x288 with 1 Axes>"
      ]
     },
     "metadata": {
      "needs_background": "light"
     },
     "output_type": "display_data"
    }
   ],
   "source": [
    "a_task1 = 0.5\n",
    "b_task1 = 0.5 + 2 * np.math.sqrt(0.6)\n",
    "\n",
    "samples_task1 = np.random.uniform(a_task1, b_task1, 10000)\n",
    "\n",
    "ox_task1 = np.linspace(a_task1 - 1, b_task1 + 1, 10000)\n",
    "edf_task1 = np.array([edf(samples_task1, x) for x in ox_task1])\n",
    "\n",
    "plt.plot(ox_task1, edf_task1)\n",
    "plt.show()"
   ]
  },
  {
   "cell_type": "code",
   "execution_count": 6,
   "id": "9e0210aa",
   "metadata": {},
   "outputs": [
    {
     "data": {
      "image/png": "[encoded data removed]",
      "text/plain": [
       "<Figure size 432x288 with 1 Axes>"
      ]
     },
     "metadata": {
      "needs_background": "light"
     },
     "output_type": "display_data"
    }
   ],
   "source": [
    "oy_task1 = np.array([pdf_uniform(a_task1, b_task1, x) for x in ox_task1])\n",
    "\n",
    "plt.hist(samples_task1, density=True)\n",
    "plt.plot(ox_task1, oy_task1)\n",
    "plt.show()"
   ]
  },
  {
   "cell_type": "code",
   "execution_count": 7,
   "id": "50bb9aab",
   "metadata": {},
   "outputs": [
    {
     "name": "stdout",
     "output_type": "stream",
     "text": [
      "1.2745966692414834 1.2745966692414834 \n",
      " 0.2 0.20000000000000004\n"
     ]
    }
   ],
   "source": [
    "print(0.5 + np.math.sqrt(0.6), (b_task1 + a_task1) / 2, '\\n', 0.2, (b_task1 - a_task1) ** 2 / 12)"
   ]
  },
  {
   "cell_type": "markdown",
   "id": "c910b498",
   "metadata": {},
   "source": [
    "__Ответ:__ правая граница `B` = $0.5+2\\sqrt{0.6}$; Среднее значение - $\\sqrt{0.6}$"
   ]
  },
  {
   "cell_type": "markdown",
   "id": "4adc4be3",
   "metadata": {},
   "source": [
    "### __Задача 2__\n",
    "\n",
    "Рост взрослого населения города `X` имеет нормальное распределение, причем, средний рост равен 174 см, а среднее квадратическое отклонение равно 8 см. посчитайте, какова вероятность того, что случайным образом выбранный взрослый человек имеет рост:\n",
    "1. больше 182 см?\n",
    "2. больше 190 см?\n",
    "3. от 166 см до 190 см?\n",
    "4. от 166 см до 182 см?\n",
    "5. от 158 см до 190 см?\n",
    "6. не выше 150 см или не ниже 190 см?\n",
    "7. не выше 150 см или не ниже 198 см?\n",
    "8. ниже 166 см?\n",
    "\n",
    "Задачу можно решить двумя способами: без использования сторонних библиотек (`numpy`, `scipy`, `pandas` и пр.), а затем проверить себя с помощью встроенных функций"
   ]
  },
  {
   "cell_type": "markdown",
   "id": "08d81289",
   "metadata": {},
   "source": [
    "$$f(x) = \\dfrac{1}{\\sigma \\sqrt{2 \\pi}} \\: e^{- \\dfrac{(x - a)^2}{2 \\sigma^2}}$$"
   ]
  },
  {
   "cell_type": "markdown",
   "id": "ecfc61df",
   "metadata": {},
   "source": [
    "$\\mu=174; \\enspace \\sigma=8$"
   ]
  },
  {
   "cell_type": "code",
   "execution_count": 8,
   "id": "42565669",
   "metadata": {},
   "outputs": [],
   "source": [
    "# получив первообразную от функции плотности распределения получим следующий вид:\n",
    "def my_cdf(loc, scale, x, more_less='less'):\n",
    "    if more_less == 'more':\n",
    "        return math.erfc((x - loc)/(scale * math.sqrt(2))) / 2\n",
    "    else:\n",
    "        return math.erf((x - loc)/(scale * math.sqrt(2))) / 2"
   ]
  },
  {
   "cell_type": "code",
   "execution_count": 9,
   "id": "51625b45",
   "metadata": {},
   "outputs": [],
   "source": [
    "loc_task2 = 174\n",
    "scale_task2 = 8"
   ]
  },
  {
   "cell_type": "code",
   "execution_count": 10,
   "id": "c9fcfdf2",
   "metadata": {
    "scrolled": false
   },
   "outputs": [
    {
     "data": {
      "image/png": "[encoded data removed]",
      "text/plain": [
       "<Figure size 432x288 with 1 Axes>"
      ]
     },
     "metadata": {
      "needs_background": "light"
     },
     "output_type": "display_data"
    }
   ],
   "source": [
    "samples_task2 = np.random.normal(loc_task2, scale_task2, size=10001)\n",
    "\n",
    "ox_task2 = np.linspace(100, 250, 10001)\n",
    "edf_task2 = np.array([edf(samples_task2, x) for x in ox_task2])\n",
    "\n",
    "plt.plot(ox_task2, edf_task2)\n",
    "plt.show()"
   ]
  },
  {
   "cell_type": "code",
   "execution_count": 11,
   "id": "921cfc00",
   "metadata": {
    "scrolled": false
   },
   "outputs": [
    {
     "data": {
      "image/png": "[encoded data removed]",
      "text/plain": [
       "<Figure size 432x288 with 1 Axes>"
      ]
     },
     "metadata": {
      "needs_background": "light"
     },
     "output_type": "display_data"
    }
   ],
   "source": [
    "oy_task2 = np.array([pdf_normal(loc_task2, scale_task2, x) for x in ox_task2])\n",
    "\n",
    "plt.hist(samples_task2, density=True, bins=20)\n",
    "plt.plot(ox_task2, oy_task2)\n",
    "plt.show()"
   ]
  },
  {
   "cell_type": "markdown",
   "id": "c9198226",
   "metadata": {},
   "source": [
    "1. Больше 182 см:"
   ]
  },
  {
   "cell_type": "code",
   "execution_count": 12,
   "id": "43734c10",
   "metadata": {},
   "outputs": [],
   "source": [
    "x1_task2 = 182"
   ]
  },
  {
   "cell_type": "code",
   "execution_count": 13,
   "id": "55b240b8",
   "metadata": {},
   "outputs": [
    {
     "data": {
      "text/plain": [
       "0.15865525393145707"
      ]
     },
     "execution_count": 13,
     "metadata": {},
     "output_type": "execute_result"
    }
   ],
   "source": [
    "1 - stats.norm.cdf(x1_task2, loc_task2, scale_task2)"
   ]
  },
  {
   "cell_type": "code",
   "execution_count": 14,
   "id": "d6b1b408",
   "metadata": {
    "scrolled": true
   },
   "outputs": [
    {
     "data": {
      "text/plain": [
       "0.15865525393145705"
      ]
     },
     "execution_count": 14,
     "metadata": {},
     "output_type": "execute_result"
    }
   ],
   "source": [
    "my_cdf(loc_task2, scale_task2, x1_task2, 'more')"
   ]
  },
  {
   "cell_type": "markdown",
   "id": "6513e8b8",
   "metadata": {},
   "source": [
    "2. Больше 190 см:"
   ]
  },
  {
   "cell_type": "code",
   "execution_count": 15,
   "id": "284a0b79",
   "metadata": {},
   "outputs": [],
   "source": [
    "x2_task2 = 190"
   ]
  },
  {
   "cell_type": "code",
   "execution_count": 16,
   "id": "9631897b",
   "metadata": {},
   "outputs": [
    {
     "data": {
      "text/plain": [
       "0.02275013194817921"
      ]
     },
     "execution_count": 16,
     "metadata": {},
     "output_type": "execute_result"
    }
   ],
   "source": [
    "1 - stats.norm.cdf(x2_task2, loc_task2, scale_task2)"
   ]
  },
  {
   "cell_type": "code",
   "execution_count": 17,
   "id": "66786b62",
   "metadata": {
    "scrolled": false
   },
   "outputs": [
    {
     "data": {
      "text/plain": [
       "0.022750131948179216"
      ]
     },
     "execution_count": 17,
     "metadata": {},
     "output_type": "execute_result"
    }
   ],
   "source": [
    "my_cdf(loc_task2, scale_task2, x2_task2, 'more')"
   ]
  },
  {
   "cell_type": "markdown",
   "id": "736d08b0",
   "metadata": {},
   "source": [
    "3. От 166 до 190 см:"
   ]
  },
  {
   "cell_type": "code",
   "execution_count": 18,
   "id": "d17fd50f",
   "metadata": {},
   "outputs": [],
   "source": [
    "x3_1_task2 = 166\n",
    "x3_2_task2 = 190"
   ]
  },
  {
   "cell_type": "code",
   "execution_count": 19,
   "id": "18142205",
   "metadata": {},
   "outputs": [
    {
     "data": {
      "text/plain": [
       "0.8185946141203637"
      ]
     },
     "execution_count": 19,
     "metadata": {},
     "output_type": "execute_result"
    }
   ],
   "source": [
    "stats.norm.cdf(x3_2_task2, loc_task2, scale_task2) - stats.norm.cdf(x3_1_task2, loc_task2, scale_task2)"
   ]
  },
  {
   "cell_type": "code",
   "execution_count": 20,
   "id": "5bba8319",
   "metadata": {
    "scrolled": true
   },
   "outputs": [
    {
     "data": {
      "text/plain": [
       "0.8185946141203637"
      ]
     },
     "execution_count": 20,
     "metadata": {},
     "output_type": "execute_result"
    }
   ],
   "source": [
    "my_cdf(loc_task2, scale_task2, x3_2_task2, 'less') - my_cdf(loc_task2, scale_task2, x3_1_task2, 'less')"
   ]
  },
  {
   "cell_type": "markdown",
   "id": "75ff4194",
   "metadata": {},
   "source": [
    "4. От 166 до 182 см:"
   ]
  },
  {
   "cell_type": "code",
   "execution_count": 21,
   "id": "76dd6384",
   "metadata": {},
   "outputs": [],
   "source": [
    "x4_1_task2 = 166\n",
    "x4_2_task2 = 182"
   ]
  },
  {
   "cell_type": "code",
   "execution_count": 22,
   "id": "87cbf1f8",
   "metadata": {},
   "outputs": [
    {
     "data": {
      "text/plain": [
       "0.6826894921370859"
      ]
     },
     "execution_count": 22,
     "metadata": {},
     "output_type": "execute_result"
    }
   ],
   "source": [
    "stats.norm.cdf(x4_2_task2, loc_task2, scale_task2) - stats.norm.cdf(x4_1_task2, loc_task2, scale_task2)"
   ]
  },
  {
   "cell_type": "code",
   "execution_count": 23,
   "id": "fdcbe66a",
   "metadata": {
    "scrolled": true
   },
   "outputs": [
    {
     "data": {
      "text/plain": [
       "0.6826894921370859"
      ]
     },
     "execution_count": 23,
     "metadata": {},
     "output_type": "execute_result"
    }
   ],
   "source": [
    "my_cdf(loc_task2, scale_task2, x4_2_task2, 'less') - my_cdf(loc_task2, scale_task2, x4_1_task2, 'less')"
   ]
  },
  {
   "cell_type": "markdown",
   "id": "23bfe249",
   "metadata": {},
   "source": [
    "5. От 158 до 190 см:"
   ]
  },
  {
   "cell_type": "code",
   "execution_count": 24,
   "id": "61bf0de7",
   "metadata": {},
   "outputs": [],
   "source": [
    "x5_1_task2 = 158\n",
    "x5_2_task2 = 190"
   ]
  },
  {
   "cell_type": "code",
   "execution_count": 25,
   "id": "0e75d0e2",
   "metadata": {},
   "outputs": [
    {
     "data": {
      "text/plain": [
       "0.9544997361036416"
      ]
     },
     "execution_count": 25,
     "metadata": {},
     "output_type": "execute_result"
    }
   ],
   "source": [
    "stats.norm.cdf(x5_2_task2, loc_task2, scale_task2) - stats.norm.cdf(x5_1_task2, loc_task2, scale_task2)"
   ]
  },
  {
   "cell_type": "code",
   "execution_count": 26,
   "id": "24d38b83",
   "metadata": {
    "scrolled": true
   },
   "outputs": [
    {
     "data": {
      "text/plain": [
       "0.9544997361036416"
      ]
     },
     "execution_count": 26,
     "metadata": {},
     "output_type": "execute_result"
    }
   ],
   "source": [
    "my_cdf(loc_task2, scale_task2, x5_2_task2, 'less') - my_cdf(loc_task2, scale_task2, x5_1_task2, 'less')"
   ]
  },
  {
   "cell_type": "markdown",
   "id": "e5549627",
   "metadata": {},
   "source": [
    "6. не выше 150 см или не ниже 190 см:"
   ]
  },
  {
   "cell_type": "code",
   "execution_count": 27,
   "id": "826e53fc",
   "metadata": {},
   "outputs": [],
   "source": [
    "x6_1_task2 = 150\n",
    "x6_2_task2 = 190"
   ]
  },
  {
   "cell_type": "code",
   "execution_count": 28,
   "id": "5afbdf89",
   "metadata": {},
   "outputs": [
    {
     "data": {
      "text/plain": [
       "0.0241000299798093"
      ]
     },
     "execution_count": 28,
     "metadata": {},
     "output_type": "execute_result"
    }
   ],
   "source": [
    "1 - stats.norm.cdf(x6_2_task2, loc_task2, scale_task2) + stats.norm.cdf(x6_1_task2, loc_task2, scale_task2)"
   ]
  },
  {
   "cell_type": "code",
   "execution_count": 29,
   "id": "a2e129ae",
   "metadata": {
    "scrolled": true
   },
   "outputs": [
    {
     "data": {
      "text/plain": [
       "0.024100029979809312"
      ]
     },
     "execution_count": 29,
     "metadata": {},
     "output_type": "execute_result"
    }
   ],
   "source": [
    "1 - my_cdf(loc_task2, scale_task2, x6_2_task2, 'less') + my_cdf(loc_task2, scale_task2, x6_1_task2, 'less')"
   ]
  },
  {
   "cell_type": "markdown",
   "id": "99b78847",
   "metadata": {},
   "source": [
    "7. не выше 150 см или не ниже 198 см:"
   ]
  },
  {
   "cell_type": "code",
   "execution_count": 30,
   "id": "bf2a95d5",
   "metadata": {},
   "outputs": [],
   "source": [
    "x7_1_task2 = 150\n",
    "x7_2_task2 = 198"
   ]
  },
  {
   "cell_type": "code",
   "execution_count": 31,
   "id": "c0221c93",
   "metadata": {},
   "outputs": [
    {
     "data": {
      "text/plain": [
       "0.0026997960632601965"
      ]
     },
     "execution_count": 31,
     "metadata": {},
     "output_type": "execute_result"
    }
   ],
   "source": [
    "1 - stats.norm.cdf(x7_2_task2, loc_task2, scale_task2) + stats.norm.cdf(x7_1_task2, loc_task2, scale_task2)"
   ]
  },
  {
   "cell_type": "code",
   "execution_count": 32,
   "id": "6c44663a",
   "metadata": {
    "scrolled": true
   },
   "outputs": [
    {
     "data": {
      "text/plain": [
       "0.002699796063260207"
      ]
     },
     "execution_count": 32,
     "metadata": {},
     "output_type": "execute_result"
    }
   ],
   "source": [
    "1 - my_cdf(loc_task2, scale_task2, x7_2_task2, 'less') + my_cdf(loc_task2, scale_task2, x7_1_task2, 'less')"
   ]
  },
  {
   "cell_type": "markdown",
   "id": "64101182",
   "metadata": {},
   "source": [
    "7. ниже 166:"
   ]
  },
  {
   "cell_type": "code",
   "execution_count": 33,
   "id": "5c9e3c6c",
   "metadata": {},
   "outputs": [],
   "source": [
    "x8_task2 = 166"
   ]
  },
  {
   "cell_type": "code",
   "execution_count": 34,
   "id": "e191cc7d",
   "metadata": {},
   "outputs": [
    {
     "data": {
      "text/plain": [
       "0.15865525393145707"
      ]
     },
     "execution_count": 34,
     "metadata": {},
     "output_type": "execute_result"
    }
   ],
   "source": [
    "stats.norm.cdf(x8_task2, loc_task2, scale_task2)"
   ]
  },
  {
   "cell_type": "code",
   "execution_count": 35,
   "id": "adab308c",
   "metadata": {
    "scrolled": true
   },
   "outputs": [
    {
     "data": {
      "text/plain": [
       "0.15865525393145707"
      ]
     },
     "execution_count": 35,
     "metadata": {},
     "output_type": "execute_result"
    }
   ],
   "source": [
    "1 - my_cdf(loc_task2, scale_task2, x8_task2, 'more')"
   ]
  },
  {
   "cell_type": "markdown",
   "id": "cba0cc24",
   "metadata": {},
   "source": [
    "### __Задача 3 (Дополнительно)__\n",
    "\n",
    "Коробки с шоколадом упаковываются автоматически. Их средняя масса равна 1.06 кг. Известно, что 5% коробок имеют массу, меньшую 1 кг. Найдите: а) среднее квадратическое отклонение массы коробки, б) процент коробок, имеющих массу больше 1.1 кг.\n",
    "\n",
    "_Подсказка_. 1. Можно считать, что распределение массы коробки нормальное. 2. Найдите такое значение `scale`, для которого значение `cdf(x=1, loc=1.06, scale=scale)` близко к 0.05. Точности 0.0001 будет достаточно.\n"
   ]
  },
  {
   "cell_type": "code",
   "execution_count": 40,
   "id": "b0dd09bb",
   "metadata": {},
   "outputs": [],
   "source": [
    "def task3a(x, loc, quantile, step, error):\n",
    "    for scale in np.arange(step, 2, step):\n",
    "        answer = stats.norm.cdf(x, loc_task3, scale)\n",
    "        if quantile + error  >= answer >= quantile - error:\n",
    "            return (answer, scale)"
   ]
  },
  {
   "cell_type": "code",
   "execution_count": 41,
   "id": "55d507ca",
   "metadata": {},
   "outputs": [
    {
     "data": {
      "text/plain": [
       "(0.04990045100093492, 0.036456)"
      ]
     },
     "execution_count": 41,
     "metadata": {},
     "output_type": "execute_result"
    }
   ],
   "source": [
    "loc_task3 = 1.06\n",
    "x = 1\n",
    "quantile = 0.05\n",
    "step = 1e-6\n",
    "check, scale_task3 = task3a(x, loc_task3, quantile, step, 0.0001)\n",
    "check, scale_task3"
   ]
  },
  {
   "cell_type": "code",
   "execution_count": 42,
   "id": "a442a3c3",
   "metadata": {
    "scrolled": true
   },
   "outputs": [
    {
     "data": {
      "text/plain": [
       "0.13627412858878785"
      ]
     },
     "execution_count": 42,
     "metadata": {},
     "output_type": "execute_result"
    }
   ],
   "source": [
    "1 - stats.norm.cdf(1.1, loc_task3, scale_task3)"
   ]
  },
  {
   "cell_type": "code",
   "execution_count": 43,
   "id": "7711dcbf",
   "metadata": {
    "scrolled": true
   },
   "outputs": [
    {
     "data": {
      "text/plain": [
       "0.1362741285887879"
      ]
     },
     "execution_count": 43,
     "metadata": {},
     "output_type": "execute_result"
    }
   ],
   "source": [
    "my_cdf(loc_task3, scale_task3, 1.1, 'more')"
   ]
  }
 ],
 "metadata": {
  "kernelspec": {
   "display_name": "Python 3 (ipykernel)",
   "language": "python",
   "name": "python3"
  },
  "language_info": {
   "codemirror_mode": {
    "name": "ipython",
    "version": 3
   },
   "file_extension": ".py",
   "mimetype": "text/x-python",
   "name": "python",
   "nbconvert_exporter": "python",
   "pygments_lexer": "ipython3",
   "version": "3.9.6"
  }
 },
 "nbformat": 4,
 "nbformat_minor": 5
}
