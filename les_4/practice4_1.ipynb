{
 "cells": [
  {
   "cell_type": "markdown",
   "metadata": {
    "colab_type": "text",
    "id": "BtMkTMxui6Ut"
   },
   "source": [
    "# Урок 4"
   ]
  },
  {
   "cell_type": "markdown",
   "metadata": {
    "colab_type": "text",
    "id": "C8EP-7Wui6Ux"
   },
   "source": [
    "## Непрерывные случайные величины. Функция распределения и плотность распределения вероятностей. Равномерное и нормальное распределение. Центральная предельная теорема"
   ]
  },
  {
   "cell_type": "markdown",
   "metadata": {},
   "source": [
    "### Непрерывные случайные величины"
   ]
  },
  {
   "cell_type": "markdown",
   "metadata": {},
   "source": [
    "Ранее мы познакомились с дискретными случайными величинами. Такие величины принимают дискретные, т.е. разделимые значения. Например, это может быть конечное или счётное множество значений.\n",
    "\n",
    "__Непрерывные случайные величины__ принимают все значения, содержащиеся в заданном промежутке. Промежуток может быть конечным или бесконечным.\n",
    "\n",
    "Например, рост или вес человека — непрерывные случайные величины: они могут принимать любое значение в пределах от $0$ до бесконечности (потенциально).\n",
    "\n",
    "Закон распределения вероятностей дискретной случайной величины мы задавали как соответствие между значениями $a_i$ случайной величины и соответствующими вероятностями $P(X = a_i)$. Для непрерывных случайных величин аналогичный подход невозможен, поскольку вероятность $P(X = a)$ для непрерывной случайной величины $X$ равна $0$ для любого $a$.\n",
    "\n",
    "В связи с этим для непрерывных случайных величин вводят вместо этого __функцию распределения вероятностей__:\n",
    "\n",
    "$$F(x) = P(X < x).$$\n",
    "\n",
    "Функция распределения показывает, какова для каждого $x$ вероятность того, что случайная величина $X$ принимает значение меньше $x$. Эта функция монотонно возрастает на отрезке, на котором определена случайная величина. Кроме того, $F(-\\infty) = 0$ и $F(\\infty) = 1$.\n",
    "\n",
    "__Пример 1__\n",
    "\n",
    "Рассмотрим опять данные по хоккеистам и построим по ним _эмпирическую_ (т.е. полученную опытным путём) функцию распределения возраста хоккеистов."
   ]
  },
  {
   "cell_type": "code",
   "execution_count": 3,
   "metadata": {},
   "outputs": [],
   "source": [
    "import pandas as pd\n",
    "import numpy as np\n",
    "from matplotlib import pyplot as plt"
   ]
  },
  {
   "cell_type": "code",
   "execution_count": 2,
   "metadata": {},
   "outputs": [],
   "source": [
    "df = pd.read_csv('hockey_players.csv', encoding='cp1251', parse_dates=['birth'])"
   ]
  },
  {
   "cell_type": "code",
   "execution_count": 12,
   "metadata": {},
   "outputs": [],
   "source": [
    "# empirical distribution function\n",
    "\n",
    "def edf(samples, x):\n",
    "    return samples[samples < x].shape[0] / samples.shape[0]"
   ]
  },
  {
   "cell_type": "markdown",
   "metadata": {},
   "source": [
    "С помощью `matplotlib` построим график данной функции в пределах от $10$ до $50$."
   ]
  },
  {
   "cell_type": "code",
   "execution_count": 4,
   "metadata": {},
   "outputs": [
    {
     "data": {
      "text/plain": [
       "[<matplotlib.lines.Line2D at 0x7fb1d0f70dd8>]"
      ]
     },
     "execution_count": 4,
     "metadata": {},
     "output_type": "execute_result"
    },
    {
     "data": {
      "image/png": "[encoded data removed]",
      "text/plain": [
       "<Figure size 432x288 with 1 Axes>"
      ]
     },
     "metadata": {
      "needs_background": "light"
     },
     "output_type": "display_data"
    }
   ],
   "source": [
    "ox = np.linspace(10, 50, 1000)\n",
    "oy = np.array([edf(df['age'], x) for x in ox])\n",
    "\n",
    "plt.plot(ox, oy)"
   ]
  },
  {
   "cell_type": "markdown",
   "metadata": {},
   "source": [
    "Аналогию с законом распределения вероятностей дискретной случайной величины удобно проводить с помощью __плотности распределения вероятностей__. Функция плотности распределения равна производной от функции распределения:\n",
    "\n",
    "$$f(x) = F'(x).$$\n",
    "\n",
    "Для непрерывной случайной величины площадь под графиком функции $f(x)$ равна $1$, аналогично тому, что сумма вероятностей значений дискретной случайной величины равна $1$.\n",
    "\n",
    "Плотность распределения можно визуализировать с помощью гистограммы, передав в неё значение параметра `density=True`.\n",
    "\n",
    "__Пример 2__\n",
    "\n",
    "Построим гистограмму значений возраста хоккеистов, чтобы примерно представить, как выглядит соответствующая функция плотности распределения."
   ]
  },
  {
   "cell_type": "code",
   "execution_count": 10,
   "metadata": {},
   "outputs": [
    {
     "data": {
      "image/png": "[encoded data removed]",
      "text/plain": [
       "<Figure size 432x288 with 1 Axes>"
      ]
     },
     "metadata": {
      "needs_background": "light"
     },
     "output_type": "display_data"
    }
   ],
   "source": [
    "plt.hist(df['age'], density=True, bins=15)\n",
    "plt.show()"
   ]
  },
  {
   "cell_type": "markdown",
   "metadata": {},
   "source": [
    "Математическое ожидание и дисперсия для непрерывной случайной величины также считаются иначе, чем для дискретной. \n",
    "\n",
    "Формула для математического ожидания:\n",
    "\n",
    "$$M(X) = \\displaystyle\\int_{-\\infty}^\\infty x \\cdot f(x) \\: dx$$\n",
    "\n",
    "Формула для дисперсии:\n",
    "\n",
    "$$D(X) = \\displaystyle\\int_{-\\infty}^\\infty (x - M(X))^2 \\cdot f(x) \\: dx$$"
   ]
  },
  {
   "cell_type": "markdown",
   "metadata": {},
   "source": [
    "### Примеры непрерывных распределений\n",
    "\n",
    "Непрерывная случайная величина $X$ имеет __равномерное распределение__ на отрезке $[a, b]$, если её плотность внутри этого отрезка постоянна, а вне этого отрезка равна 0. Её плотность распределения:\n",
    "\n",
    "$$\n",
    "f(x) = \\begin{cases}\n",
    "\\dfrac{1}{b - a}, & x \\in [a, b], \\\\\n",
    "0, & x \\not\\in [a, b].\n",
    "\\end{cases}\n",
    "$$\n",
    "\n",
    "__Пример 3.1__\n",
    "\n",
    "Выборку из равномерного распределения можно получить с помощью функции `uniform` из модуля `numpy.random`. Построим выборку из равномерного распределения с параметрами $a = -1.5$, $b = 2.5$."
   ]
  },
  {
   "cell_type": "code",
   "execution_count": 11,
   "metadata": {},
   "outputs": [],
   "source": [
    "a = -1.5\n",
    "b = 2.5"
   ]
  },
  {
   "cell_type": "code",
   "execution_count": 25,
   "metadata": {},
   "outputs": [
    {
     "name": "stdout",
     "output_type": "stream",
     "text": [
      "[ 2.28641011  0.6098992  -1.26744544 ...  0.94421716  1.302148\n",
      "  1.07157064]\n"
     ]
    }
   ],
   "source": [
    "samples = np.random.uniform(a, b, size=10000)\n",
    "\n",
    "print(samples)"
   ]
  },
  {
   "cell_type": "markdown",
   "metadata": {},
   "source": [
    "Построим эмпирическую функцию распределения."
   ]
  },
  {
   "cell_type": "code",
   "execution_count": 22,
   "metadata": {},
   "outputs": [
    {
     "data": {
      "text/plain": [
       "[<matplotlib.lines.Line2D at 0x7fb1d0e09198>]"
      ]
     },
     "execution_count": 22,
     "metadata": {},
     "output_type": "execute_result"
    },
    {
     "data": {
      "image/png": "[encoded data removed]",
      "text/plain": [
       "<Figure size 432x288 with 1 Axes>"
      ]
     },
     "metadata": {
      "needs_background": "light"
     },
     "output_type": "display_data"
    }
   ],
   "source": [
    "ox = np.linspace(-4, 4, 1000)\n",
    "oy = np.array([edf(samples=samples, x=x) for x in ox])\n",
    "\n",
    "plt.plot(ox, oy)"
   ]
  },
  {
   "cell_type": "markdown",
   "metadata": {},
   "source": [
    "Построим гистограмму, чтобы визуализировать функцию плотности. Вместе с ней построим теоретическую функцию плотности."
   ]
  },
  {
   "cell_type": "code",
   "execution_count": 23,
   "metadata": {},
   "outputs": [],
   "source": [
    "# probability density function\n",
    "\n",
    "def pdf_uniform(a, b, x):\n",
    "    return 1 / (b - a) if a <= x <= b else 0"
   ]
  },
  {
   "cell_type": "code",
   "execution_count": 26,
   "metadata": {},
   "outputs": [
    {
     "data": {
      "text/plain": [
       "[<matplotlib.lines.Line2D at 0x7fb1d0cf9ac8>]"
      ]
     },
     "execution_count": 26,
     "metadata": {},
     "output_type": "execute_result"
    },
    {
     "data": {
      "image/png": "[encoded data removed]",
      "text/plain": [
       "<Figure size 432x288 with 1 Axes>"
      ]
     },
     "metadata": {
      "needs_background": "light"
     },
     "output_type": "display_data"
    }
   ],
   "source": [
    "oy = np.array([pdf_uniform(a, b, x) for x in ox])\n",
    "\n",
    "plt.hist(samples, density=True)\n",
    "plt.plot(ox, oy)"
   ]
  },
  {
   "cell_type": "markdown",
   "metadata": {},
   "source": [
    "Математическое ожидание и дисперсия равномерного распределения:\n",
    "\n",
    "$$M(X) = \\dfrac{a + b}{2}, \\text{ } D(X) = \\dfrac{(b - a)^2}{12}.$$\n",
    "\n",
    "__Пример 3.2__\n",
    "\n",
    "Математическое ожидание распределения из предыдущего примера равно\n",
    "\n",
    "$$M(X) = \\dfrac{a + b}{2} = \\dfrac{-1.5 + 2.5}{2} = \\dfrac{1}{2}.$$\n",
    "\n",
    "Посчитаем выборочное среднее от выборки:"
   ]
  },
  {
   "cell_type": "code",
   "execution_count": 27,
   "metadata": {},
   "outputs": [
    {
     "data": {
      "text/plain": [
       "0.49062207414253073"
      ]
     },
     "execution_count": 27,
     "metadata": {},
     "output_type": "execute_result"
    }
   ],
   "source": [
    "samples.mean()"
   ]
  },
  {
   "cell_type": "markdown",
   "metadata": {},
   "source": [
    "Дисперсия этого распредлеения равна\n",
    "\n",
    "$$D(X) = \\dfrac{(b - a)^2}{12} = \\dfrac{4^2}{12} = \\dfrac{4}{3} \\approx 1.333.$$\n",
    "\n",
    "Выборочная дисперсия (смещённая) от выборки:"
   ]
  },
  {
   "cell_type": "code",
   "execution_count": 30,
   "metadata": {},
   "outputs": [
    {
     "data": {
      "text/plain": [
       "1.3426638453584416"
      ]
     },
     "execution_count": 30,
     "metadata": {},
     "output_type": "execute_result"
    }
   ],
   "source": [
    "samples.var()"
   ]
  },
  {
   "cell_type": "markdown",
   "metadata": {},
   "source": [
    "В модуле `scipy.stats` есть готовые функции распределения и плотности для многих известных распределений."
   ]
  },
  {
   "cell_type": "markdown",
   "metadata": {},
   "source": [
    "### `scipy.stats`\n",
    "\n",
    "В модуле `scipy.stats` содержатся реализации основных функций для различных распределений:\n",
    "* `binom` — биномиальное,\n",
    "* `poisson` — Пуассоновское,\n",
    "* `geom` — геометрическое,\n",
    "* `norm` — нормальное,\n",
    "* `uniform` — непрерывное равномерное,\n",
    "\n",
    "и др. \n",
    "\n",
    "Доступные функции:\n",
    "* `pmf` — закон распределения для дискретных величин,\n",
    "* `pdf` — функция плотности для непрерывных величин,\n",
    "* `cdf` — функция распределения,\n",
    "* `ppf` — квантильная функция (обратная к функции распределения).\n",
    "\n",
    "и др. Например, с помощью этого модуля можно получить значения функции нормального распределения, которая не вычисляется аналитически и доступна лишь численно."
   ]
  },
  {
   "cell_type": "code",
   "execution_count": null,
   "metadata": {},
   "outputs": [],
   "source": [
    "from scipy import stats"
   ]
  },
  {
   "cell_type": "code",
   "execution_count": null,
   "metadata": {},
   "outputs": [],
   "source": [
    "ox = np.linspace(0, 16, 1000)\n",
    "oy = stats.norm.cdf(ox, loc=8, scale=2)  # в качестве аргумента `x` можно подставлять массив\n",
    "\n",
    "plt.plot(ox, oy)"
   ]
  },
  {
   "cell_type": "markdown",
   "metadata": {},
   "source": [
    "При многократном использовании функций одного и того же распределения удобнее сразу зафиксировать объект:"
   ]
  },
  {
   "cell_type": "code",
   "execution_count": 6,
   "metadata": {},
   "outputs": [
    {
     "data": {
      "text/plain": [
       "(0.12098536225957168, 0.15865525393145707, 6.011084233580494)"
      ]
     },
     "execution_count": 6,
     "metadata": {},
     "output_type": "execute_result"
    }
   ],
   "source": [
    "norm = stats.norm(loc=8, scale=2)\n",
    "\n",
    "norm.pdf(6), norm.cdf(6), norm.ppf(0.16)"
   ]
  },
  {
   "cell_type": "markdown",
   "metadata": {},
   "source": [
    "## Непрерывная случайная величина $X$ имеет __нормальное распределение__ с параметрами $a$ и $\\sigma > 0$, если её плотность распределения задаётся формулой\n",
    "\n",
    "$$f(x) = \\dfrac{1}{\\sigma \\sqrt{2 \\pi}} \\: e^{- \\dfrac{(x - a)^2}{2 \\sigma^2}}.$$\n",
    "\n",
    "Нормальное распределение является одним из наиболее распространённых на практике. Например, нормально распределены:\n",
    "\n",
    "* рост, вес людей\n",
    "* показатели IQ\n",
    "* время прихода на работу\n",
    "* скорость движения молекул в жидкостях и газах\n",
    "\n",
    "Как правило, нормально распределёнными являются случайные величины, описывающие события, которые зависят от большого числа слабо связанных случайных факторов.\n",
    "\n",
    "__Пример 4__\n",
    "\n",
    "Выборку из нормального распределения можно получить с помощью функции `normal` из модуля `numpy.random`. Построим такую выборку с параметрами $a = 3$, $\\sigma = 2$."
   ]
  },
  {
   "cell_type": "code",
   "execution_count": 9,
   "metadata": {},
   "outputs": [],
   "source": [
    "loc = 3\n",
    "scale = 2"
   ]
  },
  {
   "cell_type": "code",
   "execution_count": 10,
   "metadata": {},
   "outputs": [
    {
     "name": "stdout",
     "output_type": "stream",
     "text": [
      "[ 4.19252907 -0.018943    1.42494481 ...  3.34283801  5.9187996\n",
      "  2.78472502]\n"
     ]
    }
   ],
   "source": [
    "samples = np.random.normal(loc, scale, size=10000)\n",
    "\n",
    "print(samples)"
   ]
  },
  {
   "cell_type": "markdown",
   "metadata": {},
   "source": [
    "Эмпирическая функция распределения:"
   ]
  },
  {
   "cell_type": "code",
   "execution_count": 13,
   "metadata": {},
   "outputs": [
    {
     "data": {
      "text/plain": [
       "[<matplotlib.lines.Line2D at 0x1ced11339c8>]"
      ]
     },
     "execution_count": 13,
     "metadata": {},
     "output_type": "execute_result"
    },
    {
     "data": {
      "image/png": "[encoded data removed]",
      "text/plain": [
       "<Figure size 432x288 with 1 Axes>"
      ]
     },
     "metadata": {
      "needs_background": "light"
     },
     "output_type": "display_data"
    }
   ],
   "source": [
    "ox = np.linspace(-8, 12, 1000)\n",
    "oy = np.array([edf(samples, x) for x in ox])\n",
    "\n",
    "plt.plot(ox, oy)"
   ]
  },
  {
   "cell_type": "markdown",
   "metadata": {},
   "source": [
    "Гистограмма выборки и теоретическая функция плотности:"
   ]
  },
  {
   "cell_type": "code",
   "execution_count": 14,
   "metadata": {},
   "outputs": [],
   "source": [
    "def pdf_normal(loc, scale, x):\n",
    "    return np.exp(- ((x - loc) ** 2) / (2 * scale ** 2)) / (scale * np.sqrt(2 * np.pi))"
   ]
  },
  {
   "cell_type": "code",
   "execution_count": 15,
   "metadata": {
    "scrolled": true
   },
   "outputs": [
    {
     "data": {
      "text/plain": [
       "[<matplotlib.lines.Line2D at 0x1ced21a2e48>]"
      ]
     },
     "execution_count": 15,
     "metadata": {},
     "output_type": "execute_result"
    },
    {
     "data": {
      "image/png": "[encoded data removed]",
      "text/plain": [
       "<Figure size 432x288 with 1 Axes>"
      ]
     },
     "metadata": {
      "needs_background": "light"
     },
     "output_type": "display_data"
    }
   ],
   "source": [
    "oy = np.array([pdf_normal(loc, scale, x) for x in ox])\n",
    "\n",
    "plt.hist(samples, density=True, bins=15)\n",
    "plt.plot(ox, oy)"
   ]
  },
  {
   "cell_type": "markdown",
   "metadata": {},
   "source": [
    "Вместо созданной функции pdf_normal() можно использовать встренную фукнцию pdf, котоая позволяет найти функцию плотности  "
   ]
  },
  {
   "cell_type": "code",
   "execution_count": 16,
   "metadata": {},
   "outputs": [
    {
     "data": {
      "text/plain": [
       "[<matplotlib.lines.Line2D at 0x1ced221c788>]"
      ]
     },
     "execution_count": 16,
     "metadata": {},
     "output_type": "execute_result"
    },
    {
     "data": {
      "image/png": "[encoded data removed]",
      "text/plain": [
       "<Figure size 432x288 with 1 Axes>"
      ]
     },
     "metadata": {
      "needs_background": "light"
     },
     "output_type": "display_data"
    }
   ],
   "source": [
    "oy = np.array([stats.norm.pdf(x, loc, scale) for x in ox])\n",
    "\n",
    "plt.hist(samples, density=True, bins=15)\n",
    "plt.plot(ox, oy)"
   ]
  },
  {
   "cell_type": "markdown",
   "metadata": {},
   "source": [
    "Математическое ожидание и дисперсия нормального распределения:\n",
    "\n",
    "$$M(X) = a, \\text{ } D(X) = \\sigma^2.$$"
   ]
  },
  {
   "cell_type": "markdown",
   "metadata": {},
   "source": [
    "__Пример 5__\n",
    "\n",
    "Математическое ожидание распределения из предыдущего примера равно 3. Посчитаем выборочное среднее:"
   ]
  },
  {
   "cell_type": "code",
   "execution_count": 44,
   "metadata": {},
   "outputs": [
    {
     "data": {
      "text/plain": [
       "2.99428656985723"
      ]
     },
     "execution_count": 44,
     "metadata": {},
     "output_type": "execute_result"
    }
   ],
   "source": [
    "samples.mean()"
   ]
  },
  {
   "cell_type": "markdown",
   "metadata": {},
   "source": [
    "Дисперсия равна 4. Выборочная дисперсия:"
   ]
  },
  {
   "cell_type": "code",
   "execution_count": 45,
   "metadata": {},
   "outputs": [
    {
     "data": {
      "text/plain": [
       "3.934339493532729"
      ]
     },
     "execution_count": 45,
     "metadata": {},
     "output_type": "execute_result"
    }
   ],
   "source": [
    "samples.var()"
   ]
  },
  {
   "cell_type": "markdown",
   "metadata": {},
   "source": [
    "Для вычисления разброса значений нормально распределённой случайной величины можно использовать следующие правила:\n",
    "\n",
    "* Интерквартильный размах такой величины содержит 50% её вероятностной массы (т.е. с вероятностью 50% данная величина попадает в этот интервал).\n",
    "* Интервал от $a - \\sigma$ до $a + \\sigma$ содержит около 68% вероятностной массы.\n",
    "* От $a - 2\\sigma$ до $a + 2\\sigma$ — около 95% массы (__правило двух сигм__).\n",
    "* От $a - 3\\sigma$ до $a + 3\\sigma$ — около 99.7% массы (__правило трёх сигм__).\n",
    "\n",
    "__Пример 6__\n",
    "\n",
    "Вернёмся к данным о хоккеистах и рассмотрим столбец с ростом. Построим его гистограмму."
   ]
  },
  {
   "cell_type": "code",
   "execution_count": 46,
   "metadata": {},
   "outputs": [
    {
     "data": {
      "image/png": "[encoded data removed]",
      "text/plain": [
       "<Figure size 432x288 with 1 Axes>"
      ]
     },
     "metadata": {
      "needs_background": "light"
     },
     "output_type": "display_data"
    }
   ],
   "source": [
    "plt.hist(df['height'], bins=20)\n",
    "plt.show()"
   ]
  },
  {
   "cell_type": "markdown",
   "metadata": {},
   "source": [
    "Мы знаем, что рост - одна из величин, которая может распределяться нормально. Восстановим по выборке значения $a$ и $\\sigma$ и построим поверх гистограммы теоретическую функцию плотности."
   ]
  },
  {
   "cell_type": "code",
   "execution_count": 47,
   "metadata": {},
   "outputs": [],
   "source": [
    "loc = df['height'].mean()\n",
    "scale = df['height'].std()"
   ]
  },
  {
   "cell_type": "code",
   "execution_count": 48,
   "metadata": {},
   "outputs": [
    {
     "data": {
      "text/plain": [
       "(183.81150667514305, 5.3838577104381)"
      ]
     },
     "execution_count": 48,
     "metadata": {},
     "output_type": "execute_result"
    }
   ],
   "source": [
    "loc, scale"
   ]
  },
  {
   "cell_type": "code",
   "execution_count": 49,
   "metadata": {},
   "outputs": [
    {
     "data": {
      "text/plain": [
       "[<matplotlib.lines.Line2D at 0x7fb1c8310ef0>]"
      ]
     },
     "execution_count": 49,
     "metadata": {},
     "output_type": "execute_result"
    },
    {
     "data": {
      "image/png": "[encoded data removed]",
      "text/plain": [
       "<Figure size 432x288 with 1 Axes>"
      ]
     },
     "metadata": {
      "needs_background": "light"
     },
     "output_type": "display_data"
    }
   ],
   "source": [
    "ox = np.linspace(165, 205, 1000)\n",
    "oy = np.array([pdf_normal(loc, scale, x) for x in ox])\n",
    "\n",
    "plt.hist(df['height'], density=True, bins=20)\n",
    "plt.plot(ox, oy)"
   ]
  },
  {
   "cell_type": "markdown",
   "metadata": {},
   "source": [
    "__Распределение Стьюдента__\n",
    "\n",
    "В статистике часто приходится работать с выборочными средними. Например, оценивать средние показатели, средние ошибки и пр. Как именно это делается, мы поговорим на следующем занятии.\n",
    "\n",
    "В случае с нормальным распределением всё практически идеально за счёт его __устойчивости__. Это означает, что с нормальными распределениями можно проводить различные арифметические операции, и нормальное распределение останется нормальным. \n",
    "\n",
    "В частности, если дана выборка $X = \\left\\{ X_1, \\dots, X_n \\right\\}$ из нормального распределения с параметрами $\\mu$, $\\sigma$, то распределение выборочного среднего $\\overline{X}$ также нормально с параметрами\n",
    "$$\\mu, \\:\\: \\sigma / \\sqrt{n},$$\n",
    "где $n$ — размер выборки.\n",
    "\n",
    "Пойдём немного дальше. Рассмотрим статистику\n",
    "$$Z = \\dfrac{\\overline{X} - \\mu}{\\sigma / \\sqrt{n}}$$\n",
    "\n",
    "Здесь мы из выборочного среднего $\\overline{X}$ сначала вычитаем $\\mu$, а затем делим весь результат на $\\sigma / \\sqrt{n}$ — число, которое является средним квадратическим отклонением распределения $\\overline{X}$. В силу арифметических свойств нормального распределения, статистика $Z$ имеет стандартное нормальное распределение.\n",
    "\n",
    "Указанная выше статистика так и называется: __Z-статистика__. Она часто используется в статистических методах.\n",
    "\n",
    "Однако, у Z-статистики есть один изъян: она предполагает, что нам заранее известен параметр $\\sigma$ распределения нашей выборки. На практике такое случается довольно редко: как правило, нам просто дана выборка, и всё.\n",
    "\n",
    "А что если мы попробуем параметр $\\sigma$ в формуле Z-статистики заменить на его оценку $\\sigma_X$, сделанную по выборке? Получится __t-статистика__:\n",
    "$$t = \\dfrac{\\overline{X} - \\mu}{\\sigma_X / \\sqrt{n}}$$\n",
    "\n",
    "Такая статистика и используется в ситуациях, когда параметр $\\sigma$ нам не дан. Эта статистика имеет несколько иное распределение, а именно __распределение Стьюдента__. Распределение Стьюдента имеет один параметр $df$, равный $n - 1$, где $n$ — число элементов в выборке.\n",
    "\n",
    "Визуально графики распределения Стьюдента похожи на графики нормального распределения, однако, они немного отличаются для небольших $n$. Для $n > 30$ отличие уже малозаметно.\n",
    "\n",
    "В библиотеке `scipy` распределение Стьюдента представлено объектом `scipy.stats.t`."
   ]
  },
  {
   "cell_type": "markdown",
   "metadata": {},
   "source": [
    "__Другие непрерывные распределения__\n",
    "\n",
    "* __Экспоненциальное__ (или __показательное__) распределение (`scipy.stats.expon`): время между последовательными свершениями одного и того же события. Является непрерывным аналогом геометрического распределения. Функция плотности:\n",
    "$$\n",
    "    f(x) = \\begin{cases}\n",
    "    \\lambda e^{- \\lambda x}, & x \\geq 0, \\\\\n",
    "    0, & x < 0.\n",
    "    \\end{cases}\n",
    "$$\n",
    "\n",
    "* Распределение Фишера (`scipy.stats.f`).\n",
    "* Распределение $\\chi^2$ (хи-квадрат, `scipy.stats.chi2`).\n",
    "* Распределение Колмогорова (`scipy.stats.ksone`)."
   ]
  },
  {
   "cell_type": "markdown",
   "metadata": {},
   "source": [
    "### Центральная предельная теорема\n",
    "\n",
    "Ранее мы отмечали, что, как правило, случайные величины, описывающие события, которые зависят от большого числа слабо связанных случайных факторов, являются нормально распределёнными.\n",
    "Это правило хорошо иллюстрирует центральная предельная теорема.\n",
    "\n",
    "Рассмотрим выборку из $n$ значений случайной величины $X$ и пусть $Y$ — сумма этих значений. Как мы знаем, $Y$ также является случайной величиной. Какое распределение имеет эта величина?\n",
    "\n",
    "__Центральная предельная теорема__ утверждает: чем больше $n$, тем ближе распределение величины $Y$ к нормальному распределению с параметрами\n",
    "\n",
    "$$a = n \\cdot M(X), \\text{ } \\sigma^2 = n \\cdot D(X).$$\n",
    "\n",
    "Аналогично, если в качестве $Y$ брать не сумму, а среднее значений выборки, то с увеличением $n$ распределение этого значения будет всё ближе к нормальному распределению с параметрами\n",
    "\n",
    "$$a = M(X), \\text{ } \\sigma^2 = \\dfrac{D(X)}{n}.$$\n",
    "\n",
    "Отметим, что центральная предельная теорема работает не только для непрерывных случайных величин, но и для дискретных.\n",
    "\n"
   ]
  },
  {
   "cell_type": "markdown",
   "metadata": {},
   "source": [
    "__Зачем это нужно__\n",
    "\n",
    "В реальных ситуациях у нас нет возможности генерировать большое количество выборок. Как правило, у нас есть только одна. Вычисляя, например, выборочное среднее, мы получим только одно значение. Зачем тогда нужна центральная предельная теорема?\n",
    "\n",
    "ЦПТ позволяет пролить свет на распределение этого самого выборочного среднего. Т.е. благодаря ЦПТ, мы знаем, какие значения выборочного среднего __можно ожидать__, будь у нас ещё одна или несколько выборок. \n",
    "\n",
    "Сравнение ожидаемых и наблюдаемых значений является ключевым моментом при проверке статистических гипотез, о которых мы поговорим на следующем занятии. "
   ]
  },
  {
   "cell_type": "markdown",
   "metadata": {},
   "source": [
    "__Пример 7__\n",
    "\n",
    "Проверим утверждение центральной предельной теоремы на равномерном распределении $X$ с параметрами $a = -1.5$,\n",
    "$b = 2.5$. Для этого при различных $n$ сформируем $n$ выборок размера, например, $10^4$, а затем посчитаем от них поэлементно среднее. Таким образом, мы получим одну выборку размера $10^4$. Теорема утверждает, что чем больше $n$, тем больше эта выборка похожа на выборку из некоторого нормального распределения $Y$.\n",
    "\n",
    "Математическое ожидание величины $X$ равно $\\dfrac{a + b}{2} = \\dfrac{1}{2}$. Дисперсия: \n",
    "$\\dfrac{(b - a)^2}{12} = \\dfrac{4^2}{12} = \\dfrac{4}{3}$. Это означает, что нормальное распределение $Y$ имеет параметры $a = \\dfrac{1}{2}$, $\\sigma^2 = \\dfrac{4}{3n}$."
   ]
  },
  {
   "cell_type": "code",
   "execution_count": 50,
   "metadata": {},
   "outputs": [],
   "source": [
    "a = -1.5\n",
    "b = 2.5\n",
    "\n",
    "m = (a + b) / 2\n",
    "d = ((b - a) ** 2) / 12\n",
    "\n",
    "n_samples = 10 ** 4"
   ]
  },
  {
   "cell_type": "code",
   "execution_count": 52,
   "metadata": {},
   "outputs": [],
   "source": [
    "def get_mean_samples_uniform(n):\n",
    "    samples = np.random.uniform(a, b, size=(n, n_samples))\n",
    "    \n",
    "    return samples.mean(axis=0)"
   ]
  },
  {
   "cell_type": "code",
   "execution_count": 65,
   "metadata": {},
   "outputs": [
    {
     "data": {
      "text/plain": [
       "[<matplotlib.lines.Line2D at 0x7fb1c6959400>]"
      ]
     },
     "execution_count": 65,
     "metadata": {},
     "output_type": "execute_result"
    },
    {
     "data": {
      "image/png": "[encoded data removed]",
      "text/plain": [
       "<Figure size 432x288 with 1 Axes>"
      ]
     },
     "metadata": {
      "needs_background": "light"
     },
     "output_type": "display_data"
    }
   ],
   "source": [
    "n = 500\n",
    "\n",
    "loc = m\n",
    "scale = np.sqrt(d / n)\n",
    "\n",
    "samples = get_mean_samples_uniform(n)\n",
    "\n",
    "ox = np.linspace(loc - 4 * scale, loc + 4 * scale, 1000)\n",
    "oy = np.array([pdf_normal(loc, scale, x) for x in ox])\n",
    "\n",
    "plt.hist(samples, density=True, bins=20)\n",
    "plt.plot(ox, oy)"
   ]
  },
  {
   "cell_type": "markdown",
   "metadata": {},
   "source": [
    "### Упражнение"
   ]
  },
  {
   "cell_type": "markdown",
   "metadata": {},
   "source": [
    "__Задача 1__\n",
    "\n",
    "О непрерывной равномерно распределенной случайной величине `B` известно, что ее дисперсия равна 0.2. Можно ли найти правую границу величины `B` и ее среднее значение зная, что левая граница равна 0.5? Если да, найдите ее.\n",
    "\n",
    "__Задача 2__\n",
    "\n",
    "Рост взрослого населения города `X` имеет нормальное распределение, причем, средний рост равен 174 см, а среднее квадратическое отклонение равно 8 см. посчитайте, какова вероятность того, что случайным образом выбранный взрослый человек имеет рост:\n",
    "1. больше 182 см?\n",
    "2. больше 190 см?\n",
    "3. от 166 см до 190 см?\n",
    "4. от 166 см до 182 см?\n",
    "5. от 158 см до 190 см?\n",
    "6. не выше 150 см или не ниже 190 см?\n",
    "7. не выше 150 см или не ниже 198 см?\n",
    "8. ниже 166 см?\n",
    "\n",
    "Задачу можно решить двумя способами: без использования сторонних библиотек (`numpy`, `scipy`, `pandas` и пр.), а затем проверить себя с помощью встроенных функций\n",
    "\n",
    "__Задача 3 (Дополнительно)__\n",
    "\n",
    "Коробки с шоколадом упаковываются автоматически. Их средняя масса равна 1.06 кг. Известно, что 5% коробок имеют массу, меньшую 1 кг. Найдите: а) среднее квадратическое отклонение массы коробки, б) процент коробок, имеющих массу больше 1.1 кг.\n",
    "\n",
    "_Подсказка_. 1. Можно считать, что распределение массы коробки нормальное. 2. Найдите такое значение `scale`, для которого значение `cdf(x=1, loc=1.06, scale=scale)` близко к 0.05. Точности 0.0001 будет достаточно.\n"
   ]
  }
 ],
 "metadata": {
  "colab": {
   "name": "Матстат - Урок 4.ipynb",
   "provenance": [],
   "version": "0.3.2"
  },
  "kernelspec": {
   "display_name": "Python 3 (ipykernel)",
   "language": "python",
   "name": "python3"
  },
  "language_info": {
   "codemirror_mode": {
    "name": "ipython",
    "version": 3
   },
   "file_extension": ".py",
   "mimetype": "text/x-python",
   "name": "python",
   "nbconvert_exporter": "python",
   "pygments_lexer": "ipython3",
   "version": "3.9.6"
  }
 },
 "nbformat": 4,
 "nbformat_minor": 1
}
