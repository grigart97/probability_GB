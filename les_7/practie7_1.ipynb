{
 "cells": [
  {
   "cell_type": "markdown",
   "metadata": {},
   "source": [
    "# Урок 7\n",
    "\n",
    "## Линейная регрессия. "
   ]
  },
  {
   "cell_type": "markdown",
   "metadata": {
    "colab_type": "text",
    "id": "-H0TfXEAVV-c"
   },
   "source": [
    "В общем виде __модель регрессии__ — это любая модель зависимости (__объясняемой__) количественной переменной $y$ от другой или нескольких других переменных (__факторов__) $x_i$. Такую модель можно записать в виде:\n",
    "$$y = f_b(x_1, \\dots, x_m) + \\varepsilon,$$\n",
    "где $f_b(x)$ — некоторая функция, имеющая набор параметров $b$, а $\\varepsilon$ — случайная ошибка. При этом на ошибку накладывается условие, что её математическое ожидание равно $0$:\n",
    "$$M(\\varepsilon) = 0$$\n",
    "\n",
    "Модель регрессии называется __линейной__, если функция $f_b(x)$ является линейной, т.е. модель имеет вид:\n",
    "$$y = b_0 + b_1 x_1 + \\dots + b_m x_m + \\varepsilon$$\n",
    "\n",
    "__В чём здесь суть__. Участвующие в этой модели переменные удобно воспринимать как некоторые случайные величины. В этом случае можно всегда подобрать параметры $b$ так, чтобы такое равенство выполнялось прямо на уровне случайных величин.\n",
    "\n",
    "Важным частным случаем линейной регрессии является __парная регрессия__. При парной регрессии используется только один фактор, т.е. модель имеет вид:\n",
    "$$y = b_0 + b_1 x + \\varepsilon$$\n",
    "\n",
    "На практике такая модель имеет вид:\n",
    "$$Y = b_0 + b_1 X + E,$$\n",
    "где $X$ — значения фактора $x$, $Y$ — значения переменной $y$, $E$ — значения ошибок модели на каждом объекте (т.е. реализации случайной величины $\\varepsilon$). В этом случае условие $M(\\varepsilon) = 0$ трансформируется в условие $\\overline{E} = 0$, где $\\overline{E}$ — выборочное среднее ошибок.\n",
    "\n",
    "__Коэффициенты парной регрессии__ можно найти по формуле:\n",
    "$$b_1 = \\frac{\\overline{yx} - \\overline{y} \\cdot {\\overline{x}}}{\\overline{x^2} - (\\overline{x})^2}, \\: b_0 = \\overline{y} - b_1 \\cdot {\\overline{x}}.$$\n"
   ]
  },
  {
   "cell_type": "markdown",
   "metadata": {},
   "source": [
    "__Пример 1__\n",
    "\n",
    "Рассмотрим данные со значениями площадей квартир в квадратных метрах (массив `x1`) и соответствующими им ценами на квартиры в тысячах долларов (массив `y1`), приведеннные для $12$ наблюдений. По этим данным построим модель линейной регрессии."
   ]
  },
  {
   "cell_type": "code",
   "execution_count": 5,
   "metadata": {},
   "outputs": [],
   "source": [
    "import numpy as np"
   ]
  },
  {
   "cell_type": "code",
   "execution_count": 17,
   "metadata": {},
   "outputs": [],
   "source": [
    "x1 = np.array([80, 90, 85, 115, 85, 85, 90, 80, 105, 110, 65, 100])\n",
    "y1 = np.array([150, 160, 155, 175, 140, 150, 140, 155, 165, 190, 140, 165])"
   ]
  },
  {
   "cell_type": "markdown",
   "metadata": {},
   "source": [
    "Найдём коэффициенты линейной регрессии:"
   ]
  },
  {
   "cell_type": "code",
   "execution_count": 18,
   "metadata": {},
   "outputs": [
    {
     "data": {
      "text/plain": [
       "(77.89962825278835, 0.8717472118959082)"
      ]
     },
     "execution_count": 18,
     "metadata": {},
     "output_type": "execute_result"
    }
   ],
   "source": [
    "b1 = (np.mean(x1 * y1) - np.mean(x1) * np.mean(y1)) / (np.mean(x1 ** 2) - np.mean(x1) ** 2)\n",
    "b0 = np.mean(y1) - b1 * np.mean(x1)\n",
    "\n",
    "b0, b1"
   ]
  },
  {
   "cell_type": "markdown",
   "metadata": {},
   "source": [
    "_Замечание_. В данной формуле не нужно обязательно использовать смещённую или несмещённую оценку, но важно, конечно, использовать один и тот же тип оценки и для ковариации, и для дисперсии.\n",
    "\n",
    "Итак, модель линейной регрессии имеет вид:\n",
    "$$y = 77.9 + 0.87 \\cdot x,$$\n",
    "т.е. с увеличением площади квартиры на $1$ квадратный метр цена возрастет на $0.87$ тысячи долларов. Визуализируем полученные результаты на графике."
   ]
  },
  {
   "cell_type": "code",
   "execution_count": 48,
   "metadata": {},
   "outputs": [],
   "source": [
    "from matplotlib import pyplot as plt\n",
    "plt.style.use('seaborn-whitegrid')"
   ]
  },
  {
   "cell_type": "code",
   "execution_count": 7,
   "metadata": {},
   "outputs": [
    {
     "data": {
      "image/png": "[encoded data removed]",
      "text/plain": [
       "<Figure size 432x288 with 1 Axes>"
      ]
     },
     "metadata": {},
     "output_type": "display_data"
    }
   ],
   "source": [
    "ox = x1\n",
    "oy = b0 + b1 * ox\n",
    "\n",
    "plt.scatter(x1, y1)\n",
    "plt.plot(ox, oy, color='red', alpha=0.5)\n",
    "\n",
    "plt.xlabel('площадь')\n",
    "plt.ylabel('цена');"
   ]
  },
  {
   "cell_type": "markdown",
   "metadata": {},
   "source": [
    "__Метод наименьших квадратов__\n",
    "\n",
    "В общем случае, когда факторов больше одного, коэффициенты можно подобрать с помощью __метода наименьших квадратов__. Здесь $X$ — это уже не просто выборка, а матрица объект-признак, т.е. элемент $x_{ij}$ из этой матрицы является $j$-м признаком $i$-го объекта.\n",
    "\n",
    "Для удобства записи метода наименьших квадратов в первую очередь введём дополнительный «фактор» $x_0 = 1$. Это делается для того, чтобы модель можно было записать в матричном виде:\n",
    "$$Y = X \\cdot b + E,$$\n",
    "где $X$ — такая расширенная матрица объект-признак (первый столбец которой полностью состоит из единиц), $b = (b_0, b_1, \\dots, b_m)$ — вектор коэффициентов модели, операция «$\\cdot$» — матричное умножение.\n",
    "\n",
    "__Метод наименьших квадратов__ заключается в минимизации расстояния между векторами $Y$ и $X \\cdot b$:\n",
    "$$\\| Y - X \\cdot b \\| \\rightarrow \\min_b$$\n",
    "При этом вводится дополнительное условие на среднюю ошибку:\n",
    "$$\\overline{E} = 0,$$\n",
    "где $E = Y - X \\cdot b$. Решение такой оптимизационной задачи даёт __коэффициенты линейной регрессии__:\n",
    "$$b = (X^\\top X)^{-1} X^\\top Y$$\n",
    "\n",
    "_Замечание_. У метода наименьших квадратов есть один изъян: в случае, когда в матрице $X$ представлены линейно зависимые (или близкие к этому) признаки, вычисление обратной матрицы $(X^\\top X)^{-1}$ становится проблематичным. В таких ситуациях стоит сперва избавиться от линейно зависимых признаков (это задача _факторного анализа_, который мы рассмотрим на занятии 8)."
   ]
  },
  {
   "cell_type": "markdown",
   "metadata": {},
   "source": [
    "__Пример 2__\n",
    "\n",
    "Рассмотрим данные о хоккеистах и попробуем построить модель регрессии, которая будет предсказывать возраст хоккеиста по его росту и весу."
   ]
  },
  {
   "cell_type": "code",
   "execution_count": 2,
   "metadata": {},
   "outputs": [],
   "source": [
    "import pandas as pd"
   ]
  },
  {
   "cell_type": "code",
   "execution_count": 4,
   "metadata": {},
   "outputs": [
    {
     "data": {
      "text/html": [
       "<div>\n",
       "<style scoped>\n",
       "    .dataframe tbody tr th:only-of-type {\n",
       "        vertical-align: middle;\n",
       "    }\n",
       "\n",
       "    .dataframe tbody tr th {\n",
       "        vertical-align: top;\n",
       "    }\n",
       "\n",
       "    .dataframe thead th {\n",
       "        text-align: right;\n",
       "    }\n",
       "</style>\n",
       "<table border=\"1\" class=\"dataframe\">\n",
       "  <thead>\n",
       "    <tr style=\"text-align: right;\">\n",
       "      <th></th>\n",
       "      <th>year</th>\n",
       "      <th>country</th>\n",
       "      <th>no</th>\n",
       "      <th>name</th>\n",
       "      <th>position</th>\n",
       "      <th>side</th>\n",
       "      <th>height</th>\n",
       "      <th>weight</th>\n",
       "      <th>birth</th>\n",
       "      <th>club</th>\n",
       "      <th>age</th>\n",
       "      <th>cohort</th>\n",
       "      <th>bmi</th>\n",
       "    </tr>\n",
       "  </thead>\n",
       "  <tbody>\n",
       "    <tr>\n",
       "      <td>0</td>\n",
       "      <td>2001</td>\n",
       "      <td>RUS</td>\n",
       "      <td>10</td>\n",
       "      <td>tverdovsky oleg</td>\n",
       "      <td>D</td>\n",
       "      <td>L</td>\n",
       "      <td>185</td>\n",
       "      <td>84.0</td>\n",
       "      <td>1976-05-18</td>\n",
       "      <td>anaheim mighty ducks</td>\n",
       "      <td>24.952772</td>\n",
       "      <td>1976</td>\n",
       "      <td>24.543462</td>\n",
       "    </tr>\n",
       "    <tr>\n",
       "      <td>1</td>\n",
       "      <td>2001</td>\n",
       "      <td>RUS</td>\n",
       "      <td>2</td>\n",
       "      <td>vichnevsky vitali</td>\n",
       "      <td>D</td>\n",
       "      <td>L</td>\n",
       "      <td>188</td>\n",
       "      <td>86.0</td>\n",
       "      <td>1980-03-18</td>\n",
       "      <td>anaheim mighty ducks</td>\n",
       "      <td>21.119781</td>\n",
       "      <td>1980</td>\n",
       "      <td>24.332277</td>\n",
       "    </tr>\n",
       "    <tr>\n",
       "      <td>2</td>\n",
       "      <td>2001</td>\n",
       "      <td>RUS</td>\n",
       "      <td>26</td>\n",
       "      <td>petrochinin evgeni</td>\n",
       "      <td>D</td>\n",
       "      <td>L</td>\n",
       "      <td>182</td>\n",
       "      <td>95.0</td>\n",
       "      <td>1976-02-07</td>\n",
       "      <td>severstal cherepovetal</td>\n",
       "      <td>25.229295</td>\n",
       "      <td>1976</td>\n",
       "      <td>28.680111</td>\n",
       "    </tr>\n",
       "    <tr>\n",
       "      <td>3</td>\n",
       "      <td>2001</td>\n",
       "      <td>RUS</td>\n",
       "      <td>28</td>\n",
       "      <td>zhdan alexander</td>\n",
       "      <td>D</td>\n",
       "      <td>R</td>\n",
       "      <td>178</td>\n",
       "      <td>85.0</td>\n",
       "      <td>1971-08-28</td>\n",
       "      <td>ak bars kazan</td>\n",
       "      <td>29.675565</td>\n",
       "      <td>1971</td>\n",
       "      <td>26.827421</td>\n",
       "    </tr>\n",
       "    <tr>\n",
       "      <td>4</td>\n",
       "      <td>2001</td>\n",
       "      <td>RUS</td>\n",
       "      <td>32</td>\n",
       "      <td>orekhovsky oleg</td>\n",
       "      <td>D</td>\n",
       "      <td>R</td>\n",
       "      <td>175</td>\n",
       "      <td>88.0</td>\n",
       "      <td>1977-11-03</td>\n",
       "      <td>dynamo moscow</td>\n",
       "      <td>23.490760</td>\n",
       "      <td>1977</td>\n",
       "      <td>28.734694</td>\n",
       "    </tr>\n",
       "  </tbody>\n",
       "</table>\n",
       "</div>"
      ],
      "text/plain": [
       "   year country  no                 name position side  height  weight  \\\n",
       "0  2001     RUS  10     tverdovsky oleg         D    L     185    84.0   \n",
       "1  2001     RUS   2   vichnevsky vitali         D    L     188    86.0   \n",
       "2  2001     RUS  26  petrochinin evgeni         D    L     182    95.0   \n",
       "3  2001     RUS  28     zhdan alexander         D    R     178    85.0   \n",
       "4  2001     RUS  32     orekhovsky oleg         D    R     175    88.0   \n",
       "\n",
       "       birth                     club        age  cohort        bmi  \n",
       "0 1976-05-18    anaheim mighty ducks   24.952772    1976  24.543462  \n",
       "1 1980-03-18    anaheim mighty ducks   21.119781    1980  24.332277  \n",
       "2 1976-02-07  severstal cherepovetal   25.229295    1976  28.680111  \n",
       "3 1971-08-28           ak bars kazan   29.675565    1971  26.827421  \n",
       "4 1977-11-03           dynamo moscow   23.490760    1977  28.734694  "
      ]
     },
     "execution_count": 4,
     "metadata": {},
     "output_type": "execute_result"
    }
   ],
   "source": [
    "df = pd.read_csv('hockey_players.csv',  encoding='cp1251', parse_dates=['birth'])\n",
    "df.head()"
   ]
  },
  {
   "cell_type": "code",
   "execution_count": 7,
   "metadata": {},
   "outputs": [
    {
     "data": {
      "text/plain": [
       "array([24.95277207, 21.11978097, 25.229295  , ..., 26.82546201,\n",
       "       26.01232033, 20.39698836])"
      ]
     },
     "execution_count": 7,
     "metadata": {},
     "output_type": "execute_result"
    }
   ],
   "source": [
    "x2 = df[['height', 'weight']].values\n",
    "\n",
    "y2 = df['age'].values\n",
    "y2"
   ]
  },
  {
   "cell_type": "markdown",
   "metadata": {},
   "source": [
    "К матрице $X$ (массив `x2`) нужно также добавить столбец из $1$, соответствующий фиктивному фактору."
   ]
  },
  {
   "cell_type": "code",
   "execution_count": 31,
   "metadata": {},
   "outputs": [
    {
     "data": {
      "text/plain": [
       "((6292, 3), (6292,))"
      ]
     },
     "execution_count": 31,
     "metadata": {},
     "output_type": "execute_result"
    }
   ],
   "source": [
    "x2.shape, y2.shape"
   ]
  },
  {
   "cell_type": "code",
   "execution_count": 11,
   "metadata": {},
   "outputs": [],
   "source": [
    "ones = np.ones((x2.shape[0], 1))\n",
    "x2 = np.hstack((ones, x2))"
   ]
  },
  {
   "cell_type": "code",
   "execution_count": 12,
   "metadata": {},
   "outputs": [
    {
     "data": {
      "text/plain": [
       "(6292, 3)"
      ]
     },
     "execution_count": 12,
     "metadata": {},
     "output_type": "execute_result"
    }
   ],
   "source": [
    "x2.shape"
   ]
  },
  {
   "cell_type": "code",
   "execution_count": 13,
   "metadata": {},
   "outputs": [
    {
     "data": {
      "text/plain": [
       "array([[  1., 185.,  84.],\n",
       "       [  1., 188.,  86.],\n",
       "       [  1., 182.,  95.],\n",
       "       ...,\n",
       "       [  1., 191.,  88.],\n",
       "       [  1., 188.,  89.],\n",
       "       [  1., 193.,  95.]])"
      ]
     },
     "execution_count": 13,
     "metadata": {},
     "output_type": "execute_result"
    }
   ],
   "source": [
    "x2"
   ]
  },
  {
   "cell_type": "markdown",
   "metadata": {},
   "source": [
    "Запишем матрицу $X^\\top X$ и посчитаем её определитель."
   ]
  },
  {
   "cell_type": "code",
   "execution_count": 14,
   "metadata": {},
   "outputs": [
    {
     "data": {
      "text/plain": [
       "181879883283410.0"
      ]
     },
     "execution_count": 14,
     "metadata": {},
     "output_type": "execute_result"
    }
   ],
   "source": [
    "XTX = x2.T.dot(x2)\n",
    "\n",
    "np.linalg.det(XTX)"
   ]
  },
  {
   "cell_type": "markdown",
   "metadata": {},
   "source": [
    "Определитель не близок к нулю, поэтому проблем с методом нет. Коэффициенты модели:"
   ]
  },
  {
   "cell_type": "code",
   "execution_count": 15,
   "metadata": {},
   "outputs": [
    {
     "name": "stdout",
     "output_type": "stream",
     "text": [
      "[49.70252952 -0.190563    0.1438651 ]\n"
     ]
    }
   ],
   "source": [
    "XTX_inv = np.linalg.inv(XTX)\n",
    "\n",
    "b = XTX_inv.dot(x2.T).dot(y2)\n",
    "\n",
    "print(b)"
   ]
  },
  {
   "cell_type": "markdown",
   "metadata": {},
   "source": [
    "Итак, наша модель регрессии имеет вид:\n",
    "$$y = 49.702 - 0.19 \\cdot x_1 + 0.144 \\cdot x_2,$$\n",
    "где $x_1$ — рост хоккеиста, $x_2$ — вес хоккеиста.\n",
    "\n"
   ]
  },
  {
   "cell_type": "code",
   "execution_count": 52,
   "metadata": {},
   "outputs": [
    {
     "name": "stdout",
     "output_type": "stream",
     "text": [
      "<class 'sklearn.linear_model.base.LinearRegression'>\n"
     ]
    },
    {
     "data": {
      "text/plain": [
       "(49.702529523972004, array([ 0.       , -0.190563 ,  0.1438651]))"
      ]
     },
     "execution_count": 52,
     "metadata": {},
     "output_type": "execute_result"
    }
   ],
   "source": [
    "from sklearn.linear_model import LinearRegression\n",
    "model2 = LinearRegression().fit(x2, y2)\n",
    "print(type(model2))\n",
    "model2.intercept_, model2.coef_"
   ]
  },
  {
   "cell_type": "markdown",
   "metadata": {},
   "source": [
    "__Коэффициент детерминации__\n",
    "\n",
    "Рассмотрим случайную ошибку\n",
    "$$\\varepsilon = y - x \\cdot b$$\n",
    "\n",
    "Коэффициенты модели линейной регрессии подбираются так, чтобы математическое ожидание ошибки было равно нулю:\n",
    "$$M(\\varepsilon) = 0$$\n",
    "\n",
    "Теперь качество модели определяет дисперсия ошибки $D(\\varepsilon)$. Если и математическое ожидание, и дисперсия ошибки близки к нулю, это свидетельствует о высоком качестве модели, т.е. в этом случае модель хорошо соответствует имеющимся данным. Эта интуиция приводит нас к __коэффициенту детерминации__:\n",
    "$$R^2 = 1 - \\dfrac{D(\\varepsilon)}{D(y)}$$\n",
    "\n",
    "Коэффициент детерминации принимает значения из интервала $[0, 1]$. Близкие к $1$ значения коэффициента детерминации свидетельствуют о высоком качестве модели.\n",
    "\n",
    "Чтобы посчитать коэффициент детерминации, построим «предсказанные» моделью значения\n",
    "$$Z = X \\cdot b$$\n",
    "\n",
    "Пусть $SS_Y = \\displaystyle\\sum_{i = 1}^n (y_i - \\overline{Y})^2$ — сумма квадратов отклонений значений массива $Y$ от среднего, а $SS_{res}$ — _остаточная сумма квадратов отклонений_ $SS_{res} = \\displaystyle\\sum_{i = 1}^n (y_i - {Z})^2$\n",
    "\n",
    "__Коэффициент детерминации__:\n",
    "$$R^2 = 1 - \\dfrac{SS_{res}}{SS_{y}}$$"
   ]
  },
  {
   "cell_type": "markdown",
   "metadata": {},
   "source": [
    "__Пример 3__\n",
    "\n",
    "Посчитаем коэффициент детерминации для модели из предыдущих примеров. Для примера 1:"
   ]
  },
  {
   "cell_type": "code",
   "execution_count": 19,
   "metadata": {},
   "outputs": [],
   "source": [
    "z1 = b0 + b1 * x1\n",
    "# e1 = y1 - z1 "
   ]
  },
  {
   "cell_type": "code",
   "execution_count": 21,
   "metadata": {},
   "outputs": [],
   "source": [
    "def sum_of_squares(samples):\n",
    "    return ((samples - samples.mean()) ** 2).sum()"
   ]
  },
  {
   "cell_type": "code",
   "execution_count": 24,
   "metadata": {},
   "outputs": [
    {
     "data": {
      "text/plain": [
       "0.6752261641274688"
      ]
     },
     "execution_count": 24,
     "metadata": {},
     "output_type": "execute_result"
    }
   ],
   "source": [
    "R1 = 1 - ((y1 - z1)**2).sum() / sum_of_squares(y1)\n",
    "R1"
   ]
  },
  {
   "cell_type": "markdown",
   "metadata": {},
   "source": [
    "Коэффициент детерминации, равный $0.6752$, означает, что $67 \\%$ дисперсии переменной $y$ _учитывается_ или _объясняется_ моделью. Оставшиеся $33 \\%$ обусловлены какими-то ещё факторами, которые при построении модели не учитывались."
   ]
  },
  {
   "cell_type": "markdown",
   "metadata": {},
   "source": [
    "Также посчитаем коэффициент деретминации для примера 2:"
   ]
  },
  {
   "cell_type": "code",
   "execution_count": 25,
   "metadata": {},
   "outputs": [],
   "source": [
    "z2 = x2.dot(b)\n",
    "# e2 = y2 - z2"
   ]
  },
  {
   "cell_type": "code",
   "execution_count": 27,
   "metadata": {},
   "outputs": [
    {
     "data": {
      "text/plain": [
       "0.034533842266700754"
      ]
     },
     "execution_count": 27,
     "metadata": {},
     "output_type": "execute_result"
    }
   ],
   "source": [
    "R2 = 1 - ((y2 - z2)**2).sum() / sum_of_squares(y2)\n",
    "R2"
   ]
  },
  {
   "cell_type": "markdown",
   "metadata": {},
   "source": [
    "Как мы видим, коэффициент детерминации для второй модели оказался очень низок. Признаки, которые мы выбрали, объясняют лишь малый процент дисперсии переменной $y$:"
   ]
  },
  {
   "cell_type": "markdown",
   "metadata": {},
   "source": [
    "Несмотря на то, что теоретически коэффициент детерминации принимает значения от $0$ до $1$, значение коэффициента детерминации ниже $1$ не означает, что модель построена плохо (и могла бы быть лучше). \n",
    "\n",
    "Рассмотрим модель, построенную с помощью метода наименьших квадратов. (Напомним, что такая модель является наилучшей моделью линейной регрессии, которую можно построить на имеющихся данных.) Пусть $r_{YZ}$ — коэффициент корреляции Пирсона между массивами $Y$ и $Z$. Оказывается, в таком случае справедливо равенство:\n",
    "$$R^2 = r_{YZ}^2$$\n",
    "\n",
    "Таким образом, коэффициент детерминации прямо зависит от уровня корреляции в данных и не может достигнуть $1$, если в данных нет линейной зависимости."
   ]
  },
  {
   "cell_type": "markdown",
   "metadata": {},
   "source": [
    "__Пример 4__\n",
    "\n",
    "Сгенерируем два набора данных: в одном корреляция между признаками высокая, в другом — низкая. Построим для каждого набора модель линейной регрессии и посчитаем коэффициент детерминации."
   ]
  },
  {
   "cell_type": "code",
   "execution_count": 28,
   "metadata": {
    "scrolled": true
   },
   "outputs": [
    {
     "data": {
      "image/png": "[encoded data removed]",
      "text/plain": [
       "<Figure size 648x288 with 2 Axes>"
      ]
     },
     "metadata": {},
     "output_type": "display_data"
    }
   ],
   "source": [
    "fig, (ax1, ax2) = plt.subplots(ncols=2)\n",
    "fig.set_size_inches(9, 4)\n",
    "\n",
    "x, y = np.random.multivariate_normal(mean=[0, 0], cov=[[1, 0.9], [0.9, 1]], size=200).T\n",
    "b1_ = np.cov(x, y)[0, 1] / np.var(x)\n",
    "b0_ = y.mean() - b1_ * x.mean()\n",
    "\n",
    "ax1.scatter(x, y)\n",
    "ax1.plot(x, b0_ + b1_ * x, color='red', alpha=0.5)\n",
    "ax1.set_title(f'Коэффициент детерминации: {round(np.corrcoef(x, y)[0, 1] ** 2, 2)}')\n",
    "\n",
    "x, y = np.random.multivariate_normal(mean=[0, 0], cov=[[1, 0.4], [0.4, 1]], size=200).T\n",
    "b1_ = np.cov(x, y)[0, 1] / np.var(x)\n",
    "b0_ = y.mean() - b1_ * x.mean()\n",
    "\n",
    "ax2.scatter(x, y)\n",
    "ax2.plot(x, b0_ + b1_ * x, color='red', alpha=0.5)\n",
    "ax2.set_title(f'Коэффициент детерминации: {round(np.corrcoef(x, y)[0, 1] ** 2, 2)}')\n",
    "\n",
    "plt.show()"
   ]
  },
  {
   "cell_type": "markdown",
   "metadata": {},
   "source": [
    "Как мы видим, хорошее качество первой модели и низкое качество второй обусловлены не качеством проделанной работы, а наличием зависимости в данных."
   ]
  },
  {
   "cell_type": "markdown",
   "metadata": {},
   "source": [
    "### Статистический анализ уравнения регрессии\n",
    "\n",
    "Итак, ранее мы установили, что верхняя граница коэффициента детерминации для модели линейной регрессии, построенной по имеющимся данным, не всегда равна $1$. Так как же тогда определить, какой коэффициент детерминации означает значимый уровень соответствия модели данным, а какой — нет?\n",
    "\n",
    "Для таких целей существует т.н. __F-тест Фишера__. Формально при таком тесте проверяется нулевая гипотеза о том, что теоретический коэффициент детерминации (т.е. для модели, построенной для случайных величин) равен $0$, т.е. что в имеющихся данных вообще нет никакой зависимости. \n",
    "\n",
    "При F-тесте используется статистика:\n",
    "$$F = \\dfrac{R^2 / m}{(1 - R^2) / (n - m - 1)},$$\n",
    "где $R^2$ — коэффициент детерминации, $n$ — число наблюдений, $m$ — число факторов. Такая статистика в предположении верности нулевой гипотезы имеет __F-распределение Фишера__ с параметрами $k_1 = m$, $k_2 = n - m - 1$.\n",
    "\n",
    "Распределение Фишера имеет один хвост, поэтому рассматривается правосторонняя критическая область $\\Omega_\\alpha = \\left( t_{1 - \\alpha, \\: k_1, k_2}, \\infty \\right)$, где $t_{\\beta, \\: k_1, k_2}$ — квантиль порядка $\\beta$ для распределения Фишера с параметрами $k_1$, $k_2$.\n",
    "\n",
    "Если статистика попадает в критическую область, то гипотеза о равенстве нулю коэффициента детерминации отвергается. Это означает, что построенная нами модель значимо соответствует данным."
   ]
  },
  {
   "cell_type": "markdown",
   "metadata": {},
   "source": [
    "__Пример 5__\n",
    "\n",
    "Проверим значимость уравнений регрессии, построенных в первом и втором примерах. В первом примере:"
   ]
  },
  {
   "cell_type": "code",
   "execution_count": 29,
   "metadata": {},
   "outputs": [
    {
     "data": {
      "text/plain": [
       "(1, 10)"
      ]
     },
     "execution_count": 29,
     "metadata": {},
     "output_type": "execute_result"
    }
   ],
   "source": [
    "n = x1.shape[0]\n",
    "m = 1\n",
    "\n",
    "k1 = m\n",
    "k2 = n - m - 1\n",
    "\n",
    "k1, k2"
   ]
  },
  {
   "cell_type": "markdown",
   "metadata": {},
   "source": [
    "Возьмём уровень значимости $\\alpha = 0.05$. Нужный нам квантиль можно посчитать с помощью функции `scipy.stats.f.ppf`:"
   ]
  },
  {
   "cell_type": "code",
   "execution_count": 45,
   "metadata": {},
   "outputs": [],
   "source": [
    "from scipy import stats"
   ]
  },
  {
   "cell_type": "code",
   "execution_count": 31,
   "metadata": {},
   "outputs": [
    {
     "data": {
      "text/plain": [
       "4.9646027437307145"
      ]
     },
     "execution_count": 31,
     "metadata": {},
     "output_type": "execute_result"
    }
   ],
   "source": [
    "alpha = 0.05\n",
    "\n",
    "t = stats.f.ppf(1 - alpha, k1, k2)\n",
    "t"
   ]
  },
  {
   "cell_type": "markdown",
   "metadata": {},
   "source": [
    "Итак, критическая область:\n",
    "$$\\Omega_\\alpha = \\left( 4.96, \\infty \\right)$$"
   ]
  },
  {
   "cell_type": "code",
   "execution_count": 39,
   "metadata": {},
   "outputs": [
    {
     "data": {
      "text/plain": [
       "<matplotlib.collections.PolyCollection at 0x125ae99d0>"
      ]
     },
     "execution_count": 39,
     "metadata": {},
     "output_type": "execute_result"
    },
    {
     "data": {
      "image/png": "[encoded data removed]",
      "text/plain": [
       "<Figure size 432x288 with 1 Axes>"
      ]
     },
     "metadata": {},
     "output_type": "display_data"
    }
   ],
   "source": [
    "ox = np.linspace(0, 6, 500)\n",
    "oy = stats.f.pdf(ox, k1, k2)\n",
    "\n",
    "ox_right = np.linspace(t, 6, 100)\n",
    "oy_right = stats.f.pdf(ox_right, k1, k2)\n",
    "\n",
    "plt.plot(ox, oy)\n",
    "plt.fill_between(ox_right, oy_right, alpha=0.5)\n",
    "\n",
    "# plt.ylim(0, 0.5)"
   ]
  },
  {
   "cell_type": "markdown",
   "metadata": {},
   "source": [
    "Считаем значение статистики:"
   ]
  },
  {
   "cell_type": "code",
   "execution_count": 40,
   "metadata": {},
   "outputs": [
    {
     "data": {
      "text/plain": [
       "20.79065766838693"
      ]
     },
     "execution_count": 40,
     "metadata": {},
     "output_type": "execute_result"
    }
   ],
   "source": [
    "F = (R1 / k1) / ((1 - R1) / k2)\n",
    "F"
   ]
  },
  {
   "cell_type": "markdown",
   "metadata": {},
   "source": [
    "Статистика попала в критическую область, уравнение регрессии признаётся значимым.\n",
    "\n",
    "Теперь то же самое для второго примера."
   ]
  },
  {
   "cell_type": "code",
   "execution_count": 42,
   "metadata": {},
   "outputs": [
    {
     "data": {
      "text/plain": [
       "(2, 6289)"
      ]
     },
     "execution_count": 42,
     "metadata": {},
     "output_type": "execute_result"
    }
   ],
   "source": [
    "n = x2.shape[0]\n",
    "m = x2.shape[1] - 1  # поскольку добавляли фиктивный столбец\n",
    "\n",
    "k1 = m\n",
    "k2 = n - m - 1\n",
    "\n",
    "k1, k2"
   ]
  },
  {
   "cell_type": "markdown",
   "metadata": {},
   "source": [
    "Критическая область:"
   ]
  },
  {
   "cell_type": "code",
   "execution_count": 46,
   "metadata": {},
   "outputs": [
    {
     "data": {
      "text/plain": [
       "2.9971597282399225"
      ]
     },
     "execution_count": 46,
     "metadata": {},
     "output_type": "execute_result"
    }
   ],
   "source": [
    "alpha = 0.05\n",
    "\n",
    "t = stats.f.ppf(1 - alpha, k1, k2)\n",
    "t"
   ]
  },
  {
   "cell_type": "markdown",
   "metadata": {},
   "source": [
    "Статистика:"
   ]
  },
  {
   "cell_type": "code",
   "execution_count": 43,
   "metadata": {},
   "outputs": [
    {
     "data": {
      "text/plain": [
       "112.47589171078735"
      ]
     },
     "execution_count": 43,
     "metadata": {},
     "output_type": "execute_result"
    }
   ],
   "source": [
    "F = (R2 / k1) / ((1 - R2) / k2)\n",
    "F"
   ]
  },
  {
   "cell_type": "code",
   "execution_count": 50,
   "metadata": {},
   "outputs": [
    {
     "name": "stdout",
     "output_type": "stream",
     "text": [
      "                            OLS Regression Results                            \n",
      "==============================================================================\n",
      "Dep. Variable:                      y   R-squared:                       0.035\n",
      "Model:                            OLS   Adj. R-squared:                  0.034\n",
      "Method:                 Least Squares   F-statistic:                     112.5\n",
      "Date:                Sat, 21 Aug 2021   Prob (F-statistic):           1.01e-48\n",
      "Time:                        09:56:48   Log-Likelihood:                -17960.\n",
      "No. Observations:                6292   AIC:                         3.593e+04\n",
      "Df Residuals:                    6289   BIC:                         3.595e+04\n",
      "Df Model:                           2                                         \n",
      "Covariance Type:            nonrobust                                         \n",
      "==============================================================================\n",
      "                 coef    std err          t      P>|t|      [0.025      0.975]\n",
      "------------------------------------------------------------------------------\n",
      "const         49.7025      1.985     25.045      0.000      45.812      53.593\n",
      "x1            -0.1906      0.014    -13.958      0.000      -0.217      -0.164\n",
      "x2             0.1439      0.011     13.630      0.000       0.123       0.165\n",
      "==============================================================================\n",
      "Omnibus:                      142.786   Durbin-Watson:                   1.828\n",
      "Prob(Omnibus):                  0.000   Jarque-Bera (JB):              150.961\n",
      "Skew:                           0.373   Prob(JB):                     1.66e-33\n",
      "Kurtosis:                       2.860   Cond. No.                     7.63e+03\n",
      "==============================================================================\n",
      "\n",
      "Warnings:\n",
      "[1] Standard Errors assume that the covariance matrix of the errors is correctly specified.\n",
      "[2] The condition number is large, 7.63e+03. This might indicate that there are\n",
      "strong multicollinearity or other numerical problems.\n"
     ]
    }
   ],
   "source": [
    "import statsmodels.api as sm\n",
    "model = sm.OLS(y2, x2)\n",
    "results = model.fit()\n",
    "print(results.summary())"
   ]
  },
  {
   "cell_type": "markdown",
   "metadata": {},
   "source": [
    "Второе уравнение регрессии также признаётся значимым."
   ]
  },
  {
   "cell_type": "markdown",
   "metadata": {},
   "source": [
    "__Доверительные интервалы для коэффициентов парной регрессии__\n",
    "\n",
    "В случае парной регрессии можно построить доверительные интервалы для коэффициентов регрессии.\n",
    "\n",
    "__Смысл__ доверительных интервалов тут в том, что, как мы уже отмечали ранее, модель линейной регрессии можно построить прямо по случайным величинам. Это значит, что, построив модель по имеющимся данным, можно построить доверительные интервалы и посмотреть, насколько далеко могут быть реальные значения коэффициентов регрессии от построенных нами.\n",
    "\n",
    "Начнём с коэффициента наклона $b_1$. Допустим, мы получили коэффициент наклона $\\hat{b}_1$, и пусть $b_1$ — реальное значение этого коэффициента. Рассмотрим статистику\n",
    "$$t = \\dfrac{\\hat{b}_1 - b_1}{S_{slope}},$$\n",
    "где $S_{slope}$ — __стандартная ошибка коэффициента наклона__:\n",
    "$$S_{slope} = \\sqrt{\\dfrac{\\frac{1}{n - 2} \\displaystyle\\sum_{i=1}^{n}e_i^2}{\\displaystyle\\sum_{i=1}^n (x_i - \\overline{X})^2}}$$\n",
    "Здесь $e_i$ — значение ошибки на $i$-м объекте, т.е. $e_i = y_i - z_i$.\n",
    "\n",
    "Статистика $t$ имеет распределение Стьюдента с параметром $df = n - 2$. Отсюда можно, имея доверительную вероятность $p$, построить __доверительный интервал для коэффициента наклона__ по формуле:\n",
    "$$P \\left( \\hat{b}_1 + t_{\\alpha/2, \\: n - 2} \\cdot S_{slope} \\leq b_1 \\leq \\hat{b}_1 + t_{1 - \\alpha/2, \\: n - 2} \\cdot S_{slope} \\right) = p,$$\n",
    "где $\\alpha = 1 - p$, $t_{\\beta, n - 2}$ — квантиль порядка $\\beta$ для распределения Стьюдента.\n",
    "\n",
    "Аналогично можно построить доверительный интервал для коэффициента сдвига $b_0$. __Стандартная ошибка коэффициента сдвига__ вычисляется по формуле:\n",
    "$$S_{intercept} = S_{slope} \\cdot \\sqrt{\\dfrac{1}{n} \\displaystyle\\sum_{i=1}^n x_i^2}$$\n",
    "\n",
    "Статистика\n",
    "$$t = \\dfrac{\\hat{b}_0 - b_0}{S_{intercept}}$$\n",
    "также имеет распределение Стьюдента с параметром $df = n - 2$. Итак, __доверительный интервал для коэффициента наклона__:\n",
    "$$P \\left( \\hat{b}_0 + t_{\\alpha/2, \\: n - 2} \\cdot S_{intercept} \\leq b_0 \\leq \\hat{b}_0 + t_{1 - \\alpha/2, \\: n - 2} \\cdot S_{intercept} \\right) = p$$"
   ]
  },
  {
   "cell_type": "markdown",
   "metadata": {},
   "source": [
    "__Пример 6__\n",
    "\n",
    "В примере 1 мы получили модель парной регрессии с коэффициентами:"
   ]
  },
  {
   "cell_type": "code",
   "execution_count": 45,
   "metadata": {},
   "outputs": [
    {
     "data": {
      "text/plain": [
       "(77.8996282527881, 0.8717472118959109)"
      ]
     },
     "execution_count": 45,
     "metadata": {},
     "output_type": "execute_result"
    }
   ],
   "source": [
    "b0, b1"
   ]
  },
  {
   "cell_type": "markdown",
   "metadata": {},
   "source": [
    "Построим для коэффициента наклона доверительный интервал."
   ]
  },
  {
   "cell_type": "code",
   "execution_count": 46,
   "metadata": {},
   "outputs": [],
   "source": [
    "def standard_error_slope(\n",
    "        x: np.ndarray,\n",
    "        y: np.ndarray,\n",
    "        z: np.ndarray,\n",
    ") -> float:\n",
    "    \"\"\"Стандартная ошибка коэффициента наклона.\n",
    "    \"\"\"\n",
    "    \n",
    "    n = x.shape[0]\n",
    "    \n",
    "    upper = ((y - z) ** 2).sum() / (n - 2)\n",
    "    lower = ((x - x.mean()) ** 2).sum()\n",
    "    \n",
    "    return np.sqrt(upper / lower)"
   ]
  },
  {
   "cell_type": "code",
   "execution_count": 47,
   "metadata": {},
   "outputs": [
    {
     "data": {
      "text/plain": [
       "0.19118616125822915"
      ]
     },
     "execution_count": 47,
     "metadata": {},
     "output_type": "execute_result"
    }
   ],
   "source": [
    "s_slope = standard_error_slope(x1, y1, z1)\n",
    "s_slope"
   ]
  },
  {
   "cell_type": "markdown",
   "metadata": {},
   "source": [
    "Зададим уровень доверия $p = 0.95$, т.е. $\\alpha = 0.05$. Найдём нужный нам квантиль."
   ]
  },
  {
   "cell_type": "code",
   "execution_count": 48,
   "metadata": {},
   "outputs": [
    {
     "data": {
      "text/plain": [
       "(-2.2281388519649385, 2.2281388519649385)"
      ]
     },
     "execution_count": 48,
     "metadata": {},
     "output_type": "execute_result"
    }
   ],
   "source": [
    "alpha = 0.05\n",
    "n = x1.shape[0]\n",
    "\n",
    "t1 = stats.t.ppf(alpha / 2, df=n - 2)\n",
    "t2 = stats.t.ppf(1 - alpha / 2, df=n - 2)\n",
    "\n",
    "t1, t2"
   ]
  },
  {
   "cell_type": "markdown",
   "metadata": {},
   "source": [
    "Доверительный интервал для параметра $b_1$:"
   ]
  },
  {
   "cell_type": "code",
   "execution_count": 49,
   "metadata": {},
   "outputs": [
    {
     "data": {
      "text/plain": [
       "(0.44575789803841653, 1.2977365257534053)"
      ]
     },
     "execution_count": 49,
     "metadata": {},
     "output_type": "execute_result"
    }
   ],
   "source": [
    "(b1 + t1 * s_slope, b1 + t2 * s_slope)"
   ]
  },
  {
   "cell_type": "markdown",
   "metadata": {},
   "source": [
    "Аналогично для параметра $b_0$:"
   ]
  },
  {
   "cell_type": "code",
   "execution_count": 50,
   "metadata": {},
   "outputs": [],
   "source": [
    "def standard_error_intercept(\n",
    "        x: np.ndarray,\n",
    "        y: np.ndarray,\n",
    "        z: np.ndarray,\n",
    ") -> float:\n",
    "    \"\"\"Стандартная ошибка коэффициента сдвига.\n",
    "    \"\"\"\n",
    "    \n",
    "    return standard_error_slope(x, y, z) * np.sqrt((x ** 2).mean())"
   ]
  },
  {
   "cell_type": "code",
   "execution_count": 51,
   "metadata": {},
   "outputs": [
    {
     "data": {
      "text/plain": [
       "17.56157028615461"
      ]
     },
     "execution_count": 51,
     "metadata": {},
     "output_type": "execute_result"
    }
   ],
   "source": [
    "s_intercept = standard_error_intercept(x1, y1, z1)\n",
    "s_intercept"
   ]
  },
  {
   "cell_type": "markdown",
   "metadata": {},
   "source": [
    "Квантиль нам подойдёт тот же самый. Итак, доверительный интервал для параметра $b_0$:"
   ]
  },
  {
   "cell_type": "code",
   "execution_count": 52,
   "metadata": {},
   "outputs": [
    {
     "data": {
      "text/plain": [
       "(38.770011196694, 117.02924530888221)"
      ]
     },
     "execution_count": 52,
     "metadata": {},
     "output_type": "execute_result"
    }
   ],
   "source": [
    "(b0 + t1 * s_intercept, b0 + t2 * s_intercept)"
   ]
  },
  {
   "cell_type": "markdown",
   "metadata": {},
   "source": [
    "__Зачем это нужно__\n",
    "\n",
    "Зачем нужны эти доверительные интервалы? Они позволяют оценить реальный вклад каждого фактора в итоговую переменную. Например, если доверительный интервал коэффициента содержит $0$, это свидетельствует о том, что соответствующий фактор не вносит значимого вклада в переменную."
   ]
  },
  {
   "cell_type": "markdown",
   "metadata": {},
   "source": [
    "__Резюме__\n",
    "\n",
    "Итак, подытожим весь описанный выше регрессионный анализ и возникающие в процессе величины:\n",
    "* Непосредственно факт наличия линейной взаимосвязи проверяется с помощью корреляционного анализа.\n",
    "* Если линейная зависимость наблюдается, можно построить модель линейной регрессии. Она укажет на характер этой зависимости (т.е. на то, каким именно образом изменяется переменная под влиянием факторов).\n",
    "* С помощью F-критерия Фишера можно проверить, является ли уровень зависимости в данных статистически значимым.\n",
    "* С помощью доверительных интервалов можно оценить реальный вклад каждого фактора в изменение переменной."
   ]
  },
  {
   "cell_type": "markdown",
   "metadata": {},
   "source": [
    "__Дополнительно__\n",
    "\n",
    "Помимо коэффициента детерминации другим способом оценки качества модели является __средняя ошибка аппроксимации__. Она вычисляется по формуле:\n",
    "\n",
    "$$\\overline{A} = \\frac{1}{n} \\displaystyle\\sum_{i=1}^{n} \\Bigl| {{\\frac{y_i - z_i}{y_i}} \\Bigr|}.$$\n",
    "\n",
    "Если $\\overline{A}$ не превышает $8-10 \\%$, можно сказать, что теоретические значения близки к тем, которые выдает модель линейной регрессии."
   ]
  },
  {
   "cell_type": "markdown",
   "metadata": {},
   "source": [
    "__Пример 7__\n",
    "\n",
    "Посчитаем среднюю ошибку аппроксимации для первых двух примеров."
   ]
  },
  {
   "cell_type": "code",
   "execution_count": null,
   "metadata": {},
   "outputs": [],
   "source": [
    "def mean_approximation_error(y_real, y_pred):\n",
    "    return np.abs((y_real - y_pred) / y_real).mean()"
   ]
  },
  {
   "cell_type": "markdown",
   "metadata": {},
   "source": [
    "Для примера 1:"
   ]
  },
  {
   "cell_type": "code",
   "execution_count": null,
   "metadata": {},
   "outputs": [],
   "source": [
    "mean_approximation_error(y1, z1)"
   ]
  },
  {
   "cell_type": "markdown",
   "metadata": {},
   "source": [
    "Для примера 2:"
   ]
  },
  {
   "cell_type": "code",
   "execution_count": null,
   "metadata": {},
   "outputs": [],
   "source": [
    "mean_approximation_error(y2, z2)"
   ]
  },
  {
   "cell_type": "markdown",
   "metadata": {},
   "source": [
    "### Упражнения"
   ]
  },
  {
   "cell_type": "markdown",
   "metadata": {},
   "source": [
    "__Задача 1__\n",
    "\n",
    "Дана матрица объект-признак\n",
    "```\n",
    "X = [[ 1.22401313,  2.30868478,  3.03636353,  2.69287214],\n",
    "     [-0.18757272,  1.30337355,  5.12093014,  3.46363202],\n",
    "     [-0.81094525,  1.82463398,  5.79686488,  1.86159445],\n",
    "     [ 0.75129018,  2.67392052,  3.65529809,  1.66746094],\n",
    "     [ 0.00972362,  1.97367255,  2.50594319,  1.69755173],\n",
    "     [-0.62972637,  0.77750764,  2.84124027,  4.54410559],\n",
    "     [ 2.29536229,  1.81206697,  1.95026215,  1.51874636],\n",
    "     [ 0.0920418 ,  2.26971361,  7.47708735,  2.61081203],\n",
    "     [ 2.39252799,  3.17563985,  3.61420599,  5.10773362],\n",
    "     [ 0.54983815,  2.87988651,  1.65752765,  1.59635987]]\n",
    "```\n",
    "и значения целевой переменной\n",
    "```\n",
    "y = [ 9.26193358,  9.700363  ,  8.67214805,  8.74796974,  6.18689108,\n",
    "      7.53312713,  7.57643777, 12.44965478, 14.29010746,  6.68361218]\n",
    "```\n",
    "\n",
    "1. Подберите два признака (из четырёх) так, чтобы уровень линейной зависимости целевой переменной от значений этих признаков был максимальным. Другими словами, модель линейной регрессии на этих признаках должна давать наилучший результат.\n",
    "2. Является ли значимым получившееся уравнение регрессии?\n",
    "\n",
    "__Задача 2__\n",
    "\n",
    "Даны значения величины заработной платы заемщиков банка (`salary`) и значения их поведенческого кредитного скоринга (`scoring`):\n",
    "```\n",
    "salary = [35, 45, 190, 200, 40, 70, 54, 150, 120, 110]\n",
    "scoring = [401, 574, 874, 919, 459, 739, 653, 902, 746, 832]\n",
    "```\n",
    "Возьмём в качестве признака значение `salary`, а в качестве целевой переменной - `scoring`.\n",
    "\n",
    "1. Найдите коэффициенты линейной регрессии с помощью формул для парной регрессии, а затем с помощью метода наименьших квадратов.\n",
    "2. Постройте `scatter plot` по данным и отметьте на нём прямую линейной регрессии, полученную в п. 1.\n",
    "3. Посчитайте коэффициент детерминации.\n",
    "4. Оцените построенное уравнение регрессии с помощью F-критерия Фишера.\n",
    "5. Оцените значимость получившихся параметров уравнения регрессии и постройте для них доверительные интервалы с помощью t-статистики Стьюдента.\n",
    "6. (доп) Посчитать среднюю ошибку аппроксимации"
   ]
  }
 ],
 "metadata": {
  "colab": {
   "collapsed_sections": [],
   "name": "Матстат - Урок 7.ipynb",
   "provenance": [],
   "version": "0.3.2"
  },
  "kernelspec": {
   "display_name": "Python 3 (ipykernel)",
   "language": "python",
   "name": "python3"
  },
  "language_info": {
   "codemirror_mode": {
    "name": "ipython",
    "version": 3
   },
   "file_extension": ".py",
   "mimetype": "text/x-python",
   "name": "python",
   "nbconvert_exporter": "python",
   "pygments_lexer": "ipython3",
   "version": "3.9.6"
  }
 },
 "nbformat": 4,
 "nbformat_minor": 4
}
