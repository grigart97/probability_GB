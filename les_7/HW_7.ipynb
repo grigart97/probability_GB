{
 "cells": [
  {
   "cell_type": "markdown",
   "id": "baa3a3db",
   "metadata": {},
   "source": [
    "## Домашнее задание 7"
   ]
  },
  {
   "cell_type": "code",
   "execution_count": 2,
   "id": "fa674d9c",
   "metadata": {},
   "outputs": [],
   "source": [
    "import numpy as np\n",
    "import pandas as pd\n",
    "from scipy import stats\n",
    "import matplotlib.pyplot as plt\n",
    "\n",
    "from sklearn.linear_model import LinearRegression"
   ]
  },
  {
   "cell_type": "markdown",
   "id": "b501585f",
   "metadata": {},
   "source": [
    "### __Задача 1__\n",
    "\n",
    "Дана матрица объект-признак\n",
    "```\n",
    "X = [[ 1.22401313,  2.30868478,  3.03636353,  2.69287214],\n",
    "     [-0.18757272,  1.30337355,  5.12093014,  3.46363202],\n",
    "     [-0.81094525,  1.82463398,  5.79686488,  1.86159445],\n",
    "     [ 0.75129018,  2.67392052,  3.65529809,  1.66746094],\n",
    "     [ 0.00972362,  1.97367255,  2.50594319,  1.69755173],\n",
    "     [-0.62972637,  0.77750764,  2.84124027,  4.54410559],\n",
    "     [ 2.29536229,  1.81206697,  1.95026215,  1.51874636],\n",
    "     [ 0.0920418 ,  2.26971361,  7.47708735,  2.61081203],\n",
    "     [ 2.39252799,  3.17563985,  3.61420599,  5.10773362],\n",
    "     [ 0.54983815,  2.87988651,  1.65752765,  1.59635987]]\n",
    "```\n",
    "и значения целевой переменной\n",
    "```\n",
    "y = [ 9.26193358,  9.700363  ,  8.67214805,  8.74796974,  6.18689108,\n",
    "      7.53312713,  7.57643777, 12.44965478, 14.29010746,  6.68361218]\n",
    "```\n",
    "\n",
    "1. Подберите два признака (из четырёх) так, чтобы уровень линейной зависимости целевой переменной от значений этих признаков был максимальным. Другими словами, модель линейной регрессии на этих признаках должна давать наилучший результат.\n",
    "2. Является ли значимым получившееся уравнение регрессии?"
   ]
  },
  {
   "cell_type": "code",
   "execution_count": 3,
   "id": "25b1bc9c",
   "metadata": {},
   "outputs": [],
   "source": [
    "X = pd.DataFrame([[ 1.22401313,  2.30868478,  3.03636353,  2.69287214],\n",
    "                  [-0.18757272,  1.30337355,  5.12093014,  3.46363202],\n",
    "                  [-0.81094525,  1.82463398,  5.79686488,  1.86159445],\n",
    "                  [ 0.75129018,  2.67392052,  3.65529809,  1.66746094],\n",
    "                  [ 0.00972362,  1.97367255,  2.50594319,  1.69755173],\n",
    "                  [-0.62972637,  0.77750764,  2.84124027,  4.54410559],\n",
    "                  [ 2.29536229,  1.81206697,  1.95026215,  1.51874636],\n",
    "                  [ 0.0920418 ,  2.26971361,  7.47708735,  2.61081203],\n",
    "                  [ 2.39252799,  3.17563985,  3.61420599,  5.10773362],\n",
    "                  [ 0.54983815,  2.87988651,  1.65752765,  1.59635987]], columns=[f'f_{i}' for i in range(4)])\n",
    "y = np.array([ 9.26193358,  9.700363  ,  8.67214805,  8.74796974,  6.18689108,\n",
    "              7.53312713,  7.57643777, 12.44965478, 14.29010746,  6.68361218])"
   ]
  },
  {
   "cell_type": "markdown",
   "id": "bb7f2c22",
   "metadata": {},
   "source": [
    "$$R^2=\\frac{SS_{res}}{SS_y}=\\frac{\\sum_{i=1}^n(y_i-z)^2}{\\sum^n_{i=1}(y_i-\\overline{y})^2}$$"
   ]
  },
  {
   "cell_type": "markdown",
   "id": "c7f7c94c",
   "metadata": {},
   "source": [
    "__Необходимо найти и сравнить $R^2$ для всех пар признаков__, но я потренируюсь делать всё (_уж простите_)"
   ]
  },
  {
   "cell_type": "markdown",
   "id": "ba6c13f2",
   "metadata": {},
   "source": [
    "#### Сначала попробуем сделать это для отдельных признаков:"
   ]
  },
  {
   "cell_type": "markdown",
   "id": "824abd2a",
   "metadata": {},
   "source": [
    "$$b_1=\\frac{\\overline{xy}-\\overline{x}\\cdot\\overline{y}}{\\overline{x^2}-(\\overline{x})^2},\\enspace\n",
    "  b_0=\\overline{y}-b_1\\cdot\\overline{x}$$"
   ]
  },
  {
   "cell_type": "code",
   "execution_count": 190,
   "id": "422a3524",
   "metadata": {},
   "outputs": [],
   "source": [
    "def find_b(x, y):\n",
    "    b_1 = (np.mean(x * y) - np.mean(x) * np.mean(y)) / (np.mean(x ** 2) - np.mean(x) ** 2)\n",
    "    b_0 = np.mean(y) - b_1 * np.mean(x)\n",
    "#     print(b_0, b_1)\n",
    "    return [b_0, b_1]\n",
    "\n",
    "def find_R(z, y):\n",
    "    return 1 - ((y - z) ** 2).sum() / ((y - np.mean(y)) ** 2).sum()\n",
    "\n",
    "def find_best_feat(X, features: list, y):\n",
    "    R = {}\n",
    "    for feat in features:\n",
    "        b = find_b(X[feat].values, y)\n",
    "        z = b[0] + b[1] * X[feat].values\n",
    "        R[feat] = find_R(z, y)\n",
    "    return R"
   ]
  },
  {
   "cell_type": "code",
   "execution_count": 191,
   "id": "1bf16e60",
   "metadata": {},
   "outputs": [
    {
     "data": {
      "text/plain": [
       "{'f_0': 0.12367649337263598,\n",
       " 'f_1': 0.1598866984529116,\n",
       " 'f_2': 0.33946640354041757,\n",
       " 'f_3': 0.3635086384600962}"
      ]
     },
     "execution_count": 191,
     "metadata": {},
     "output_type": "execute_result"
    }
   ],
   "source": [
    "find_best_feat(X, [f'f_{i}' for i in range(4)], y)"
   ]
  },
  {
   "cell_type": "markdown",
   "id": "6b130390",
   "metadata": {},
   "source": [
    "Таким образом, целевая переменная имеет самый самый большой уровень линейной зависимости от `f_3`."
   ]
  },
  {
   "cell_type": "markdown",
   "id": "e95c5253",
   "metadata": {},
   "source": [
    "#### Далее для пар признаков:"
   ]
  },
  {
   "cell_type": "markdown",
   "id": "12b0c28e",
   "metadata": {},
   "source": [
    "$$b=(X^TX)^{-1}X^TY$$"
   ]
  },
  {
   "cell_type": "code",
   "execution_count": 202,
   "id": "fdde009d",
   "metadata": {},
   "outputs": [],
   "source": [
    "def find_b2(X, y):\n",
    "    X = np.hstack((np.ones((X.shape[0], 1)), X))\n",
    "    XTX = X.T.dot(X)\n",
    "    if np.linalg.det(XTX) == 0:\n",
    "        print('Определитель матрицы ковариации равен нулю')\n",
    "        return []\n",
    "    XTX_inv = np.linalg.inv(XTX)\n",
    "    return XTX_inv.dot(X.T).dot(y)\n",
    "\n",
    "def predict(b: list, x):\n",
    "    z = x * b[1:]\n",
    "    if len(z.shape) > 1:\n",
    "        z = np.array([a.sum() for a in z])\n",
    "    return b[0] + z\n",
    "\n",
    "def find_2_best_feat(X, y):\n",
    "    R_all = np.array([])\n",
    "    feat_pairs = []\n",
    "    was = []\n",
    "    for feat1 in X.columns:\n",
    "        was.append(feat1)\n",
    "        for feat2 in np.setdiff1d(X.columns, feat1):\n",
    "            if not (feat2 in was):\n",
    "                b = find_b2(X[[feat1, feat2]].values, y)\n",
    "                z = predict(b, X[[feat1, feat2]].values)\n",
    "                feat_pairs.append(f'{feat1}/{feat2}')\n",
    "                R_all = np.append(R_all, find_R(z, y))\n",
    "    max_R = R_all.max()\n",
    "    R_all = np.vstack((feat_pairs, R_all)).T\n",
    "    return max_R, R_all"
   ]
  },
  {
   "cell_type": "code",
   "execution_count": 203,
   "id": "56a538f7",
   "metadata": {},
   "outputs": [
    {
     "name": "stdout",
     "output_type": "stream",
     "text": [
      "Лучший коэффициент детерминации - 0.7634246238793151\n",
      "Все значения:\n",
      "[['f_0/f_1' '0.18113594742585204']\n",
      " ['f_0/f_2' '0.7634246238793151']\n",
      " ['f_0/f_3' '0.4532966783144078']\n",
      " ['f_1/f_2' '0.5479482734039013']\n",
      " ['f_1/f_3' '0.6062055761129934']\n",
      " ['f_2/f_3' '0.6224419876505323']]\n"
     ]
    }
   ],
   "source": [
    "best_R, R = find_2_best_feat(X, y)\n",
    "print(f'Лучший коэффициент детерминации - {best_R}\\nВсе значения:\\n{R}')"
   ]
  },
  {
   "cell_type": "markdown",
   "id": "4a976a33",
   "metadata": {},
   "source": [
    "таким образом, целевая переменная имеет самый большой уровень линейной зависимости от пары признаков `f_0, f_2`."
   ]
  },
  {
   "cell_type": "markdown",
   "id": "034b6938",
   "metadata": {},
   "source": [
    "Проверим себяс помощью библиотеки __sklearn__:"
   ]
  },
  {
   "cell_type": "code",
   "execution_count": 154,
   "id": "46c0d424",
   "metadata": {},
   "outputs": [
    {
     "name": "stdout",
     "output_type": "stream",
     "text": [
      "                            OLS Regression Results                            \n",
      "==============================================================================\n",
      "Dep. Variable:                      y   R-squared:                       0.763\n",
      "Model:                            OLS   Adj. R-squared:                  0.696\n",
      "Method:                 Least Squares   F-statistic:                     11.29\n",
      "Date:                Wed, 25 Aug 2021   Prob (F-statistic):            0.00644\n",
      "Time:                        21:26:06   Log-Likelihood:                -15.767\n",
      "No. Observations:                  10   AIC:                             37.53\n",
      "Df Residuals:                       7   BIC:                             38.44\n",
      "Df Model:                           2                                         \n",
      "Covariance Type:            nonrobust                                         \n",
      "==============================================================================\n",
      "                 coef    std err          t      P>|t|      [0.025      0.975]\n",
      "------------------------------------------------------------------------------\n",
      "const          3.6246      1.261      2.875      0.024       0.643       6.606\n",
      "x1             1.6253      0.459      3.542      0.009       0.540       2.710\n",
      "x2             1.2113      0.278      4.351      0.003       0.553       1.870\n",
      "==============================================================================\n",
      "Omnibus:                        1.625   Durbin-Watson:                   2.459\n",
      "Prob(Omnibus):                  0.444   Jarque-Bera (JB):                0.302\n",
      "Skew:                           0.418   Prob(JB):                        0.860\n",
      "Kurtosis:                       3.161   Cond. No.                         12.7\n",
      "==============================================================================\n",
      "\n",
      "Notes:\n",
      "[1] Standard Errors assume that the covariance matrix of the errors is correctly specified.\n"
     ]
    },
    {
     "name": "stderr",
     "output_type": "stream",
     "text": [
      "/Library/Frameworks/Python.framework/Versions/3.9/lib/python3.9/site-packages/scipy/stats/stats.py:1541: UserWarning: kurtosistest only valid for n>=20 ... continuing anyway, n=10\n",
      "  warnings.warn(\"kurtosistest only valid for n>=20 ... continuing \"\n"
     ]
    }
   ],
   "source": [
    "x_ones = np.ones((X['f_0'].shape[0], 1))\n",
    "x_f0 = np.hstack((x_ones, X[['f_0','f_2']]))\n",
    "\n",
    "model = LinearRegression().fit(x_f0, y)\n",
    "\n",
    "import statsmodels.api as sm\n",
    "model = sm.OLS(y, x_f0)\n",
    "results = model.fit()\n",
    "print(results.summary())"
   ]
  },
  {
   "cell_type": "markdown",
   "id": "e44206b7",
   "metadata": {},
   "source": [
    "расчёты верны. Проверим, является ли значимым получившееся уравнение регресии с помощью __F-теста Фишера__"
   ]
  },
  {
   "cell_type": "markdown",
   "id": "d8b9789d",
   "metadata": {},
   "source": [
    "Нулевая гипотеза - между переменными нет зависимости."
   ]
  },
  {
   "cell_type": "markdown",
   "id": "cdd36df7",
   "metadata": {},
   "source": [
    "$$F=\\frac{R^2(n-m-1)}{m(1-R^2)}$$ \n",
    "где $R2$ — коэффициент детерминации, $n$ — число наблюдений, $m$ — число факторов."
   ]
  },
  {
   "cell_type": "code",
   "execution_count": 156,
   "id": "517eae34",
   "metadata": {},
   "outputs": [],
   "source": [
    "n_task1 = X.shape[0]\n",
    "m_task1 = 2\n",
    "a_task1 = 0.05\n",
    "k1 = m_task1\n",
    "k2 = n_task1 - m_task1 - 1"
   ]
  },
  {
   "cell_type": "code",
   "execution_count": 158,
   "id": "7ca6034c",
   "metadata": {},
   "outputs": [
    {
     "data": {
      "text/plain": [
       "4.73741412777588"
      ]
     },
     "execution_count": 158,
     "metadata": {},
     "output_type": "execute_result"
    }
   ],
   "source": [
    "t = stats.f.ppf(1 - a_task1, k1, k2)\n",
    "t"
   ]
  },
  {
   "cell_type": "code",
   "execution_count": 167,
   "id": "2fba0ecf",
   "metadata": {},
   "outputs": [
    {
     "data": {
      "text/plain": [
       "4.8896067473395695"
      ]
     },
     "execution_count": 167,
     "metadata": {},
     "output_type": "execute_result"
    }
   ],
   "source": [
    "F_task1 = best_R ** 2 * k2 / k1 / (1 - best_R ** 2)\n",
    "F_task1"
   ]
  },
  {
   "cell_type": "code",
   "execution_count": 173,
   "id": "39cf0bed",
   "metadata": {},
   "outputs": [
    {
     "data": {
      "text/plain": [
       "<matplotlib.collections.LineCollection at 0x7fe363f8fd00>"
      ]
     },
     "execution_count": 173,
     "metadata": {},
     "output_type": "execute_result"
    },
    {
     "data": {
      "image/png": "[encoded data removed]",
      "text/plain": [
       "<Figure size 432x288 with 1 Axes>"
      ]
     },
     "metadata": {
      "needs_background": "light"
     },
     "output_type": "display_data"
    }
   ],
   "source": [
    "ox = np.linspace(0, 6, 500)\n",
    "oy = stats.f.pdf(ox, k1, k2)\n",
    "\n",
    "ox_right = np.linspace(t, 6, 100)\n",
    "oy_right = stats.f.pdf(ox_right, k1, k2)\n",
    "\n",
    "plt.plot(ox, oy)\n",
    "plt.fill_between(ox_right, oy_right, alpha=0.5)\n",
    "plt.vlines(F_task1, 0, oy.max(), color='red')"
   ]
  },
  {
   "cell_type": "markdown",
   "id": "3c36f91f",
   "metadata": {},
   "source": [
    "F-статистика находится в критической области, что значит что нулевая гипотеза не подтвердилась. Между переменными есть зависимость или __Уравнене регрессии значимо__"
   ]
  },
  {
   "cell_type": "markdown",
   "id": "23377b50",
   "metadata": {},
   "source": [
    "### __Задача 2__\n",
    "\n",
    "Даны значения величины заработной платы заемщиков банка (`salary`) и значения их поведенческого кредитного скоринга (`scoring`):\n",
    "```\n",
    "salary = [35, 45, 190, 200, 40, 70, 54, 150, 120, 110]\n",
    "scoring = [401, 574, 874, 919, 459, 739, 653, 902, 746, 832]\n",
    "```\n",
    "Возьмём в качестве признака значение `salary`, а в качестве целевой переменной - `scoring`.\n",
    "\n",
    "1. Найдите коэффициенты линейной регрессии с помощью формул для парной регрессии, а затем с помощью метода наименьших квадратов.\n",
    "2. Постройте `scatter plot` по данным и отметьте на нём прямую линейной регрессии, полученную в п. 1.\n",
    "3. Посчитайте коэффициент детерминации.\n",
    "4. Оцените построенное уравнение регрессии с помощью F-критерия Фишера.\n",
    "5. Оцените значимость получившихся параметров уравнения регрессии и постройте для них доверительные интервалы с помощью t-статистики Стьюдента.\n",
    "6. (доп) Посчитать среднюю ошибку аппроксимации"
   ]
  },
  {
   "cell_type": "code",
   "execution_count": 174,
   "id": "3c1c616f",
   "metadata": {},
   "outputs": [],
   "source": [
    "salary = np.array([35, 45, 190, 200, 40, 70, 54, 150, 120, 110])\n",
    "scoring = np.array([401, 574, 874, 919, 459, 739, 653, 902, 746, 832])"
   ]
  },
  {
   "cell_type": "code",
   "execution_count": 206,
   "id": "b7c5ea90",
   "metadata": {},
   "outputs": [
    {
     "name": "stdout",
     "output_type": "stream",
     "text": [
      "С помощью формул для парной регрессии: [444.1773573243596, 2.620538882402765]\n",
      "с помощью метода наименьших квадратов: [444.17735732   2.62053888]\n"
     ]
    }
   ],
   "source": [
    "# 1 Найдите коэффициенты линейной регрессии с помощью формул для парной регрессии, \n",
    "# а затем с помощью метода наименьших квадратов.\n",
    "b = find_b(salary, scoring)\n",
    "b_sq = find_b2(salary.reshape(-1, 1), scoring)\n",
    "print(f'С помощью формул для парной регрессии: {b}\\nс помощью метода наименьших квадратов: {b_sq}')"
   ]
  },
  {
   "cell_type": "code",
   "execution_count": 215,
   "id": "9c101fed",
   "metadata": {},
   "outputs": [
    {
     "name": "stdout",
     "output_type": "stream",
     "text": [
      "Коэффициент детерминации: 0.79\n"
     ]
    },
    {
     "data": {
      "image/png": "[encoded data removed]",
      "text/plain": [
       "<Figure size 432x288 with 1 Axes>"
      ]
     },
     "metadata": {
      "needs_background": "light"
     },
     "output_type": "display_data"
    }
   ],
   "source": [
    "# 2. Постройте scatter plot по данным и отметьте на нём прямую линейной регрессии, полученную в п. 1.\n",
    "plt.scatter(salary, scoring)\n",
    "z = predict(b, salary)\n",
    "plt.plot(salary, z, color='red')\n",
    "\n",
    "print(f'Коэффициент детерминации: {round(np.corrcoef(salary, scoring)[0,1] ** 2, 2)}')\n",
    "plt.show()"
   ]
  },
  {
   "cell_type": "code",
   "execution_count": 217,
   "id": "86f5f3ec",
   "metadata": {},
   "outputs": [
    {
     "data": {
      "text/plain": [
       "0.7876386635293682"
      ]
     },
     "execution_count": 217,
     "metadata": {},
     "output_type": "execute_result"
    }
   ],
   "source": [
    "# 3. Посчитайте коэффициент детерминации.\n",
    "R_task2 = np.corrcoef(salary, scoring)[0,1] ** 2\n",
    "R_task2"
   ]
  },
  {
   "cell_type": "code",
   "execution_count": 224,
   "id": "11d69aef",
   "metadata": {},
   "outputs": [
    {
     "name": "stdout",
     "output_type": "stream",
     "text": [
      "t = 5.317655071578714\n",
      "F = 13.073409088886347\n",
      "уравнение значимо\n"
     ]
    }
   ],
   "source": [
    "# 4. Оцените построенное уравнение регрессии с помощью F-критерия Фишера.\n",
    "n_task2 = salary.shape[0]\n",
    "m_task2 = 1\n",
    "a_task2 = 0.05\n",
    "k1 = m_task2\n",
    "k2 = n_task2 - m_task2 - 1\n",
    "\n",
    "t = stats.f.ppf(1 - a_task2, k1, k2)\n",
    "\n",
    "F = R_task2 ** 2 * k2 / k1 / (1 - R_task2 ** 2)\n",
    "print(f't = {t}\\nF = {F}')\n",
    "print('уравнение значимо' if t < F else 'уравнение не значимо')"
   ]
  },
  {
   "cell_type": "code",
   "execution_count": null,
   "id": "cec38138",
   "metadata": {},
   "outputs": [],
   "source": []
  }
 ],
 "metadata": {
  "kernelspec": {
   "display_name": "Python 3 (ipykernel)",
   "language": "python",
   "name": "python3"
  },
  "language_info": {
   "codemirror_mode": {
    "name": "ipython",
    "version": 3
   },
   "file_extension": ".py",
   "mimetype": "text/x-python",
   "name": "python",
   "nbconvert_exporter": "python",
   "pygments_lexer": "ipython3",
   "version": "3.9.6"
  }
 },
 "nbformat": 4,
 "nbformat_minor": 5
}
